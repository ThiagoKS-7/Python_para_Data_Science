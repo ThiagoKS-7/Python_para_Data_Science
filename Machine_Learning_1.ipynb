{
 "cells": [
  {
   "cell_type": "markdown",
   "id": "20d3a50f",
   "metadata": {},
   "source": [
    "# <font color=green> PYTHON PARA DATA SCIENCE - PANDAS\n",
    "---"
   ]
  },
  {
   "cell_type": "markdown",
   "id": "4b0413d9",
   "metadata": {},
   "source": [
    "# 1.1 Primeiro Projeto"
   ]
  },
  {
   "cell_type": "code",
   "execution_count": 1,
   "id": "316e3dae",
   "metadata": {},
   "outputs": [],
   "source": [
    "#features\n",
    "#longo?\n",
    "#curta?\n",
    "#auau?\n",
    "porco1 = [0,1,0]\n",
    "porco2 = [0,1,1]\n",
    "porco3 = [1,1,0]\n",
    "\n",
    "cachorro1 = [0, 1, 1]\n",
    "cachorro2 = [1, 0, 1]\n",
    "cachorro3 = [1, 1, 1]\n",
    "\n",
    "train_x = [porco1, porco2, porco3, cachorro1, cachorro2, cachorro3]\n",
    "train_y = [1, 1, 1, 0, 0, 0] #labels"
   ]
  },
  {
   "cell_type": "code",
   "execution_count": 2,
   "id": "e5fc6f42",
   "metadata": {},
   "outputs": [
    {
     "data": {
      "text/plain": [
       "LinearSVC()"
      ]
     },
     "execution_count": 2,
     "metadata": {},
     "output_type": "execute_result"
    }
   ],
   "source": [
    "from sklearn.svm import LinearSVC\n",
    "model = LinearSVC()\n",
    "model.fit(train_x, train_y)"
   ]
  },
  {
   "cell_type": "code",
   "execution_count": 3,
   "id": "3e6e87a3",
   "metadata": {},
   "outputs": [
    {
     "name": "stdout",
     "output_type": "stream",
     "text": [
      "[INFO] Dados de teste criados!\n"
     ]
    }
   ],
   "source": [
    "animal1 = [1,0,0]\n",
    "animal2 = [1,0,1]\n",
    "animal3 = [1,1,0]\n",
    "results = []\n",
    "test_x = [animal1, animal2, animal3]\n",
    "test_y = [0,0,1]\n",
    "print('[INFO] Dados de teste criados!')"
   ]
  },
  {
   "cell_type": "code",
   "execution_count": 4,
   "id": "f538224b",
   "metadata": {},
   "outputs": [
    {
     "name": "stdout",
     "output_type": "stream",
     "text": [
      "[1 0 1]\n",
      "O resultado dos testes foi: ['Cachorro', 'Porco', 'Cachorro']\n"
     ]
    }
   ],
   "source": [
    "predict = model.predict(test_x) #essa merda devolve uma tuple .-.\n",
    "print(predict)\n",
    "\n",
    "for item in predict:\n",
    "    if (predict[item] == 0):\n",
    "        results.append('Cachorro')\n",
    "    else:\n",
    "        results.append('Porco')\n",
    "print(f'O resultado dos testes foi: {results}')\n"
   ]
  },
  {
   "cell_type": "code",
   "execution_count": 5,
   "id": "12fed175",
   "metadata": {},
   "outputs": [
    {
     "name": "stdout",
     "output_type": "stream",
     "text": [
      "A precisão foi de 66.67%\n"
     ]
    }
   ],
   "source": [
    "corretos = (predict == test_y).sum()\n",
    "total = len(test_x)\n",
    "acc = (corretos/total) * 100\n",
    "print(f'A precisão foi de {round(acc,2)}%')"
   ]
  },
  {
   "cell_type": "code",
   "execution_count": 6,
   "id": "c675b241",
   "metadata": {},
   "outputs": [],
   "source": [
    "from sklearn.metrics import accuracy_score"
   ]
  },
  {
   "cell_type": "code",
   "execution_count": 7,
   "id": "555e9169",
   "metadata": {},
   "outputs": [
    {
     "name": "stdout",
     "output_type": "stream",
     "text": [
      "A precisão foi de 66.67%\n"
     ]
    }
   ],
   "source": [
    "acc = accuracy_score(test_y,predict) * 100\n",
    "print(f'A precisão foi de {round(acc,2)}%')"
   ]
  },
  {
   "cell_type": "code",
   "execution_count": null,
   "id": "58e69068",
   "metadata": {},
   "outputs": [],
   "source": []
  }
 ],
 "metadata": {
  "kernelspec": {
   "display_name": "Python 3",
   "language": "python",
   "name": "python3"
  },
  "language_info": {
   "codemirror_mode": {
    "name": "ipython",
    "version": 3
   },
   "file_extension": ".py",
   "mimetype": "text/x-python",
   "name": "python",
   "nbconvert_exporter": "python",
   "pygments_lexer": "ipython3",
   "version": "3.6.13"
  }
 },
 "nbformat": 4,
 "nbformat_minor": 5
}
