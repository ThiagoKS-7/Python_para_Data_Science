{
 "cells": [
  {
   "cell_type": "markdown",
   "metadata": {
    "id": "W4bTJkJED0-t"
   },
   "source": [
    "# <font color=green> PYTHON PARA DATA SCIENCE - PANDAS\n",
    "---"
   ]
  },
  {
   "cell_type": "markdown",
   "metadata": {
    "id": "GOEcCc62D0-x"
   },
   "source": [
    "# <font color=green> 1. INTRODUÇÃO AO PYTHON\n",
    "---"
   ]
  },
  {
   "cell_type": "markdown",
   "metadata": {
    "id": "oGvoOJ-XD0-y"
   },
   "source": [
    "# 1.1 Introdução"
   ]
  },
  {
   "cell_type": "markdown",
   "metadata": {
    "id": "fam3BM0aD0-z"
   },
   "source": [
    "> Python é uma linguagem de programação de alto nível com suporte a múltiplos paradigmas de programação. É um projeto *open source* e desde seu surgimento, em 1991, vem se tornando uma das linguagens de programação interpretadas mais populares. \n",
    ">\n",
    "> Nos últimos anos Python desenvolveu uma comunidade ativa de processamento científico e análise de dados e vem se destacando como uma das linguagens mais relevantes quando o assundo é ciência de dados e machine learning, tanto no ambiente acadêmico como também no mercado."
   ]
  },
  {
   "cell_type": "markdown",
   "metadata": {
    "id": "6kH5DY-vD0-1"
   },
   "source": [
    "# 1.2 Instalação e ambiente de desenvolvimento"
   ]
  },
  {
   "cell_type": "markdown",
   "metadata": {
    "id": "BTpm79I2D0-2"
   },
   "source": [
    "### Instalação Local\n",
    "\n",
    "### https://www.python.org/downloads/\n",
    "### ou\n",
    "### https://www.anaconda.com/distribution/"
   ]
  },
  {
   "cell_type": "markdown",
   "metadata": {
    "id": "AuPS_XwRD0-3"
   },
   "source": [
    "### Google Colaboratory\n",
    "\n",
    "### https://colab.research.google.com"
   ]
  },
  {
   "cell_type": "markdown",
   "metadata": {
    "id": "4rUYsPrXD0-4"
   },
   "source": [
    "### Verificando versão"
   ]
  },
  {
   "cell_type": "code",
   "execution_count": 1,
   "metadata": {
    "colab": {
     "base_uri": "https://localhost:8080/"
    },
    "id": "PgTCVRB2D0-5",
    "outputId": "30cc2183-6f13-4422-e138-315d54587560"
   },
   "outputs": [
    {
     "name": "stderr",
     "output_type": "stream",
     "text": [
      "Python 3.6.13 :: Anaconda, Inc.\n"
     ]
    }
   ],
   "source": [
    "!python -V"
   ]
  },
  {
   "cell_type": "markdown",
   "metadata": {
    "id": "lTtI6so4D0-9"
   },
   "source": [
    "# 1.3 Trabalhando com dados"
   ]
  },
  {
   "cell_type": "code",
   "execution_count": 2,
   "metadata": {
    "id": "E_n4FUUWD0-9"
   },
   "outputs": [],
   "source": [
    "import pandas as pd\n",
    "pd.set_option('display.max_rows', 10)\n",
    "pd.set_option('display.max_columns', 10)"
   ]
  },
  {
   "cell_type": "code",
   "execution_count": 3,
   "metadata": {
    "id": "Kq-JdRHFD0-_"
   },
   "outputs": [],
   "source": [
    "dataset = pd.read_csv('db.csv', sep = ';')"
   ]
  },
  {
   "cell_type": "code",
   "execution_count": 4,
   "metadata": {
    "colab": {
     "base_uri": "https://localhost:8080/",
     "height": 470
    },
    "id": "mOV1rCA6D0_A",
    "outputId": "eef34d3b-dfbb-451e-fe13-b792be2219cf",
    "scrolled": true
   },
   "outputs": [
    {
     "data": {
      "text/html": [
       "<div>\n",
       "<style scoped>\n",
       "    .dataframe tbody tr th:only-of-type {\n",
       "        vertical-align: middle;\n",
       "    }\n",
       "\n",
       "    .dataframe tbody tr th {\n",
       "        vertical-align: top;\n",
       "    }\n",
       "\n",
       "    .dataframe thead th {\n",
       "        text-align: right;\n",
       "    }\n",
       "</style>\n",
       "<table border=\"1\" class=\"dataframe\">\n",
       "  <thead>\n",
       "    <tr style=\"text-align: right;\">\n",
       "      <th></th>\n",
       "      <th>Nome</th>\n",
       "      <th>Motor</th>\n",
       "      <th>Ano</th>\n",
       "      <th>Quilometragem</th>\n",
       "      <th>Zero_km</th>\n",
       "      <th>Acessórios</th>\n",
       "      <th>Valor</th>\n",
       "    </tr>\n",
       "  </thead>\n",
       "  <tbody>\n",
       "    <tr>\n",
       "      <th>0</th>\n",
       "      <td>Jetta Variant</td>\n",
       "      <td>Motor 4.0 Turbo</td>\n",
       "      <td>2003</td>\n",
       "      <td>44410.0</td>\n",
       "      <td>False</td>\n",
       "      <td>['Rodas de liga', 'Travas elétricas', 'Piloto ...</td>\n",
       "      <td>88078.64</td>\n",
       "    </tr>\n",
       "    <tr>\n",
       "      <th>1</th>\n",
       "      <td>Passat</td>\n",
       "      <td>Motor Diesel</td>\n",
       "      <td>1991</td>\n",
       "      <td>5712.0</td>\n",
       "      <td>False</td>\n",
       "      <td>['Central multimídia', 'Teto panorâmico', 'Fre...</td>\n",
       "      <td>106161.94</td>\n",
       "    </tr>\n",
       "    <tr>\n",
       "      <th>2</th>\n",
       "      <td>Crossfox</td>\n",
       "      <td>Motor Diesel V8</td>\n",
       "      <td>1990</td>\n",
       "      <td>37123.0</td>\n",
       "      <td>False</td>\n",
       "      <td>['Piloto automático', 'Controle de estabilidad...</td>\n",
       "      <td>72832.16</td>\n",
       "    </tr>\n",
       "    <tr>\n",
       "      <th>3</th>\n",
       "      <td>DS5</td>\n",
       "      <td>Motor 2.4 Turbo</td>\n",
       "      <td>2019</td>\n",
       "      <td>NaN</td>\n",
       "      <td>True</td>\n",
       "      <td>['Travas elétricas', '4 X 4', 'Vidros elétrico...</td>\n",
       "      <td>124549.07</td>\n",
       "    </tr>\n",
       "    <tr>\n",
       "      <th>4</th>\n",
       "      <td>Aston Martin DB4</td>\n",
       "      <td>Motor 2.4 Turbo</td>\n",
       "      <td>2006</td>\n",
       "      <td>25757.0</td>\n",
       "      <td>False</td>\n",
       "      <td>['Rodas de liga', '4 X 4', 'Central multimídia...</td>\n",
       "      <td>92612.10</td>\n",
       "    </tr>\n",
       "    <tr>\n",
       "      <th>...</th>\n",
       "      <td>...</td>\n",
       "      <td>...</td>\n",
       "      <td>...</td>\n",
       "      <td>...</td>\n",
       "      <td>...</td>\n",
       "      <td>...</td>\n",
       "      <td>...</td>\n",
       "    </tr>\n",
       "    <tr>\n",
       "      <th>253</th>\n",
       "      <td>Phantom 2013</td>\n",
       "      <td>Motor V8</td>\n",
       "      <td>2014</td>\n",
       "      <td>27505.0</td>\n",
       "      <td>False</td>\n",
       "      <td>['Controle de estabilidade', 'Piloto automátic...</td>\n",
       "      <td>51759.58</td>\n",
       "    </tr>\n",
       "    <tr>\n",
       "      <th>254</th>\n",
       "      <td>Cadillac Ciel concept</td>\n",
       "      <td>Motor V8</td>\n",
       "      <td>1991</td>\n",
       "      <td>29981.0</td>\n",
       "      <td>False</td>\n",
       "      <td>['Bancos de couro', 'Painel digital', 'Sensor ...</td>\n",
       "      <td>51667.06</td>\n",
       "    </tr>\n",
       "    <tr>\n",
       "      <th>255</th>\n",
       "      <td>Classe GLK</td>\n",
       "      <td>Motor 5.0 V8 Bi-Turbo</td>\n",
       "      <td>2002</td>\n",
       "      <td>52637.0</td>\n",
       "      <td>False</td>\n",
       "      <td>['Rodas de liga', 'Controle de tração', 'Câmbi...</td>\n",
       "      <td>68934.03</td>\n",
       "    </tr>\n",
       "    <tr>\n",
       "      <th>256</th>\n",
       "      <td>Aston Martin DB5</td>\n",
       "      <td>Motor Diesel</td>\n",
       "      <td>1996</td>\n",
       "      <td>7685.0</td>\n",
       "      <td>False</td>\n",
       "      <td>['Ar condicionado', '4 X 4', 'Câmbio automátic...</td>\n",
       "      <td>122110.90</td>\n",
       "    </tr>\n",
       "    <tr>\n",
       "      <th>257</th>\n",
       "      <td>Macan</td>\n",
       "      <td>Motor Diesel V6</td>\n",
       "      <td>1992</td>\n",
       "      <td>50188.0</td>\n",
       "      <td>False</td>\n",
       "      <td>['Central multimídia', 'Teto panorâmico', 'Vid...</td>\n",
       "      <td>90381.47</td>\n",
       "    </tr>\n",
       "  </tbody>\n",
       "</table>\n",
       "<p>258 rows × 7 columns</p>\n",
       "</div>"
      ],
      "text/plain": [
       "                      Nome                  Motor   Ano  Quilometragem  \\\n",
       "0            Jetta Variant        Motor 4.0 Turbo  2003        44410.0   \n",
       "1                   Passat           Motor Diesel  1991         5712.0   \n",
       "2                 Crossfox        Motor Diesel V8  1990        37123.0   \n",
       "3                      DS5        Motor 2.4 Turbo  2019            NaN   \n",
       "4         Aston Martin DB4        Motor 2.4 Turbo  2006        25757.0   \n",
       "..                     ...                    ...   ...            ...   \n",
       "253           Phantom 2013               Motor V8  2014        27505.0   \n",
       "254  Cadillac Ciel concept               Motor V8  1991        29981.0   \n",
       "255             Classe GLK  Motor 5.0 V8 Bi-Turbo  2002        52637.0   \n",
       "256       Aston Martin DB5           Motor Diesel  1996         7685.0   \n",
       "257                  Macan        Motor Diesel V6  1992        50188.0   \n",
       "\n",
       "     Zero_km                                         Acessórios      Valor  \n",
       "0      False  ['Rodas de liga', 'Travas elétricas', 'Piloto ...   88078.64  \n",
       "1      False  ['Central multimídia', 'Teto panorâmico', 'Fre...  106161.94  \n",
       "2      False  ['Piloto automático', 'Controle de estabilidad...   72832.16  \n",
       "3       True  ['Travas elétricas', '4 X 4', 'Vidros elétrico...  124549.07  \n",
       "4      False  ['Rodas de liga', '4 X 4', 'Central multimídia...   92612.10  \n",
       "..       ...                                                ...        ...  \n",
       "253    False  ['Controle de estabilidade', 'Piloto automátic...   51759.58  \n",
       "254    False  ['Bancos de couro', 'Painel digital', 'Sensor ...   51667.06  \n",
       "255    False  ['Rodas de liga', 'Controle de tração', 'Câmbi...   68934.03  \n",
       "256    False  ['Ar condicionado', '4 X 4', 'Câmbio automátic...  122110.90  \n",
       "257    False  ['Central multimídia', 'Teto panorâmico', 'Vid...   90381.47  \n",
       "\n",
       "[258 rows x 7 columns]"
      ]
     },
     "execution_count": 4,
     "metadata": {},
     "output_type": "execute_result"
    }
   ],
   "source": [
    "dataset"
   ]
  },
  {
   "cell_type": "code",
   "execution_count": 5,
   "metadata": {
    "colab": {
     "base_uri": "https://localhost:8080/"
    },
    "id": "5D739PzJD0_B",
    "outputId": "c2e8029d-538b-40ce-b013-61aed9452423"
   },
   "outputs": [
    {
     "data": {
      "text/plain": [
       "Nome              object\n",
       "Motor             object\n",
       "Ano                int64\n",
       "Quilometragem    float64\n",
       "Zero_km             bool\n",
       "Acessórios        object\n",
       "Valor            float64\n",
       "dtype: object"
      ]
     },
     "execution_count": 5,
     "metadata": {},
     "output_type": "execute_result"
    }
   ],
   "source": [
    "dataset.dtypes"
   ]
  },
  {
   "cell_type": "code",
   "execution_count": 6,
   "metadata": {
    "colab": {
     "base_uri": "https://localhost:8080/",
     "height": 297
    },
    "id": "r_qUf16LD0_D",
    "outputId": "4889bf74-195c-4f40-e963-0d679c9f50fe"
   },
   "outputs": [
    {
     "data": {
      "text/html": [
       "<div>\n",
       "<style scoped>\n",
       "    .dataframe tbody tr th:only-of-type {\n",
       "        vertical-align: middle;\n",
       "    }\n",
       "\n",
       "    .dataframe tbody tr th {\n",
       "        vertical-align: top;\n",
       "    }\n",
       "\n",
       "    .dataframe thead th {\n",
       "        text-align: right;\n",
       "    }\n",
       "</style>\n",
       "<table border=\"1\" class=\"dataframe\">\n",
       "  <thead>\n",
       "    <tr style=\"text-align: right;\">\n",
       "      <th></th>\n",
       "      <th>Quilometragem</th>\n",
       "      <th>Valor</th>\n",
       "    </tr>\n",
       "  </thead>\n",
       "  <tbody>\n",
       "    <tr>\n",
       "      <th>count</th>\n",
       "      <td>197.000000</td>\n",
       "      <td>258.000000</td>\n",
       "    </tr>\n",
       "    <tr>\n",
       "      <th>mean</th>\n",
       "      <td>58278.421320</td>\n",
       "      <td>98960.513101</td>\n",
       "    </tr>\n",
       "    <tr>\n",
       "      <th>std</th>\n",
       "      <td>35836.733259</td>\n",
       "      <td>29811.932305</td>\n",
       "    </tr>\n",
       "    <tr>\n",
       "      <th>min</th>\n",
       "      <td>107.000000</td>\n",
       "      <td>50742.100000</td>\n",
       "    </tr>\n",
       "    <tr>\n",
       "      <th>25%</th>\n",
       "      <td>27505.000000</td>\n",
       "      <td>70743.512500</td>\n",
       "    </tr>\n",
       "    <tr>\n",
       "      <th>50%</th>\n",
       "      <td>55083.000000</td>\n",
       "      <td>97724.380000</td>\n",
       "    </tr>\n",
       "    <tr>\n",
       "      <th>75%</th>\n",
       "      <td>90495.000000</td>\n",
       "      <td>124633.302500</td>\n",
       "    </tr>\n",
       "    <tr>\n",
       "      <th>max</th>\n",
       "      <td>119945.000000</td>\n",
       "      <td>149489.920000</td>\n",
       "    </tr>\n",
       "  </tbody>\n",
       "</table>\n",
       "</div>"
      ],
      "text/plain": [
       "       Quilometragem          Valor\n",
       "count     197.000000     258.000000\n",
       "mean    58278.421320   98960.513101\n",
       "std     35836.733259   29811.932305\n",
       "min       107.000000   50742.100000\n",
       "25%     27505.000000   70743.512500\n",
       "50%     55083.000000   97724.380000\n",
       "75%     90495.000000  124633.302500\n",
       "max    119945.000000  149489.920000"
      ]
     },
     "execution_count": 6,
     "metadata": {},
     "output_type": "execute_result"
    }
   ],
   "source": [
    "dataset[['Quilometragem', 'Valor']].describe()"
   ]
  },
  {
   "cell_type": "code",
   "execution_count": 7,
   "metadata": {
    "colab": {
     "base_uri": "https://localhost:8080/"
    },
    "id": "0R-_7PH5D0_E",
    "outputId": "d3e546d1-ed21-47e0-89c2-ad767d164c65"
   },
   "outputs": [
    {
     "name": "stdout",
     "output_type": "stream",
     "text": [
      "<class 'pandas.core.frame.DataFrame'>\n",
      "RangeIndex: 258 entries, 0 to 257\n",
      "Data columns (total 7 columns):\n",
      " #   Column         Non-Null Count  Dtype  \n",
      "---  ------         --------------  -----  \n",
      " 0   Nome           258 non-null    object \n",
      " 1   Motor          258 non-null    object \n",
      " 2   Ano            258 non-null    int64  \n",
      " 3   Quilometragem  197 non-null    float64\n",
      " 4   Zero_km        258 non-null    bool   \n",
      " 5   Acessórios     258 non-null    object \n",
      " 6   Valor          258 non-null    float64\n",
      "dtypes: bool(1), float64(2), int64(1), object(3)\n",
      "memory usage: 12.5+ KB\n"
     ]
    }
   ],
   "source": [
    "dataset.info()"
   ]
  },
  {
   "cell_type": "markdown",
   "metadata": {
    "id": "htjoBLwiD0_F"
   },
   "source": [
    "# <font color=green> 2. TRABALHANDO COM TUPLAS\n",
    "---"
   ]
  },
  {
   "cell_type": "markdown",
   "metadata": {
    "id": "MZH5_QnYD0_G"
   },
   "source": [
    "# 2.1 Criando tuplas\n",
    "\n",
    "Tuplas são sequências imutáveis que são utilizadas para armazenar coleções de itens, geralmente heterogêneos. Podem ser construídas de várias formas:\n",
    "```\n",
    "- Utilizando um par de parênteses: ( )\n",
    "- Utilizando uma vírgula à direita: x,\n",
    "- Utilizando um par de parênteses com itens separados por vírgulas: ( x, y, z )\n",
    "- Utilizando: tuple() ou tuple(iterador)\n",
    "```"
   ]
  },
  {
   "cell_type": "code",
   "execution_count": 8,
   "metadata": {
    "colab": {
     "base_uri": "https://localhost:8080/"
    },
    "id": "xzcs9fzeD0_G",
    "outputId": "633ea5ae-5964-43f9-f8af-8c6f4ea3a639"
   },
   "outputs": [
    {
     "data": {
      "text/plain": [
       "()"
      ]
     },
     "execution_count": 8,
     "metadata": {},
     "output_type": "execute_result"
    }
   ],
   "source": [
    "()"
   ]
  },
  {
   "cell_type": "code",
   "execution_count": 9,
   "metadata": {
    "colab": {
     "base_uri": "https://localhost:8080/"
    },
    "id": "qJq7a2qTD0_I",
    "outputId": "dee7fd4d-abcb-46d3-98c6-d765fe17398c"
   },
   "outputs": [
    {
     "data": {
      "text/plain": [
       "(1, 2, 3)"
      ]
     },
     "execution_count": 9,
     "metadata": {},
     "output_type": "execute_result"
    }
   ],
   "source": [
    "1,2,3"
   ]
  },
  {
   "cell_type": "code",
   "execution_count": 10,
   "metadata": {
    "colab": {
     "base_uri": "https://localhost:8080/"
    },
    "id": "sg7LdvptD0_J",
    "outputId": "ad69314b-5b21-4949-a3a4-bc68edc1c203"
   },
   "outputs": [
    {
     "data": {
      "text/plain": [
       "('Teste', 1)"
      ]
     },
     "execution_count": 10,
     "metadata": {},
     "output_type": "execute_result"
    }
   ],
   "source": [
    "nome = \"Teste\"\n",
    "valor = 1\n",
    "(nome,valor)"
   ]
  },
  {
   "cell_type": "code",
   "execution_count": 11,
   "metadata": {
    "colab": {
     "base_uri": "https://localhost:8080/"
    },
    "id": "XSSMebXjD0_K",
    "outputId": "c754de5d-f487-46bb-a02b-d6aac66b1a03"
   },
   "outputs": [
    {
     "data": {
      "text/plain": [
       "('Jetta Variant', 'Passat', 'Crossfox', 'DS5')"
      ]
     },
     "execution_count": 11,
     "metadata": {},
     "output_type": "execute_result"
    }
   ],
   "source": [
    "nomes_carros = tuple(['Jetta Variant', 'Passat', 'Crossfox', 'DS5'])\n",
    "nomes_carros"
   ]
  },
  {
   "cell_type": "code",
   "execution_count": 12,
   "metadata": {
    "colab": {
     "base_uri": "https://localhost:8080/"
    },
    "id": "dpkdzrzRD0_M",
    "outputId": "9b079792-3536-429f-d2af-aa2e28b21802"
   },
   "outputs": [
    {
     "data": {
      "text/plain": [
       "tuple"
      ]
     },
     "execution_count": 12,
     "metadata": {},
     "output_type": "execute_result"
    }
   ],
   "source": [
    "type(nomes_carros)"
   ]
  },
  {
   "cell_type": "markdown",
   "metadata": {
    "id": "iKUY2DOUD0_N"
   },
   "source": [
    "# 2.2 Seleções em tuplas"
   ]
  },
  {
   "cell_type": "code",
   "execution_count": 13,
   "metadata": {
    "colab": {
     "base_uri": "https://localhost:8080/"
    },
    "id": "hBEeAM7_D0_N",
    "outputId": "5faf7f19-1f36-416d-bec7-dde7c1961095"
   },
   "outputs": [
    {
     "data": {
      "text/plain": [
       "('Jetta Variant', 'Passat', 'Crossfox', 'DS5')"
      ]
     },
     "execution_count": 13,
     "metadata": {},
     "output_type": "execute_result"
    }
   ],
   "source": [
    "nomes_carros = tuple(['Jetta Variant', 'Passat', 'Crossfox', 'DS5'])\n",
    "nomes_carros"
   ]
  },
  {
   "cell_type": "code",
   "execution_count": 14,
   "metadata": {
    "colab": {
     "base_uri": "https://localhost:8080/",
     "height": 35
    },
    "id": "-mx_1E_tD0_P",
    "outputId": "3e40f4b5-c771-4707-9aa5-c66f5c6e6a6e"
   },
   "outputs": [
    {
     "data": {
      "text/plain": [
       "'Jetta Variant'"
      ]
     },
     "execution_count": 14,
     "metadata": {},
     "output_type": "execute_result"
    }
   ],
   "source": [
    "nomes_carros[0]"
   ]
  },
  {
   "cell_type": "code",
   "execution_count": 15,
   "metadata": {
    "colab": {
     "base_uri": "https://localhost:8080/",
     "height": 35
    },
    "id": "LMhyqnFID0_Q",
    "outputId": "a7809360-00a4-4c35-ced5-1c0920df4c60"
   },
   "outputs": [
    {
     "data": {
      "text/plain": [
       "'Passat'"
      ]
     },
     "execution_count": 15,
     "metadata": {},
     "output_type": "execute_result"
    }
   ],
   "source": [
    "nomes_carros[1]"
   ]
  },
  {
   "cell_type": "code",
   "execution_count": 16,
   "metadata": {
    "colab": {
     "base_uri": "https://localhost:8080/",
     "height": 35
    },
    "id": "6btHff4BD0_T",
    "outputId": "8f896402-79f9-4c64-8c20-a01d5844ffa0"
   },
   "outputs": [
    {
     "data": {
      "text/plain": [
       "'DS5'"
      ]
     },
     "execution_count": 16,
     "metadata": {},
     "output_type": "execute_result"
    }
   ],
   "source": [
    "nomes_carros[-1]"
   ]
  },
  {
   "cell_type": "code",
   "execution_count": 17,
   "metadata": {
    "colab": {
     "base_uri": "https://localhost:8080/"
    },
    "id": "K_Dc12xBD0_U",
    "outputId": "6ec24cc1-48cc-47bf-eb76-866f1dd24125"
   },
   "outputs": [
    {
     "data": {
      "text/plain": [
       "('Passat', 'Crossfox')"
      ]
     },
     "execution_count": 17,
     "metadata": {},
     "output_type": "execute_result"
    }
   ],
   "source": [
    "nomes_carros[1:3]"
   ]
  },
  {
   "cell_type": "code",
   "execution_count": 18,
   "metadata": {
    "colab": {
     "base_uri": "https://localhost:8080/"
    },
    "id": "zvrWYkkeD0_W",
    "outputId": "719f00f0-7b6e-4245-a04e-c5f32a1095c3"
   },
   "outputs": [
    {
     "data": {
      "text/plain": [
       "('Jetta Variant', 'Passat', 'Crossfox', 'DS5', ('Fusca', 'Gol', 'C4'))"
      ]
     },
     "execution_count": 18,
     "metadata": {},
     "output_type": "execute_result"
    }
   ],
   "source": [
    "nomes_carros = ('Jetta Variant', 'Passat', 'Crossfox', 'DS5', ('Fusca', 'Gol', 'C4'))\n",
    "nomes_carros"
   ]
  },
  {
   "cell_type": "code",
   "execution_count": 19,
   "metadata": {
    "colab": {
     "base_uri": "https://localhost:8080/"
    },
    "id": "Dw7tbM2ED0_Z",
    "outputId": "a44a69ce-f649-4ea9-cec8-005280ac0f89"
   },
   "outputs": [
    {
     "data": {
      "text/plain": [
       "('Fusca', 'Gol', 'C4')"
      ]
     },
     "execution_count": 19,
     "metadata": {},
     "output_type": "execute_result"
    }
   ],
   "source": [
    "nomes_carros[-1]\n"
   ]
  },
  {
   "cell_type": "code",
   "execution_count": 20,
   "metadata": {
    "colab": {
     "base_uri": "https://localhost:8080/",
     "height": 35
    },
    "id": "SAMD3BtXD0_b",
    "outputId": "520464b2-c004-43f0-aa70-a47c817a10c2"
   },
   "outputs": [
    {
     "data": {
      "text/plain": [
       "'Gol'"
      ]
     },
     "execution_count": 20,
     "metadata": {},
     "output_type": "execute_result"
    }
   ],
   "source": [
    "nomes_carros[-1][1]"
   ]
  },
  {
   "cell_type": "markdown",
   "metadata": {
    "id": "KLMxh4-0D0_c"
   },
   "source": [
    "# 2.3 Iterando em tuplas"
   ]
  },
  {
   "cell_type": "code",
   "execution_count": 21,
   "metadata": {
    "colab": {
     "base_uri": "https://localhost:8080/"
    },
    "id": "K53elKsYD0_c",
    "outputId": "e6e86c4c-84d5-4448-db8c-891093f61d53"
   },
   "outputs": [
    {
     "data": {
      "text/plain": [
       "('Jetta Variant', 'Passat', 'Crossfox', 'DS5')"
      ]
     },
     "execution_count": 21,
     "metadata": {},
     "output_type": "execute_result"
    }
   ],
   "source": [
    "nomes_carros = ('Jetta Variant', 'Passat', 'Crossfox', 'DS5')\n",
    "nomes_carros"
   ]
  },
  {
   "cell_type": "code",
   "execution_count": 22,
   "metadata": {
    "colab": {
     "base_uri": "https://localhost:8080/"
    },
    "id": "igZhZ5zdD0_d",
    "outputId": "30768030-2863-48a8-f0ff-7d9cfe1fa2d7"
   },
   "outputs": [
    {
     "name": "stdout",
     "output_type": "stream",
     "text": [
      "Jetta Variant\n",
      "Passat\n",
      "Crossfox\n",
      "DS5\n"
     ]
    }
   ],
   "source": [
    "for item in nomes_carros:\n",
    "  print(item)"
   ]
  },
  {
   "cell_type": "markdown",
   "metadata": {
    "id": "AOBjxBk8D0_f"
   },
   "source": [
    "### Desempacotamento de tuplas"
   ]
  },
  {
   "cell_type": "code",
   "execution_count": 23,
   "metadata": {
    "colab": {
     "base_uri": "https://localhost:8080/"
    },
    "id": "UoEFnumhD0_f",
    "outputId": "e94bad6d-5f89-4fb6-aec6-d5fcbda8fa41"
   },
   "outputs": [
    {
     "data": {
      "text/plain": [
       "('Jetta Variant', 'Passat', 'Crossfox', 'DS5')"
      ]
     },
     "execution_count": 23,
     "metadata": {},
     "output_type": "execute_result"
    }
   ],
   "source": [
    "nomes_carros = ('Jetta Variant', 'Passat', 'Crossfox', 'DS5')\n",
    "nomes_carros"
   ]
  },
  {
   "cell_type": "code",
   "execution_count": 24,
   "metadata": {
    "id": "AaCLcNYTD0_g"
   },
   "outputs": [],
   "source": [
    "carro_1, carro_2, carro_3, carro_4 = nomes_carros\n"
   ]
  },
  {
   "cell_type": "code",
   "execution_count": 25,
   "metadata": {
    "colab": {
     "base_uri": "https://localhost:8080/",
     "height": 35
    },
    "id": "TA71S9egD0_h",
    "outputId": "3ae43d3f-53bc-4c9a-a837-f20113570559"
   },
   "outputs": [
    {
     "data": {
      "text/plain": [
       "'Jetta Variant'"
      ]
     },
     "execution_count": 25,
     "metadata": {},
     "output_type": "execute_result"
    }
   ],
   "source": [
    "carro_1"
   ]
  },
  {
   "cell_type": "code",
   "execution_count": 26,
   "metadata": {
    "colab": {
     "base_uri": "https://localhost:8080/",
     "height": 35
    },
    "id": "CHoJ034MD0_i",
    "outputId": "4b48a52a-07d0-4df3-f0ef-f75119efd00f"
   },
   "outputs": [
    {
     "data": {
      "text/plain": [
       "'Passat'"
      ]
     },
     "execution_count": 26,
     "metadata": {},
     "output_type": "execute_result"
    }
   ],
   "source": [
    "carro_2"
   ]
  },
  {
   "cell_type": "code",
   "execution_count": 27,
   "metadata": {
    "colab": {
     "base_uri": "https://localhost:8080/",
     "height": 35
    },
    "id": "oxJrOuCSD0_j",
    "outputId": "dc4db549-47e6-4499-bae6-2c3406951575"
   },
   "outputs": [
    {
     "data": {
      "text/plain": [
       "'Crossfox'"
      ]
     },
     "execution_count": 27,
     "metadata": {},
     "output_type": "execute_result"
    }
   ],
   "source": [
    "carro_3"
   ]
  },
  {
   "cell_type": "code",
   "execution_count": 28,
   "metadata": {
    "colab": {
     "base_uri": "https://localhost:8080/",
     "height": 35
    },
    "id": "BbR9sB4BD0_k",
    "outputId": "79335bc7-8430-42b9-dd08-a5f85cfb75ec"
   },
   "outputs": [
    {
     "data": {
      "text/plain": [
       "'DS5'"
      ]
     },
     "execution_count": 28,
     "metadata": {},
     "output_type": "execute_result"
    }
   ],
   "source": [
    "carro_4"
   ]
  },
  {
   "cell_type": "code",
   "execution_count": 29,
   "metadata": {
    "id": "aZvokrjPD0_m"
   },
   "outputs": [],
   "source": [
    "_, A, _, B = nomes_carros"
   ]
  },
  {
   "cell_type": "code",
   "execution_count": 30,
   "metadata": {
    "colab": {
     "base_uri": "https://localhost:8080/",
     "height": 35
    },
    "id": "wZXDbVg0D0_o",
    "outputId": "a79d38bd-6d65-4748-d09a-c245e4c50fdf"
   },
   "outputs": [
    {
     "data": {
      "text/plain": [
       "'Passat'"
      ]
     },
     "execution_count": 30,
     "metadata": {},
     "output_type": "execute_result"
    }
   ],
   "source": [
    "A"
   ]
  },
  {
   "cell_type": "code",
   "execution_count": 31,
   "metadata": {
    "colab": {
     "base_uri": "https://localhost:8080/",
     "height": 35
    },
    "id": "aWgDMBXiD0_p",
    "outputId": "ef9ad28f-d491-4ab2-b752-3454bf5e4f1a"
   },
   "outputs": [
    {
     "data": {
      "text/plain": [
       "'DS5'"
      ]
     },
     "execution_count": 31,
     "metadata": {},
     "output_type": "execute_result"
    }
   ],
   "source": [
    "B"
   ]
  },
  {
   "cell_type": "code",
   "execution_count": 32,
   "metadata": {
    "id": "OdpgNh-ND0_q"
   },
   "outputs": [],
   "source": [
    "_, C, *_ = nomes_carros"
   ]
  },
  {
   "cell_type": "code",
   "execution_count": 33,
   "metadata": {
    "colab": {
     "base_uri": "https://localhost:8080/",
     "height": 35
    },
    "id": "upVYFnMdD0_r",
    "outputId": "2d2ff2c2-57a1-4fb3-dfc5-f2be6a1f47ef"
   },
   "outputs": [
    {
     "data": {
      "text/plain": [
       "'Passat'"
      ]
     },
     "execution_count": 33,
     "metadata": {},
     "output_type": "execute_result"
    }
   ],
   "source": [
    "C"
   ]
  },
  {
   "cell_type": "markdown",
   "metadata": {
    "id": "u85Aou8WD0_s"
   },
   "source": [
    "## *zip()*\n",
    "\n",
    "https://docs.python.org/3.6/library/functions.html#zip"
   ]
  },
  {
   "cell_type": "code",
   "execution_count": 34,
   "metadata": {
    "colab": {
     "base_uri": "https://localhost:8080/"
    },
    "id": "PaC2oXGED0_t",
    "outputId": "ace1c793-b2d4-493f-c846-1cdbca9a6373"
   },
   "outputs": [
    {
     "data": {
      "text/plain": [
       "['Jetta Variant', 'Passat', 'Crossfox', 'DS5']"
      ]
     },
     "execution_count": 34,
     "metadata": {},
     "output_type": "execute_result"
    }
   ],
   "source": [
    "carros = ['Jetta Variant', 'Passat', 'Crossfox', 'DS5']\n",
    "carros"
   ]
  },
  {
   "cell_type": "code",
   "execution_count": 35,
   "metadata": {
    "colab": {
     "base_uri": "https://localhost:8080/"
    },
    "id": "_02O1VnHD0_u",
    "outputId": "3dce0652-516b-4b4b-fbcc-089888d63d94"
   },
   "outputs": [
    {
     "data": {
      "text/plain": [
       "[88078.64, 106161.94, 72832.16, 124549.07]"
      ]
     },
     "execution_count": 35,
     "metadata": {},
     "output_type": "execute_result"
    }
   ],
   "source": [
    "valores = [88078.64, 106161.94, 72832.16, 124549.07]\n",
    "valores"
   ]
  },
  {
   "cell_type": "code",
   "execution_count": 36,
   "metadata": {
    "colab": {
     "base_uri": "https://localhost:8080/"
    },
    "id": "roQK5nYRD0_v",
    "outputId": "237d0590-0ffe-4bc1-c012-8df217725881"
   },
   "outputs": [
    {
     "data": {
      "text/plain": [
       "<zip at 0x16b20682e88>"
      ]
     },
     "execution_count": 36,
     "metadata": {},
     "output_type": "execute_result"
    }
   ],
   "source": [
    "zip(carros, valores)"
   ]
  },
  {
   "cell_type": "code",
   "execution_count": 37,
   "metadata": {
    "colab": {
     "base_uri": "https://localhost:8080/"
    },
    "id": "_WRxIRHrD0_w",
    "outputId": "d1b289b2-ab77-4c5d-fead-8a81f259fa5c"
   },
   "outputs": [
    {
     "data": {
      "text/plain": [
       "[('Jetta Variant', 88078.64),\n",
       " ('Passat', 106161.94),\n",
       " ('Crossfox', 72832.16),\n",
       " ('DS5', 124549.07)]"
      ]
     },
     "execution_count": 37,
     "metadata": {},
     "output_type": "execute_result"
    }
   ],
   "source": [
    "list(zip(carros, valores))"
   ]
  },
  {
   "cell_type": "code",
   "execution_count": 38,
   "metadata": {
    "colab": {
     "base_uri": "https://localhost:8080/"
    },
    "id": "2zIuhIILD0_x",
    "outputId": "651786d9-56d1-4685-e229-76e4a23336b6"
   },
   "outputs": [
    {
     "name": "stdout",
     "output_type": "stream",
     "text": [
      "Jetta Variant 88078.64\n",
      "Passat 106161.94\n",
      "Crossfox 72832.16\n",
      "DS5 124549.07\n"
     ]
    }
   ],
   "source": [
    "for carro, valor in zip(carros, valores):\n",
    "  print(carro, valor)"
   ]
  },
  {
   "cell_type": "code",
   "execution_count": null,
   "metadata": {
    "id": "ZJaL62IpD0_y"
   },
   "outputs": [],
   "source": []
  },
  {
   "cell_type": "markdown",
   "metadata": {
    "id": "xo76nR8rD0_0"
   },
   "source": [
    "# <font color=green> 3. TRABALHANDO COM DICIONÁRIOS\n",
    "---"
   ]
  },
  {
   "cell_type": "markdown",
   "metadata": {
    "id": "wfWzOuztD0_0"
   },
   "source": [
    "# 3.1 Criando dicionários\n",
    "\n",
    "Listas são coleções sequenciais, isto é, os itens destas sequências estão ordenados e utilizam índices (números inteiros) para acessar os valores.\n",
    "\n",
    "Os dicionários são coleções um pouco diferentes. São estruturas de dados que representam um tipo de mapeamento. Mapeamentos são coleções de associações entre pares de valores onde o primeiro elemento do par é conhecido como chave (*key*) e o segundo como valor (*value*).\n",
    "\n",
    "```\n",
    "dicionario = {key_1: value_1, key_2: value_2, ..., key_n: value_n}\n",
    "```\n",
    "\n",
    "https://docs.python.org/3.6/library/stdtypes.html#typesmapping"
   ]
  },
  {
   "cell_type": "code",
   "execution_count": null,
   "metadata": {
    "id": "SuPcV9v6D0_0"
   },
   "outputs": [],
   "source": []
  },
  {
   "cell_type": "code",
   "execution_count": 39,
   "metadata": {
    "id": "YIFVkWT6D0_1"
   },
   "outputs": [
    {
     "data": {
      "text/plain": [
       "['Jetta Variant', 'Passat', 'Crossfox']"
      ]
     },
     "execution_count": 39,
     "metadata": {},
     "output_type": "execute_result"
    }
   ],
   "source": [
    "carros = ['Jetta Variant', 'Passat', 'Crossfox']\n",
    "carros"
   ]
  },
  {
   "cell_type": "code",
   "execution_count": 40,
   "metadata": {
    "id": "2LHiBn3-D0_2"
   },
   "outputs": [
    {
     "data": {
      "text/plain": [
       "[88078.64, 106161.94, 72832.16]"
      ]
     },
     "execution_count": 40,
     "metadata": {},
     "output_type": "execute_result"
    }
   ],
   "source": [
    "valores = [88078.64, 106161.94, 72832.16]\n",
    "valores"
   ]
  },
  {
   "cell_type": "code",
   "execution_count": 41,
   "metadata": {
    "id": "YxLAx_sqD0_4"
   },
   "outputs": [
    {
     "data": {
      "text/plain": [
       "1"
      ]
     },
     "execution_count": 41,
     "metadata": {},
     "output_type": "execute_result"
    }
   ],
   "source": [
    "carros.index(\"Passat\")"
   ]
  },
  {
   "cell_type": "code",
   "execution_count": 42,
   "metadata": {
    "id": "WITNWExID0_7"
   },
   "outputs": [
    {
     "data": {
      "text/plain": [
       "106161.94"
      ]
     },
     "execution_count": 42,
     "metadata": {},
     "output_type": "execute_result"
    }
   ],
   "source": [
    "valores[carros.index(\"Passat\")]"
   ]
  },
  {
   "cell_type": "code",
   "execution_count": 43,
   "metadata": {
    "id": "bHNqoDbTD0_8"
   },
   "outputs": [
    {
     "data": {
      "text/plain": [
       "{'Jetta Variant': 88078.64, 'Passat': 106161.94, 'Crossfox': 72832.16}"
      ]
     },
     "execution_count": 43,
     "metadata": {},
     "output_type": "execute_result"
    }
   ],
   "source": [
    "valores_carros = {\"Jetta Variant\": 88078.64, \"Passat\": 106161.94, \"Crossfox\": 72832.16}\n",
    "valores_carros"
   ]
  },
  {
   "cell_type": "code",
   "execution_count": 44,
   "metadata": {
    "id": "4FyQgmcAD0_9"
   },
   "outputs": [
    {
     "data": {
      "text/plain": [
       "dict"
      ]
     },
     "execution_count": 44,
     "metadata": {},
     "output_type": "execute_result"
    }
   ],
   "source": [
    "type(valores_carros)"
   ]
  },
  {
   "cell_type": "markdown",
   "metadata": {
    "id": "PQg-MLkGD0_-"
   },
   "source": [
    "### Criando dicionários com *zip()*"
   ]
  },
  {
   "cell_type": "code",
   "execution_count": 45,
   "metadata": {
    "id": "iB4Q_gbND0__"
   },
   "outputs": [
    {
     "data": {
      "text/plain": [
       "[('Jetta Variant', 88078.64), ('Passat', 106161.94), ('Crossfox', 72832.16)]"
      ]
     },
     "execution_count": 45,
     "metadata": {},
     "output_type": "execute_result"
    }
   ],
   "source": [
    "list(zip(carros, valores))"
   ]
  },
  {
   "cell_type": "code",
   "execution_count": 46,
   "metadata": {
    "id": "mIgZqdKKD1AA"
   },
   "outputs": [
    {
     "data": {
      "text/plain": [
       "{'Jetta Variant': 88078.64, 'Passat': 106161.94, 'Crossfox': 72832.16}"
      ]
     },
     "execution_count": 46,
     "metadata": {},
     "output_type": "execute_result"
    }
   ],
   "source": [
    "valores_carros = dict(zip(carros, valores))\n",
    "valores_carros"
   ]
  },
  {
   "cell_type": "markdown",
   "metadata": {
    "id": "KYeRqavFD1AD"
   },
   "source": [
    "# 3.2 Operações com dicionários"
   ]
  },
  {
   "cell_type": "code",
   "execution_count": 47,
   "metadata": {},
   "outputs": [
    {
     "data": {
      "text/plain": [
       "{'Jetta Variant': 88078.64, 'Passat': 106161.94, 'Crossfox': 72832.16}"
      ]
     },
     "execution_count": 47,
     "metadata": {},
     "output_type": "execute_result"
    }
   ],
   "source": [
    "valores_carros = dict(zip(carros, valores))\n",
    "valores_carros"
   ]
  },
  {
   "cell_type": "markdown",
   "metadata": {
    "id": "KzmWbEltD1AD"
   },
   "source": [
    "## *dict[ key ]*\n",
    "\n",
    "Retorna o valor correspondente à chave (*key*) no dicionário."
   ]
  },
  {
   "cell_type": "code",
   "execution_count": 48,
   "metadata": {
    "id": "hFFDz6wKD1AD"
   },
   "outputs": [
    {
     "data": {
      "text/plain": [
       "106161.94"
      ]
     },
     "execution_count": 48,
     "metadata": {},
     "output_type": "execute_result"
    }
   ],
   "source": [
    "valores_carros[\"Passat\"]"
   ]
  },
  {
   "cell_type": "markdown",
   "metadata": {
    "id": "SWlE6VTBD1AE"
   },
   "source": [
    "## *key in dict*\n",
    "\n",
    "Retorna **True** se a chave (*key*) for encontrada no dicionário."
   ]
  },
  {
   "cell_type": "code",
   "execution_count": 49,
   "metadata": {},
   "outputs": [],
   "source": [
    "import termcolor\n",
    "from termcolor import colored"
   ]
  },
  {
   "cell_type": "code",
   "execution_count": 50,
   "metadata": {
    "id": "Iy88SxBtD1AE"
   },
   "outputs": [
    {
     "name": "stdout",
     "output_type": "stream",
     "text": [
      "Tá lá? \n",
      " R: \u001b[32mtá lá\u001b[0m\n"
     ]
    }
   ],
   "source": [
    "is_it = colored('tá lá', 'green') if \"Passat\" in valores_carros else colored('tá não','red')\n",
    "print(f'Tá lá? \\n R: {is_it}')"
   ]
  },
  {
   "cell_type": "code",
   "execution_count": 51,
   "metadata": {
    "id": "Oma56NkAD1AF",
    "scrolled": true
   },
   "outputs": [
    {
     "name": "stdout",
     "output_type": "stream",
     "text": [
      "Tá lá? \n",
      " R: \u001b[31mtá não\u001b[0m\n"
     ]
    }
   ],
   "source": [
    "is_it = colored('tá lá', 'green') if \"Fusqueta\" in valores_carros else colored('tá não','red')\n",
    "print(f'Tá lá? \\n R: {is_it}')"
   ]
  },
  {
   "cell_type": "code",
   "execution_count": 52,
   "metadata": {
    "id": "yS2U-_8gD1AG"
   },
   "outputs": [
    {
     "name": "stdout",
     "output_type": "stream",
     "text": [
      "Tá lá? \n",
      " R: \u001b[32mtá lá\u001b[0m\n"
     ]
    }
   ],
   "source": [
    "is_it = colored('tá não','red') if \"Passat\" not in valores_carros else colored('tá lá', 'green')\n",
    "print(f'Tá lá? \\n R: {is_it}')"
   ]
  },
  {
   "cell_type": "markdown",
   "metadata": {
    "id": "oWbWyDd0D1AI"
   },
   "source": [
    "## *len(dict)*\n",
    "\n",
    "Retorna o número de itens do dicionário."
   ]
  },
  {
   "cell_type": "code",
   "execution_count": 53,
   "metadata": {
    "id": "k08YkCc1D1AJ"
   },
   "outputs": [
    {
     "data": {
      "text/plain": [
       "3"
      ]
     },
     "execution_count": 53,
     "metadata": {},
     "output_type": "execute_result"
    }
   ],
   "source": [
    "len(valores_carros)"
   ]
  },
  {
   "cell_type": "markdown",
   "metadata": {
    "id": "yYNqIHJBD1AK"
   },
   "source": [
    "## *dict[ key ] = value*\n",
    "\n",
    "Inclui um item ao dicionário."
   ]
  },
  {
   "cell_type": "code",
   "execution_count": 54,
   "metadata": {
    "id": "5jj3i52bD1AK"
   },
   "outputs": [],
   "source": [
    "valores_carros[\"DS5\"] = 124549.07\n"
   ]
  },
  {
   "cell_type": "code",
   "execution_count": 55,
   "metadata": {
    "id": "y6rso5hLD1AL"
   },
   "outputs": [
    {
     "data": {
      "text/plain": [
       "{'Jetta Variant': 88078.64,\n",
       " 'Passat': 106161.94,\n",
       " 'Crossfox': 72832.16,\n",
       " 'DS5': 124549.07}"
      ]
     },
     "execution_count": 55,
     "metadata": {},
     "output_type": "execute_result"
    }
   ],
   "source": [
    "valores_carros"
   ]
  },
  {
   "cell_type": "markdown",
   "metadata": {
    "id": "_z0JySuqD1AL"
   },
   "source": [
    "## *del dict[ key ]*\n",
    "\n",
    "Remove o item de chave (*key*) do dicionário."
   ]
  },
  {
   "cell_type": "code",
   "execution_count": 56,
   "metadata": {
    "id": "PPfh6sfID1AM"
   },
   "outputs": [],
   "source": [
    "del valores_carros[\"DS5\"]\n"
   ]
  },
  {
   "cell_type": "code",
   "execution_count": 57,
   "metadata": {
    "id": "BtjGpXtGD1AN"
   },
   "outputs": [
    {
     "data": {
      "text/plain": [
       "{'Jetta Variant': 88078.64, 'Passat': 106161.94, 'Crossfox': 72832.16}"
      ]
     },
     "execution_count": 57,
     "metadata": {},
     "output_type": "execute_result"
    }
   ],
   "source": [
    "valores_carros"
   ]
  },
  {
   "cell_type": "markdown",
   "metadata": {
    "id": "FodJVx5sD1AP"
   },
   "source": [
    "# 3.3 Métodos de dicionários"
   ]
  },
  {
   "cell_type": "markdown",
   "metadata": {
    "id": "7pqdPOkYD1AP"
   },
   "source": [
    "## *dict.update()*\n",
    "\n",
    "Atualiza o dicionário."
   ]
  },
  {
   "cell_type": "code",
   "execution_count": 58,
   "metadata": {
    "id": "DUySYxKQD1AQ"
   },
   "outputs": [
    {
     "data": {
      "text/plain": [
       "{'Jetta Variant': 88078.64, 'Passat': 106161.94, 'Crossfox': 72832.16}"
      ]
     },
     "execution_count": 58,
     "metadata": {},
     "output_type": "execute_result"
    }
   ],
   "source": [
    "valores_carros"
   ]
  },
  {
   "cell_type": "code",
   "execution_count": 59,
   "metadata": {
    "id": "DLsqp71cD1AR"
   },
   "outputs": [
    {
     "data": {
      "text/plain": [
       "{'Jetta Variant': 88078.64,\n",
       " 'Passat': 106161.94,\n",
       " 'Crossfox': 72832.16,\n",
       " 'DS5': 124549.07}"
      ]
     },
     "execution_count": 59,
     "metadata": {},
     "output_type": "execute_result"
    }
   ],
   "source": [
    "valores_carros.update({'DS5': 124549.07})\n",
    "valores_carros"
   ]
  },
  {
   "cell_type": "code",
   "execution_count": 60,
   "metadata": {},
   "outputs": [
    {
     "data": {
      "text/plain": [
       "{'Jetta Variant': 88078.64,\n",
       " 'Passat': 106161.94,\n",
       " 'Crossfox': 72832.16,\n",
       " 'DS5': 124549.1,\n",
       " 'Fusca': 75000}"
      ]
     },
     "execution_count": 60,
     "metadata": {},
     "output_type": "execute_result"
    }
   ],
   "source": [
    "valores_carros.update({'DS5': 124549.10, 'Fusca': 75000})\n",
    "valores_carros"
   ]
  },
  {
   "cell_type": "markdown",
   "metadata": {
    "id": "JLs5c0DeD1AR"
   },
   "source": [
    "## *dict.copy()*\n",
    "\n",
    "Cria uma cópia do dicionário."
   ]
  },
  {
   "cell_type": "code",
   "execution_count": 61,
   "metadata": {
    "id": "X9F7OB3eD1AS"
   },
   "outputs": [],
   "source": [
    "copia = valores_carros.copy()"
   ]
  },
  {
   "cell_type": "code",
   "execution_count": 62,
   "metadata": {},
   "outputs": [
    {
     "data": {
      "text/plain": [
       "{'Jetta Variant': 88078.64,\n",
       " 'Passat': 106161.94,\n",
       " 'Crossfox': 72832.16,\n",
       " 'DS5': 124549.1,\n",
       " 'Fusca': 75000}"
      ]
     },
     "execution_count": 62,
     "metadata": {},
     "output_type": "execute_result"
    }
   ],
   "source": [
    "copia\n"
   ]
  },
  {
   "cell_type": "code",
   "execution_count": 63,
   "metadata": {
    "id": "v0rL0bveD1AS"
   },
   "outputs": [
    {
     "data": {
      "text/plain": [
       "{'Jetta Variant': 88078.64,\n",
       " 'Passat': 106161.94,\n",
       " 'Crossfox': 72832.16,\n",
       " 'DS5': 124549.1}"
      ]
     },
     "execution_count": 63,
     "metadata": {},
     "output_type": "execute_result"
    }
   ],
   "source": [
    "del copia['Fusca']\n",
    "copia"
   ]
  },
  {
   "cell_type": "code",
   "execution_count": 64,
   "metadata": {
    "id": "M-abRGGrD1AT"
   },
   "outputs": [
    {
     "data": {
      "text/plain": [
       "{'Jetta Variant': 88078.64,\n",
       " 'Passat': 106161.94,\n",
       " 'Crossfox': 72832.16,\n",
       " 'DS5': 124549.1,\n",
       " 'Fusca': 75000}"
      ]
     },
     "execution_count": 64,
     "metadata": {},
     "output_type": "execute_result"
    }
   ],
   "source": [
    "valores_carros"
   ]
  },
  {
   "cell_type": "markdown",
   "metadata": {
    "id": "mNODkmHCD1AV"
   },
   "source": [
    "## *dict.pop(key[, default ])*\n",
    "\n",
    "Se a chave for encontrada no dicionário, o item é removido e seu valor é retornado. Caso contrário, o valor especificado como *default* é retornado. Se o valor *default* não for fornecido e a chave não for encontrada no dicionário um erro será gerado."
   ]
  },
  {
   "cell_type": "code",
   "execution_count": 65,
   "metadata": {
    "id": "_4QEPwScD1AW"
   },
   "outputs": [
    {
     "data": {
      "text/plain": [
       "{'Jetta Variant': 88078.64,\n",
       " 'Passat': 106161.94,\n",
       " 'Crossfox': 72832.16,\n",
       " 'DS5': 124549.1}"
      ]
     },
     "execution_count": 65,
     "metadata": {},
     "output_type": "execute_result"
    }
   ],
   "source": [
    "copia"
   ]
  },
  {
   "cell_type": "code",
   "execution_count": 66,
   "metadata": {
    "id": "Hjh0MuymD1AX"
   },
   "outputs": [
    {
     "data": {
      "text/plain": [
       "106161.94"
      ]
     },
     "execution_count": 66,
     "metadata": {},
     "output_type": "execute_result"
    }
   ],
   "source": [
    "copia.pop('Passat')"
   ]
  },
  {
   "cell_type": "code",
   "execution_count": 67,
   "metadata": {
    "id": "f51rKjkuD1AX"
   },
   "outputs": [
    {
     "data": {
      "text/plain": [
       "{'Jetta Variant': 88078.64, 'Crossfox': 72832.16, 'DS5': 124549.1}"
      ]
     },
     "execution_count": 67,
     "metadata": {},
     "output_type": "execute_result"
    }
   ],
   "source": [
    "copia"
   ]
  },
  {
   "cell_type": "code",
   "execution_count": 68,
   "metadata": {
    "id": "Ah4sZ7axD1AZ"
   },
   "outputs": [],
   "source": [
    "# copia.pop('Passat')"
   ]
  },
  {
   "cell_type": "code",
   "execution_count": 69,
   "metadata": {
    "id": "SJATRY8RD1Aa"
   },
   "outputs": [
    {
     "data": {
      "text/plain": [
       "'Chave não encontrada'"
      ]
     },
     "execution_count": 69,
     "metadata": {},
     "output_type": "execute_result"
    }
   ],
   "source": [
    "copia.pop('Passat', 'Chave não encontrada')"
   ]
  },
  {
   "cell_type": "code",
   "execution_count": 70,
   "metadata": {
    "id": "V36wHdzmD1Ab"
   },
   "outputs": [
    {
     "data": {
      "text/plain": [
       "124549.1"
      ]
     },
     "execution_count": 70,
     "metadata": {},
     "output_type": "execute_result"
    }
   ],
   "source": [
    "copia.pop('DS5', 'Chave não encontrada')"
   ]
  },
  {
   "cell_type": "code",
   "execution_count": 71,
   "metadata": {
    "id": "LJ0lQIrdD1Ac"
   },
   "outputs": [
    {
     "data": {
      "text/plain": [
       "{'Jetta Variant': 88078.64, 'Crossfox': 72832.16}"
      ]
     },
     "execution_count": 71,
     "metadata": {},
     "output_type": "execute_result"
    }
   ],
   "source": [
    "copia"
   ]
  },
  {
   "cell_type": "markdown",
   "metadata": {
    "id": "Q5J0R7d3D1Ag"
   },
   "source": [
    "## *dict.clear()*\n",
    "\n",
    "Remove todos os itens do dicionário."
   ]
  },
  {
   "cell_type": "code",
   "execution_count": 72,
   "metadata": {
    "id": "AvkP_8mND1Ag"
   },
   "outputs": [],
   "source": [
    "copia.clear()"
   ]
  },
  {
   "cell_type": "code",
   "execution_count": 73,
   "metadata": {
    "id": "S69pMYboD1Ah"
   },
   "outputs": [
    {
     "data": {
      "text/plain": [
       "{}"
      ]
     },
     "execution_count": 73,
     "metadata": {},
     "output_type": "execute_result"
    }
   ],
   "source": [
    "copia"
   ]
  },
  {
   "cell_type": "markdown",
   "metadata": {
    "id": "QhoSRfPsD1Ai"
   },
   "source": [
    "# 3.4 Iterando em dicionários"
   ]
  },
  {
   "cell_type": "markdown",
   "metadata": {
    "id": "E-agaqakD1Ai"
   },
   "source": [
    "## *dict.keys()*\n",
    "\n",
    "Retorna uma lista contendo as chaves (*keys*) do dicionário."
   ]
  },
  {
   "cell_type": "code",
   "execution_count": 74,
   "metadata": {
    "id": "qFADEYmBD1Aj"
   },
   "outputs": [
    {
     "data": {
      "text/plain": [
       "dict_keys(['Jetta Variant', 'Passat', 'Crossfox', 'DS5', 'Fusca'])"
      ]
     },
     "execution_count": 74,
     "metadata": {},
     "output_type": "execute_result"
    }
   ],
   "source": [
    "valores_carros.keys()"
   ]
  },
  {
   "cell_type": "code",
   "execution_count": 75,
   "metadata": {
    "id": "niwh9AgDD1Aj"
   },
   "outputs": [
    {
     "name": "stdout",
     "output_type": "stream",
     "text": [
      "88078.64\n",
      "106161.94\n",
      "72832.16\n",
      "124549.1\n",
      "75000\n"
     ]
    }
   ],
   "source": [
    "for key in valores_carros.keys():\n",
    "    print(valores_carros[key])"
   ]
  },
  {
   "cell_type": "markdown",
   "metadata": {
    "id": "qFj6Cc7dD1Ak"
   },
   "source": [
    "## *dict.values()*\n",
    "\n",
    "Retorna uma lista com todos os valores (*values*) do dicionário."
   ]
  },
  {
   "cell_type": "code",
   "execution_count": 76,
   "metadata": {
    "id": "nfpLxrQVD1Al"
   },
   "outputs": [
    {
     "data": {
      "text/plain": [
       "dict_values([88078.64, 106161.94, 72832.16, 124549.1, 75000])"
      ]
     },
     "execution_count": 76,
     "metadata": {},
     "output_type": "execute_result"
    }
   ],
   "source": [
    "valores_carros.values()"
   ]
  },
  {
   "cell_type": "markdown",
   "metadata": {
    "id": "-NGRwX0AD1Al"
   },
   "source": [
    "## *dict.items()*\n",
    "\n",
    "Retorna uma lista contendo uma tupla para cada par chave-valor (*key-value*) do dicionário."
   ]
  },
  {
   "cell_type": "code",
   "execution_count": 77,
   "metadata": {
    "id": "Q2I9_6YvD1Am"
   },
   "outputs": [
    {
     "data": {
      "text/plain": [
       "dict_items([('Jetta Variant', 88078.64), ('Passat', 106161.94), ('Crossfox', 72832.16), ('DS5', 124549.1), ('Fusca', 75000)])"
      ]
     },
     "execution_count": 77,
     "metadata": {},
     "output_type": "execute_result"
    }
   ],
   "source": [
    "valores_carros.items()"
   ]
  },
  {
   "cell_type": "code",
   "execution_count": 78,
   "metadata": {
    "id": "0j41ZqgQD1Am"
   },
   "outputs": [
    {
     "name": "stdout",
     "output_type": "stream",
     "text": [
      "('Jetta Variant', 88078.64)\n",
      "('Passat', 106161.94)\n",
      "('Crossfox', 72832.16)\n",
      "('DS5', 124549.1)\n",
      "('Fusca', 75000)\n"
     ]
    }
   ],
   "source": [
    "for item in valores_carros.items():\n",
    "    print(item)"
   ]
  },
  {
   "cell_type": "code",
   "execution_count": 79,
   "metadata": {
    "id": "OVY9rIwFD1An"
   },
   "outputs": [
    {
     "name": "stdout",
     "output_type": "stream",
     "text": [
      "Jetta Variant 88078.64\n",
      "Passat 106161.94\n",
      "Crossfox 72832.16\n",
      "DS5 124549.1\n",
      "Fusca 75000\n"
     ]
    }
   ],
   "source": [
    "for key,value in valores_carros.items():\n",
    "    print(key,value)"
   ]
  },
  {
   "cell_type": "code",
   "execution_count": 80,
   "metadata": {
    "id": "ma2Ol8vcD1Ap"
   },
   "outputs": [
    {
     "name": "stdout",
     "output_type": "stream",
     "text": [
      "Passat 106161.94\n",
      "DS5 124549.1\n"
     ]
    }
   ],
   "source": [
    "for key,value in valores_carros.items():\n",
    "    if(value >= 100000):\n",
    "        print(key,value)"
   ]
  },
  {
   "cell_type": "code",
   "execution_count": 81,
   "metadata": {},
   "outputs": [],
   "source": [
    "dados = {\n",
    "    'Crossfox': {'valor': 72000, 'ano': 2005}, \n",
    "    'DS5': {'valor': 125000, 'ano': 2015}, \n",
    "    'Fusca': {'valor': 150000, 'ano': 1976}, \n",
    "    'Jetta': {'valor': 88000, 'ano': 2010}, \n",
    "    'Passat': {'valor': 106000, 'ano': 1998}\n",
    "}"
   ]
  },
  {
   "cell_type": "code",
   "execution_count": 82,
   "metadata": {},
   "outputs": [
    {
     "name": "stdout",
     "output_type": "stream",
     "text": [
      "Crossfox\n",
      "DS5\n",
      "Jetta\n"
     ]
    }
   ],
   "source": [
    "for item in dados.items():\n",
    "    if(item[1]['ano'] >= 2000):\n",
    "        print(item[0])"
   ]
  },
  {
   "cell_type": "markdown",
   "metadata": {
    "id": "-q3AlSg3D1Aq"
   },
   "source": [
    "# <font color=green> 4. FUNÇÕES E PACOTES\n",
    "---\n",
    "    \n",
    "Funções são unidades de código reutilizáveis que realizam uma tarefa específica, podem receber alguma entrada e também podem retornar alguma resultado."
   ]
  },
  {
   "cell_type": "markdown",
   "metadata": {
    "id": "5CfEcU58D1Aq"
   },
   "source": [
    "# 4.1 Built-in function\n",
    "\n",
    "A linguagem Python possui várias funções integradas que estão sempre acessíveis. Algumas já utilizamos em nosso treinamento: type(), print(), zip(), len(), set() etc.\n",
    "\n",
    "https://docs.python.org/3.6/library/functions.html"
   ]
  },
  {
   "cell_type": "code",
   "execution_count": 83,
   "metadata": {
    "id": "DP7cmY7xD1Aq"
   },
   "outputs": [
    {
     "data": {
      "text/plain": [
       "{'Jetta Variant': 88078.64, 'Passat': 106161.94, 'Crossfox': 72832.16}"
      ]
     },
     "execution_count": 83,
     "metadata": {},
     "output_type": "execute_result"
    }
   ],
   "source": [
    "dados = {'Jetta Variant': 88078.64, 'Passat': 106161.94, 'Crossfox': 72832.16}\n",
    "dados"
   ]
  },
  {
   "cell_type": "code",
   "execution_count": 84,
   "metadata": {
    "id": "5zAcGSCbD1Ar"
   },
   "outputs": [
    {
     "data": {
      "text/plain": [
       "[88078.64, 106161.94, 72832.16]"
      ]
     },
     "execution_count": 84,
     "metadata": {},
     "output_type": "execute_result"
    }
   ],
   "source": [
    "valores = []\n",
    "for valor in dados.values():\n",
    "    valores.append(valor)\n",
    "valores"
   ]
  },
  {
   "cell_type": "code",
   "execution_count": 85,
   "metadata": {
    "id": "zG9_jU_1D1At"
   },
   "outputs": [
    {
     "data": {
      "text/plain": [
       "267072.74"
      ]
     },
     "execution_count": 85,
     "metadata": {},
     "output_type": "execute_result"
    }
   ],
   "source": [
    "soma = 0\n",
    "for valor in dados.values():\n",
    "    soma += valor\n",
    "soma"
   ]
  },
  {
   "cell_type": "code",
   "execution_count": 86,
   "metadata": {
    "id": "jn0O3uXZD1Au"
   },
   "outputs": [
    {
     "data": {
      "text/plain": [
       "[88078.64, 106161.94, 72832.16]"
      ]
     },
     "execution_count": 86,
     "metadata": {},
     "output_type": "execute_result"
    }
   ],
   "source": [
    "list(dados.values())"
   ]
  },
  {
   "cell_type": "code",
   "execution_count": 87,
   "metadata": {
    "id": "lnUjKVnoD1Aw"
   },
   "outputs": [
    {
     "data": {
      "text/plain": [
       "267072.74"
      ]
     },
     "execution_count": 87,
     "metadata": {},
     "output_type": "execute_result"
    }
   ],
   "source": [
    "sum(dados.values())"
   ]
  },
  {
   "cell_type": "code",
   "execution_count": 88,
   "metadata": {
    "id": "WdEuYXe2D1Ay",
    "scrolled": false
   },
   "outputs": [
    {
     "name": "stdout",
     "output_type": "stream",
     "text": [
      "Help on built-in function print in module builtins:\n",
      "\n",
      "print(...)\n",
      "    print(value, ..., sep=' ', end='\\n', file=sys.stdout, flush=False)\n",
      "    \n",
      "    Prints the values to a stream, or to sys.stdout by default.\n",
      "    Optional keyword arguments:\n",
      "    file:  a file-like object (stream); defaults to the current sys.stdout.\n",
      "    sep:   string inserted between values, default a space.\n",
      "    end:   string appended after the last value, default a newline.\n",
      "    flush: whether to forcibly flush the stream.\n",
      "\n"
     ]
    }
   ],
   "source": [
    "help(print)"
   ]
  },
  {
   "cell_type": "code",
   "execution_count": 89,
   "metadata": {
    "id": "hIA29O3tD1Az"
   },
   "outputs": [],
   "source": [
    "print?"
   ]
  },
  {
   "cell_type": "markdown",
   "metadata": {
    "id": "6w62Sl5ZD1A0"
   },
   "source": [
    "# 4.2 Definindo funções sem e com parâmetros"
   ]
  },
  {
   "cell_type": "markdown",
   "metadata": {
    "id": "OADZiBP2D1A0"
   },
   "source": [
    "### Funções sem parâmetros\n",
    "\n",
    "#### Formato padrão\n",
    "\n",
    "```\n",
    "def <nome>():\n",
    "    <instruções>\n",
    "```"
   ]
  },
  {
   "cell_type": "code",
   "execution_count": 90,
   "metadata": {
    "id": "uCkplEpQD1A0"
   },
   "outputs": [],
   "source": [
    "def mean():\n",
    "    valor = (1+2+3)/3\n",
    "    return valor\n",
    "    "
   ]
  },
  {
   "cell_type": "code",
   "execution_count": 91,
   "metadata": {
    "id": "fOCEGq5VD1A1"
   },
   "outputs": [
    {
     "data": {
      "text/plain": [
       "2.0"
      ]
     },
     "execution_count": 91,
     "metadata": {},
     "output_type": "execute_result"
    }
   ],
   "source": [
    "mean()"
   ]
  },
  {
   "cell_type": "markdown",
   "metadata": {
    "id": "PwSlYSVAD1A2"
   },
   "source": [
    "### Funções com parâmetros\n",
    "\n",
    "#### Formato padrão\n",
    "\n",
    "```\n",
    "def <nome>(<param_1>, <param_2>, ..., <param_n>):\n",
    "    <instruções>\n",
    "```"
   ]
  },
  {
   "cell_type": "code",
   "execution_count": 92,
   "metadata": {
    "id": "A3YnBUduD1A3"
   },
   "outputs": [],
   "source": [
    "def mean(lista):\n",
    "    mean = sum(lista)/len(lista) \n",
    "    return mean"
   ]
  },
  {
   "cell_type": "code",
   "execution_count": 93,
   "metadata": {
    "id": "rGUZbRERD1A3"
   },
   "outputs": [
    {
     "name": "stdout",
     "output_type": "stream",
     "text": [
      "A média é: 2.0\n"
     ]
    }
   ],
   "source": [
    "media = mean([1,2,3])\n",
    "print(f'A média é: {media}')"
   ]
  },
  {
   "cell_type": "code",
   "execution_count": 94,
   "metadata": {
    "id": "B9WDlRE7D1A5"
   },
   "outputs": [
    {
     "name": "stdout",
     "output_type": "stream",
     "text": [
      "A média é: 55598885.0\n"
     ]
    }
   ],
   "source": [
    "media = mean([65665656,96565454,4565545])\n",
    "print(f'A média é: {media}')"
   ]
  },
  {
   "cell_type": "code",
   "execution_count": 95,
   "metadata": {
    "id": "-UG42RQJD1A9"
   },
   "outputs": [],
   "source": [
    "dados = {\n",
    "    'Crossfox': {'km': 35000, 'ano': 2005}, \n",
    "    'DS5': {'km': 17000, 'ano': 2015}, \n",
    "    'Fusca': {'km': 130000, 'ano': 1979}, \n",
    "    'Jetta': {'km': 56000, 'ano': 2011}, \n",
    "    'Passat': {'km': 62000, 'ano': 1999}\n",
    "}"
   ]
  },
  {
   "cell_type": "code",
   "execution_count": 96,
   "metadata": {
    "id": "VJwdvoT5D1A-"
   },
   "outputs": [],
   "source": [
    "def km_media(dataset, ano_atual):\n",
    "    for item in dataset.items():\n",
    "        result = item[1]['km'] / (ano_atual - item[1]['ano'])\n",
    "        print(result)"
   ]
  },
  {
   "cell_type": "code",
   "execution_count": 97,
   "metadata": {
    "id": "AgAeJkpND1A-",
    "scrolled": true
   },
   "outputs": [
    {
     "name": "stdout",
     "output_type": "stream",
     "text": [
      "2500.0\n",
      "4250.0\n",
      "3250.0\n",
      "7000.0\n",
      "3100.0\n"
     ]
    }
   ],
   "source": [
    "km_media(dados,2019)"
   ]
  },
  {
   "cell_type": "markdown",
   "metadata": {
    "id": "8zNYrmFbD1A9"
   },
   "source": [
    "# 4.3 Definindo funções que retornam valores"
   ]
  },
  {
   "cell_type": "markdown",
   "metadata": {
    "id": "J44K-dMOD1A9"
   },
   "source": [
    "### Funções que retornam um valor\n",
    "\n",
    "#### Formato padrão\n",
    "\n",
    "```\n",
    "def <nome>(<param_1>, <param_2>, ..., <param_n>):\n",
    "    <instruções>\n",
    "    return <resultado>\n",
    "```"
   ]
  },
  {
   "cell_type": "code",
   "execution_count": 98,
   "metadata": {
    "id": "_r616TevD1A_"
   },
   "outputs": [
    {
     "data": {
      "text/plain": [
       "2.0"
      ]
     },
     "execution_count": 98,
     "metadata": {},
     "output_type": "execute_result"
    }
   ],
   "source": [
    "def mean(lista):\n",
    "    mean = sum(lista)/len(lista) \n",
    "    return mean\n",
    "result = mean([1,2,3])\n",
    "result"
   ]
  },
  {
   "cell_type": "markdown",
   "metadata": {
    "id": "MQaK8GV5D1BA"
   },
   "source": [
    "### Funções que retornam mais de um valor\n",
    "\n",
    "#### Formato padrão\n",
    "\n",
    "```\n",
    "def <nome>(<param_1>, <param_2>, ..., <param_n>):\n",
    "    <instruções>\n",
    "    return (<resultado_1>, <resultado_2>, ..., <resultado_n>)\n",
    "```"
   ]
  },
  {
   "cell_type": "code",
   "execution_count": 99,
   "metadata": {
    "id": "v0PUMegVD1BA"
   },
   "outputs": [],
   "source": [
    "def mean(lista):\n",
    "    mean = sum(lista)/len(lista) \n",
    "    return (mean,len(lista))"
   ]
  },
  {
   "cell_type": "code",
   "execution_count": 100,
   "metadata": {
    "id": "Ys-etom8D1BA"
   },
   "outputs": [
    {
     "data": {
      "text/plain": [
       "(2.0, 3)"
      ]
     },
     "execution_count": 100,
     "metadata": {},
     "output_type": "execute_result"
    }
   ],
   "source": [
    "result = mean([1,2,3])\n",
    "result"
   ]
  },
  {
   "cell_type": "code",
   "execution_count": 101,
   "metadata": {
    "id": "LERrvkMHD1BC"
   },
   "outputs": [
    {
     "name": "stdout",
     "output_type": "stream",
     "text": [
      "2.0, 3\n"
     ]
    }
   ],
   "source": [
    "result, length = mean([1,2,3])\n",
    "print(f'{result}, {length}')\n"
   ]
  },
  {
   "cell_type": "code",
   "execution_count": 102,
   "metadata": {},
   "outputs": [],
   "source": [
    "dados = {\n",
    "    'Crossfox': {'km': 35000, 'ano': 2005}, \n",
    "    'DS5': {'km': 17000, 'ano': 2015}, \n",
    "    'Fusca': {'km': 130000, 'ano': 1979}, \n",
    "    'Jetta': {'km': 56000, 'ano': 2011}, \n",
    "    'Passat': {'km': 62000, 'ano': 1999}\n",
    "}"
   ]
  },
  {
   "cell_type": "code",
   "execution_count": 103,
   "metadata": {},
   "outputs": [],
   "source": [
    "\n",
    "def km_media(dataset, ano_atual):\n",
    "    result = {}\n",
    "    for item in dataset.items():\n",
    "        media = item[1]['km'] / (ano_atual - item[1]['ano'])\n",
    "        item[1].update({ 'km_media': media })\n",
    "        result.update({ item[0]: item[1] })\n",
    "    return result"
   ]
  },
  {
   "cell_type": "code",
   "execution_count": 104,
   "metadata": {},
   "outputs": [
    {
     "data": {
      "text/plain": [
       "{'Crossfox': {'km': 35000, 'ano': 2005, 'km_media': 2500.0},\n",
       " 'DS5': {'km': 17000, 'ano': 2015, 'km_media': 4250.0},\n",
       " 'Fusca': {'km': 130000, 'ano': 1979, 'km_media': 3250.0},\n",
       " 'Jetta': {'km': 56000, 'ano': 2011, 'km_media': 7000.0},\n",
       " 'Passat': {'km': 62000, 'ano': 1999, 'km_media': 3100.0}}"
      ]
     },
     "execution_count": 104,
     "metadata": {},
     "output_type": "execute_result"
    }
   ],
   "source": [
    "km_media(dados, 2019)"
   ]
  },
  {
   "cell_type": "markdown",
   "metadata": {
    "id": "uQ5lNnKrD1BD"
   },
   "source": [
    "# <font color=green> 5. PANDAS BÁSICO\n",
    "---\n",
    "\n",
    "**versão: 0.25.2**\n",
    "  \n",
    "Pandas é uma ferramenta de manipulação de dados de alto nível, construída com base no pacote Numpy. O pacote pandas possui estruturas de dados bastante interessantes para manipulação de dados e por isso é muito utilizado por cientistas de dados.\n",
    "\n",
    "\n",
    "## Estruturas de Dados\n",
    "\n",
    "### Series\n",
    "\n",
    "Series são arrays unidimensionais rotulados capazes de armazenar qualquer tipo de dado. Os rótulos das linhas são chamados de **index**. A forma básica de criação de uma Series é a seguinte:\n",
    "\n",
    "\n",
    "```\n",
    "    s = pd.Series(dados, index = index)\n",
    "```\n",
    "\n",
    "O argumento *dados* pode ser um dicionário, uma lista, um array Numpy ou uma constante.\n",
    "\n",
    "### DataFrames\n",
    "\n",
    "DataFrame é uma estrutura de dados tabular bidimensional com rótulos nas linha e colunas. Como a Series, os DataFrames são capazes de armazenar qualquer tipo de dados.\n",
    "\n",
    "\n",
    "```\n",
    "    df = pd.DataFrame(dados, index = index, columns = columns)\n",
    "```\n",
    "\n",
    "O argumento *dados* pode ser um dicionário, uma lista, um array Numpy, uma Series e outro DataFrame.\n",
    "\n",
    "**Documentação:** https://pandas.pydata.org/pandas-docs/version/0.25/"
   ]
  },
  {
   "cell_type": "markdown",
   "metadata": {
    "id": "2qa7RC03D1BD"
   },
   "source": [
    "# 5.1 Estruturas de dados"
   ]
  },
  {
   "cell_type": "code",
   "execution_count": 108,
   "metadata": {
    "id": "4QyFDeS4D1BD"
   },
   "outputs": [],
   "source": [
    "import pandas as pd"
   ]
  },
  {
   "cell_type": "markdown",
   "metadata": {
    "id": "kIey8_OcD1BF"
   },
   "source": [
    "### Criando uma Series a partir de uma lista"
   ]
  },
  {
   "cell_type": "code",
   "execution_count": 109,
   "metadata": {
    "id": "yEZR6DWiD1BF"
   },
   "outputs": [
    {
     "data": {
      "text/plain": [
       "['Jetta Variant', 'Passat', 'Crossfox']"
      ]
     },
     "execution_count": 109,
     "metadata": {},
     "output_type": "execute_result"
    }
   ],
   "source": [
    "carros: {'Jetta Variant', 'Passat', 'Crossfox'}\n",
    "carros"
   ]
  },
  {
   "cell_type": "code",
   "execution_count": 113,
   "metadata": {
    "id": "rLudWKZ_D1BF"
   },
   "outputs": [
    {
     "data": {
      "text/plain": [
       "0    Jetta Variant\n",
       "1           Passat\n",
       "2         Crossfox\n",
       "dtype: object"
      ]
     },
     "execution_count": 113,
     "metadata": {},
     "output_type": "execute_result"
    }
   ],
   "source": [
    "pd.Series(carros)"
   ]
  },
  {
   "cell_type": "markdown",
   "metadata": {
    "id": "VYVIKd1-D1BG"
   },
   "source": [
    "### Criando um DataFrame a partir de uma lista de dicionários"
   ]
  },
  {
   "cell_type": "code",
   "execution_count": 114,
   "metadata": {
    "id": "QFNS9PckD1BG"
   },
   "outputs": [],
   "source": [
    "dados = [\n",
    "    {'Nome': 'Jetta Variant', 'Motor': 'Motor 4.0 Turbo', 'Ano': 2003, 'Quilometragem': 44410.0, 'Zero_km': False, 'Valor': 88078.64},\n",
    "    {'Nome': 'Passat', 'Motor': 'Motor Diesel', 'Ano': 1991, 'Quilometragem': 5712.0, 'Zero_km': False, 'Valor': 106161.94},\n",
    "    {'Nome': 'Crossfox', 'Motor': 'Motor Diesel V8', 'Ano': 1990, 'Quilometragem': 37123.0, 'Zero_km': False, 'Valor': 72832.16}\n",
    "]"
   ]
  },
  {
   "cell_type": "code",
   "execution_count": 115,
   "metadata": {
    "id": "WDQb9AnKD1BH"
   },
   "outputs": [],
   "source": [
    "dataset = pd.DataFrame(dados) "
   ]
  },
  {
   "cell_type": "code",
   "execution_count": 116,
   "metadata": {
    "id": "-2-jGvmGD1BI"
   },
   "outputs": [
    {
     "data": {
      "text/html": [
       "<div>\n",
       "<style scoped>\n",
       "    .dataframe tbody tr th:only-of-type {\n",
       "        vertical-align: middle;\n",
       "    }\n",
       "\n",
       "    .dataframe tbody tr th {\n",
       "        vertical-align: top;\n",
       "    }\n",
       "\n",
       "    .dataframe thead th {\n",
       "        text-align: right;\n",
       "    }\n",
       "</style>\n",
       "<table border=\"1\" class=\"dataframe\">\n",
       "  <thead>\n",
       "    <tr style=\"text-align: right;\">\n",
       "      <th></th>\n",
       "      <th>Nome</th>\n",
       "      <th>Motor</th>\n",
       "      <th>Ano</th>\n",
       "      <th>Quilometragem</th>\n",
       "      <th>Zero_km</th>\n",
       "      <th>Valor</th>\n",
       "    </tr>\n",
       "  </thead>\n",
       "  <tbody>\n",
       "    <tr>\n",
       "      <th>0</th>\n",
       "      <td>Jetta Variant</td>\n",
       "      <td>Motor 4.0 Turbo</td>\n",
       "      <td>2003</td>\n",
       "      <td>44410.0</td>\n",
       "      <td>False</td>\n",
       "      <td>88078.64</td>\n",
       "    </tr>\n",
       "    <tr>\n",
       "      <th>1</th>\n",
       "      <td>Passat</td>\n",
       "      <td>Motor Diesel</td>\n",
       "      <td>1991</td>\n",
       "      <td>5712.0</td>\n",
       "      <td>False</td>\n",
       "      <td>106161.94</td>\n",
       "    </tr>\n",
       "    <tr>\n",
       "      <th>2</th>\n",
       "      <td>Crossfox</td>\n",
       "      <td>Motor Diesel V8</td>\n",
       "      <td>1990</td>\n",
       "      <td>37123.0</td>\n",
       "      <td>False</td>\n",
       "      <td>72832.16</td>\n",
       "    </tr>\n",
       "  </tbody>\n",
       "</table>\n",
       "</div>"
      ],
      "text/plain": [
       "            Nome            Motor   Ano  Quilometragem  Zero_km      Valor\n",
       "0  Jetta Variant  Motor 4.0 Turbo  2003        44410.0    False   88078.64\n",
       "1         Passat     Motor Diesel  1991         5712.0    False  106161.94\n",
       "2       Crossfox  Motor Diesel V8  1990        37123.0    False   72832.16"
      ]
     },
     "execution_count": 116,
     "metadata": {},
     "output_type": "execute_result"
    }
   ],
   "source": [
    "dataset"
   ]
  },
  {
   "cell_type": "code",
   "execution_count": 119,
   "metadata": {
    "id": "2kbyOThiD1BJ"
   },
   "outputs": [
    {
     "data": {
      "text/html": [
       "<div>\n",
       "<style scoped>\n",
       "    .dataframe tbody tr th:only-of-type {\n",
       "        vertical-align: middle;\n",
       "    }\n",
       "\n",
       "    .dataframe tbody tr th {\n",
       "        vertical-align: top;\n",
       "    }\n",
       "\n",
       "    .dataframe thead th {\n",
       "        text-align: right;\n",
       "    }\n",
       "</style>\n",
       "<table border=\"1\" class=\"dataframe\">\n",
       "  <thead>\n",
       "    <tr style=\"text-align: right;\">\n",
       "      <th></th>\n",
       "      <th>Motor</th>\n",
       "      <th>Valor</th>\n",
       "      <th>Ano</th>\n",
       "      <th>Nome</th>\n",
       "      <th>Quilometragem</th>\n",
       "      <th>Zero_km</th>\n",
       "    </tr>\n",
       "  </thead>\n",
       "  <tbody>\n",
       "    <tr>\n",
       "      <th>0</th>\n",
       "      <td>Motor 4.0 Turbo</td>\n",
       "      <td>88078.64</td>\n",
       "      <td>2003</td>\n",
       "      <td>Jetta Variant</td>\n",
       "      <td>44410.0</td>\n",
       "      <td>False</td>\n",
       "    </tr>\n",
       "    <tr>\n",
       "      <th>1</th>\n",
       "      <td>Motor Diesel</td>\n",
       "      <td>106161.94</td>\n",
       "      <td>1991</td>\n",
       "      <td>Passat</td>\n",
       "      <td>5712.0</td>\n",
       "      <td>False</td>\n",
       "    </tr>\n",
       "    <tr>\n",
       "      <th>2</th>\n",
       "      <td>Motor Diesel V8</td>\n",
       "      <td>72832.16</td>\n",
       "      <td>1990</td>\n",
       "      <td>Crossfox</td>\n",
       "      <td>37123.0</td>\n",
       "      <td>False</td>\n",
       "    </tr>\n",
       "  </tbody>\n",
       "</table>\n",
       "</div>"
      ],
      "text/plain": [
       "             Motor      Valor   Ano           Nome  Quilometragem  Zero_km\n",
       "0  Motor 4.0 Turbo   88078.64  2003  Jetta Variant        44410.0    False\n",
       "1     Motor Diesel  106161.94  1991         Passat         5712.0    False\n",
       "2  Motor Diesel V8   72832.16  1990       Crossfox        37123.0    False"
      ]
     },
     "execution_count": 119,
     "metadata": {},
     "output_type": "execute_result"
    }
   ],
   "source": [
    "dataset[['Motor','Valor','Ano', 'Nome', 'Quilometragem', 'Zero_km']]"
   ]
  },
  {
   "cell_type": "markdown",
   "metadata": {
    "id": "pJK2tQgYD1BK"
   },
   "source": [
    "### Criando um DataFrame a partir de um dicionário"
   ]
  },
  {
   "cell_type": "code",
   "execution_count": 120,
   "metadata": {
    "id": "WKNQwKucD1BK"
   },
   "outputs": [],
   "source": [
    "dados = {\n",
    "    'Nome': ['Jetta Variant', 'Passat', 'Crossfox'], \n",
    "    'Motor': ['Motor 4.0 Turbo', 'Motor Diesel', 'Motor Diesel V8'],\n",
    "    'Ano': [2003, 1991, 1990],\n",
    "    'Quilometragem': [44410.0, 5712.0, 37123.0],\n",
    "    'Zero_km': [False, False, False],\n",
    "    'Valor': [88078.64, 106161.94, 72832.16]\n",
    "}"
   ]
  },
  {
   "cell_type": "code",
   "execution_count": 121,
   "metadata": {
    "id": "lKnuZfzcD1BK"
   },
   "outputs": [],
   "source": [
    "dataset = pd.DataFrame(dados)"
   ]
  },
  {
   "cell_type": "code",
   "execution_count": 122,
   "metadata": {
    "id": "PNqTytC-D1BL"
   },
   "outputs": [
    {
     "data": {
      "text/html": [
       "<div>\n",
       "<style scoped>\n",
       "    .dataframe tbody tr th:only-of-type {\n",
       "        vertical-align: middle;\n",
       "    }\n",
       "\n",
       "    .dataframe tbody tr th {\n",
       "        vertical-align: top;\n",
       "    }\n",
       "\n",
       "    .dataframe thead th {\n",
       "        text-align: right;\n",
       "    }\n",
       "</style>\n",
       "<table border=\"1\" class=\"dataframe\">\n",
       "  <thead>\n",
       "    <tr style=\"text-align: right;\">\n",
       "      <th></th>\n",
       "      <th>Nome</th>\n",
       "      <th>Motor</th>\n",
       "      <th>Ano</th>\n",
       "      <th>Quilometragem</th>\n",
       "      <th>Zero_km</th>\n",
       "      <th>Valor</th>\n",
       "    </tr>\n",
       "  </thead>\n",
       "  <tbody>\n",
       "    <tr>\n",
       "      <th>0</th>\n",
       "      <td>Jetta Variant</td>\n",
       "      <td>Motor 4.0 Turbo</td>\n",
       "      <td>2003</td>\n",
       "      <td>44410.0</td>\n",
       "      <td>False</td>\n",
       "      <td>88078.64</td>\n",
       "    </tr>\n",
       "    <tr>\n",
       "      <th>1</th>\n",
       "      <td>Passat</td>\n",
       "      <td>Motor Diesel</td>\n",
       "      <td>1991</td>\n",
       "      <td>5712.0</td>\n",
       "      <td>False</td>\n",
       "      <td>106161.94</td>\n",
       "    </tr>\n",
       "    <tr>\n",
       "      <th>2</th>\n",
       "      <td>Crossfox</td>\n",
       "      <td>Motor Diesel V8</td>\n",
       "      <td>1990</td>\n",
       "      <td>37123.0</td>\n",
       "      <td>False</td>\n",
       "      <td>72832.16</td>\n",
       "    </tr>\n",
       "  </tbody>\n",
       "</table>\n",
       "</div>"
      ],
      "text/plain": [
       "            Nome            Motor   Ano  Quilometragem  Zero_km      Valor\n",
       "0  Jetta Variant  Motor 4.0 Turbo  2003        44410.0    False   88078.64\n",
       "1         Passat     Motor Diesel  1991         5712.0    False  106161.94\n",
       "2       Crossfox  Motor Diesel V8  1990        37123.0    False   72832.16"
      ]
     },
     "execution_count": 122,
     "metadata": {},
     "output_type": "execute_result"
    }
   ],
   "source": [
    "dataset"
   ]
  },
  {
   "cell_type": "markdown",
   "metadata": {
    "id": "fCCXs0reD1BL"
   },
   "source": [
    "### Criando um DataFrame a partir de uma arquivo externo"
   ]
  },
  {
   "cell_type": "code",
   "execution_count": 199,
   "metadata": {
    "id": "78PRHGeZD1BL"
   },
   "outputs": [
    {
     "data": {
      "text/html": [
       "<div>\n",
       "<style scoped>\n",
       "    .dataframe tbody tr th:only-of-type {\n",
       "        vertical-align: middle;\n",
       "    }\n",
       "\n",
       "    .dataframe tbody tr th {\n",
       "        vertical-align: top;\n",
       "    }\n",
       "\n",
       "    .dataframe thead th {\n",
       "        text-align: right;\n",
       "    }\n",
       "</style>\n",
       "<table border=\"1\" class=\"dataframe\">\n",
       "  <thead>\n",
       "    <tr style=\"text-align: right;\">\n",
       "      <th></th>\n",
       "      <th>Motor</th>\n",
       "      <th>Ano</th>\n",
       "      <th>Quilometragem</th>\n",
       "      <th>Zero_km</th>\n",
       "      <th>Acessórios</th>\n",
       "      <th>Valor</th>\n",
       "    </tr>\n",
       "    <tr>\n",
       "      <th>Nome</th>\n",
       "      <th></th>\n",
       "      <th></th>\n",
       "      <th></th>\n",
       "      <th></th>\n",
       "      <th></th>\n",
       "      <th></th>\n",
       "    </tr>\n",
       "  </thead>\n",
       "  <tbody>\n",
       "    <tr>\n",
       "      <th>Jetta Variant</th>\n",
       "      <td>Motor 4.0 Turbo</td>\n",
       "      <td>2003</td>\n",
       "      <td>44410.0</td>\n",
       "      <td>False</td>\n",
       "      <td>['Rodas de liga', 'Travas elétricas', 'Piloto ...</td>\n",
       "      <td>88078.64</td>\n",
       "    </tr>\n",
       "    <tr>\n",
       "      <th>Passat</th>\n",
       "      <td>Motor Diesel</td>\n",
       "      <td>1991</td>\n",
       "      <td>5712.0</td>\n",
       "      <td>False</td>\n",
       "      <td>['Central multimídia', 'Teto panorâmico', 'Fre...</td>\n",
       "      <td>106161.94</td>\n",
       "    </tr>\n",
       "    <tr>\n",
       "      <th>Crossfox</th>\n",
       "      <td>Motor Diesel V8</td>\n",
       "      <td>1990</td>\n",
       "      <td>37123.0</td>\n",
       "      <td>False</td>\n",
       "      <td>['Piloto automático', 'Controle de estabilidad...</td>\n",
       "      <td>72832.16</td>\n",
       "    </tr>\n",
       "    <tr>\n",
       "      <th>DS5</th>\n",
       "      <td>Motor 2.4 Turbo</td>\n",
       "      <td>2019</td>\n",
       "      <td>NaN</td>\n",
       "      <td>True</td>\n",
       "      <td>['Travas elétricas', '4 X 4', 'Vidros elétrico...</td>\n",
       "      <td>124549.07</td>\n",
       "    </tr>\n",
       "    <tr>\n",
       "      <th>Aston Martin DB4</th>\n",
       "      <td>Motor 2.4 Turbo</td>\n",
       "      <td>2006</td>\n",
       "      <td>25757.0</td>\n",
       "      <td>False</td>\n",
       "      <td>['Rodas de liga', '4 X 4', 'Central multimídia...</td>\n",
       "      <td>92612.10</td>\n",
       "    </tr>\n",
       "    <tr>\n",
       "      <th>...</th>\n",
       "      <td>...</td>\n",
       "      <td>...</td>\n",
       "      <td>...</td>\n",
       "      <td>...</td>\n",
       "      <td>...</td>\n",
       "      <td>...</td>\n",
       "    </tr>\n",
       "    <tr>\n",
       "      <th>Phantom 2013</th>\n",
       "      <td>Motor V8</td>\n",
       "      <td>2014</td>\n",
       "      <td>27505.0</td>\n",
       "      <td>False</td>\n",
       "      <td>['Controle de estabilidade', 'Piloto automátic...</td>\n",
       "      <td>51759.58</td>\n",
       "    </tr>\n",
       "    <tr>\n",
       "      <th>Cadillac Ciel concept</th>\n",
       "      <td>Motor V8</td>\n",
       "      <td>1991</td>\n",
       "      <td>29981.0</td>\n",
       "      <td>False</td>\n",
       "      <td>['Bancos de couro', 'Painel digital', 'Sensor ...</td>\n",
       "      <td>51667.06</td>\n",
       "    </tr>\n",
       "    <tr>\n",
       "      <th>Classe GLK</th>\n",
       "      <td>Motor 5.0 V8 Bi-Turbo</td>\n",
       "      <td>2002</td>\n",
       "      <td>52637.0</td>\n",
       "      <td>False</td>\n",
       "      <td>['Rodas de liga', 'Controle de tração', 'Câmbi...</td>\n",
       "      <td>68934.03</td>\n",
       "    </tr>\n",
       "    <tr>\n",
       "      <th>Aston Martin DB5</th>\n",
       "      <td>Motor Diesel</td>\n",
       "      <td>1996</td>\n",
       "      <td>7685.0</td>\n",
       "      <td>False</td>\n",
       "      <td>['Ar condicionado', '4 X 4', 'Câmbio automátic...</td>\n",
       "      <td>122110.90</td>\n",
       "    </tr>\n",
       "    <tr>\n",
       "      <th>Macan</th>\n",
       "      <td>Motor Diesel V6</td>\n",
       "      <td>1992</td>\n",
       "      <td>50188.0</td>\n",
       "      <td>False</td>\n",
       "      <td>['Central multimídia', 'Teto panorâmico', 'Vid...</td>\n",
       "      <td>90381.47</td>\n",
       "    </tr>\n",
       "  </tbody>\n",
       "</table>\n",
       "<p>258 rows × 6 columns</p>\n",
       "</div>"
      ],
      "text/plain": [
       "                                       Motor   Ano  Quilometragem  Zero_km  \\\n",
       "Nome                                                                         \n",
       "Jetta Variant                Motor 4.0 Turbo  2003        44410.0    False   \n",
       "Passat                          Motor Diesel  1991         5712.0    False   \n",
       "Crossfox                     Motor Diesel V8  1990        37123.0    False   \n",
       "DS5                          Motor 2.4 Turbo  2019            NaN     True   \n",
       "Aston Martin DB4             Motor 2.4 Turbo  2006        25757.0    False   \n",
       "...                                      ...   ...            ...      ...   \n",
       "Phantom 2013                        Motor V8  2014        27505.0    False   \n",
       "Cadillac Ciel concept               Motor V8  1991        29981.0    False   \n",
       "Classe GLK             Motor 5.0 V8 Bi-Turbo  2002        52637.0    False   \n",
       "Aston Martin DB5                Motor Diesel  1996         7685.0    False   \n",
       "Macan                        Motor Diesel V6  1992        50188.0    False   \n",
       "\n",
       "                                                              Acessórios  \\\n",
       "Nome                                                                       \n",
       "Jetta Variant          ['Rodas de liga', 'Travas elétricas', 'Piloto ...   \n",
       "Passat                 ['Central multimídia', 'Teto panorâmico', 'Fre...   \n",
       "Crossfox               ['Piloto automático', 'Controle de estabilidad...   \n",
       "DS5                    ['Travas elétricas', '4 X 4', 'Vidros elétrico...   \n",
       "Aston Martin DB4       ['Rodas de liga', '4 X 4', 'Central multimídia...   \n",
       "...                                                                  ...   \n",
       "Phantom 2013           ['Controle de estabilidade', 'Piloto automátic...   \n",
       "Cadillac Ciel concept  ['Bancos de couro', 'Painel digital', 'Sensor ...   \n",
       "Classe GLK             ['Rodas de liga', 'Controle de tração', 'Câmbi...   \n",
       "Aston Martin DB5       ['Ar condicionado', '4 X 4', 'Câmbio automátic...   \n",
       "Macan                  ['Central multimídia', 'Teto panorâmico', 'Vid...   \n",
       "\n",
       "                           Valor  \n",
       "Nome                              \n",
       "Jetta Variant           88078.64  \n",
       "Passat                 106161.94  \n",
       "Crossfox                72832.16  \n",
       "DS5                    124549.07  \n",
       "Aston Martin DB4        92612.10  \n",
       "...                          ...  \n",
       "Phantom 2013            51759.58  \n",
       "Cadillac Ciel concept   51667.06  \n",
       "Classe GLK              68934.03  \n",
       "Aston Martin DB5       122110.90  \n",
       "Macan                   90381.47  \n",
       "\n",
       "[258 rows x 6 columns]"
      ]
     },
     "execution_count": 199,
     "metadata": {},
     "output_type": "execute_result"
    }
   ],
   "source": [
    "dataset = pd.read_csv('db.csv', sep=';', index_col =0)\n",
    "dataset"
   ]
  },
  {
   "cell_type": "code",
   "execution_count": 125,
   "metadata": {
    "id": "1o1YlnVPD1BM",
    "scrolled": true
   },
   "outputs": [],
   "source": [
    "dados = {\n",
    "    'Crossfox': {'km': 35000, 'ano': 2005}, \n",
    "    'DS5': {'km': 17000, 'ano': 2015}, \n",
    "    'Fusca': {'km': 130000, 'ano': 1979}, \n",
    "    'Jetta': {'km': 56000, 'ano': 2011}, \n",
    "    'Passat': {'km': 62000, 'ano': 1999}\n",
    "}"
   ]
  },
  {
   "cell_type": "code",
   "execution_count": 126,
   "metadata": {},
   "outputs": [],
   "source": [
    "def km_media(dataset, ano_atual):\n",
    "    result = {}\n",
    "    for item in dataset.items():\n",
    "        media = item[1]['km'] / (ano_atual - item[1]['ano'])\n",
    "        item[1].update({ 'km_media': media })\n",
    "        result.update({ item[0]: item[1] })\n",
    "\n",
    "    return result"
   ]
  },
  {
   "cell_type": "code",
   "execution_count": 127,
   "metadata": {},
   "outputs": [
    {
     "data": {
      "text/plain": [
       "{'Crossfox': {'km': 35000, 'ano': 2005, 'km_media': 2500.0},\n",
       " 'DS5': {'km': 17000, 'ano': 2015, 'km_media': 4250.0},\n",
       " 'Fusca': {'km': 130000, 'ano': 1979, 'km_media': 3250.0},\n",
       " 'Jetta': {'km': 56000, 'ano': 2011, 'km_media': 7000.0},\n",
       " 'Passat': {'km': 62000, 'ano': 1999, 'km_media': 3100.0}}"
      ]
     },
     "execution_count": 127,
     "metadata": {},
     "output_type": "execute_result"
    }
   ],
   "source": [
    "km_media(dados, 2019)"
   ]
  },
  {
   "cell_type": "code",
   "execution_count": 131,
   "metadata": {},
   "outputs": [
    {
     "data": {
      "text/html": [
       "<div>\n",
       "<style scoped>\n",
       "    .dataframe tbody tr th:only-of-type {\n",
       "        vertical-align: middle;\n",
       "    }\n",
       "\n",
       "    .dataframe tbody tr th {\n",
       "        vertical-align: top;\n",
       "    }\n",
       "\n",
       "    .dataframe thead th {\n",
       "        text-align: right;\n",
       "    }\n",
       "</style>\n",
       "<table border=\"1\" class=\"dataframe\">\n",
       "  <thead>\n",
       "    <tr style=\"text-align: right;\">\n",
       "      <th></th>\n",
       "      <th>km</th>\n",
       "      <th>ano</th>\n",
       "      <th>km_media</th>\n",
       "    </tr>\n",
       "  </thead>\n",
       "  <tbody>\n",
       "    <tr>\n",
       "      <th>Crossfox</th>\n",
       "      <td>35000.0</td>\n",
       "      <td>2005.0</td>\n",
       "      <td>2500.0</td>\n",
       "    </tr>\n",
       "    <tr>\n",
       "      <th>DS5</th>\n",
       "      <td>17000.0</td>\n",
       "      <td>2015.0</td>\n",
       "      <td>4250.0</td>\n",
       "    </tr>\n",
       "    <tr>\n",
       "      <th>Fusca</th>\n",
       "      <td>130000.0</td>\n",
       "      <td>1979.0</td>\n",
       "      <td>3250.0</td>\n",
       "    </tr>\n",
       "    <tr>\n",
       "      <th>Jetta</th>\n",
       "      <td>56000.0</td>\n",
       "      <td>2011.0</td>\n",
       "      <td>7000.0</td>\n",
       "    </tr>\n",
       "    <tr>\n",
       "      <th>Passat</th>\n",
       "      <td>62000.0</td>\n",
       "      <td>1999.0</td>\n",
       "      <td>3100.0</td>\n",
       "    </tr>\n",
       "  </tbody>\n",
       "</table>\n",
       "</div>"
      ],
      "text/plain": [
       "                km     ano  km_media\n",
       "Crossfox   35000.0  2005.0    2500.0\n",
       "DS5        17000.0  2015.0    4250.0\n",
       "Fusca     130000.0  1979.0    3250.0\n",
       "Jetta      56000.0  2011.0    7000.0\n",
       "Passat     62000.0  1999.0    3100.0"
      ]
     },
     "execution_count": 131,
     "metadata": {},
     "output_type": "execute_result"
    }
   ],
   "source": [
    "import pandas as pd\n",
    "carros = pd.DataFrame(km_media(dados, 2019)).T\n",
    "carros"
   ]
  },
  {
   "cell_type": "markdown",
   "metadata": {
    "id": "y5V-1AK-D1BN"
   },
   "source": [
    "# 5.2 Seleções com DataFrames"
   ]
  },
  {
   "cell_type": "markdown",
   "metadata": {
    "id": "wZjqlHe9D1BN"
   },
   "source": [
    "### Selecionando colunas"
   ]
  },
  {
   "cell_type": "code",
   "execution_count": 137,
   "metadata": {
    "id": "gM3LbtzlD1BN",
    "scrolled": true
   },
   "outputs": [
    {
     "data": {
      "text/html": [
       "<div>\n",
       "<style scoped>\n",
       "    .dataframe tbody tr th:only-of-type {\n",
       "        vertical-align: middle;\n",
       "    }\n",
       "\n",
       "    .dataframe tbody tr th {\n",
       "        vertical-align: top;\n",
       "    }\n",
       "\n",
       "    .dataframe thead th {\n",
       "        text-align: right;\n",
       "    }\n",
       "</style>\n",
       "<table border=\"1\" class=\"dataframe\">\n",
       "  <thead>\n",
       "    <tr style=\"text-align: right;\">\n",
       "      <th></th>\n",
       "      <th>Motor</th>\n",
       "      <th>Ano</th>\n",
       "      <th>Quilometragem</th>\n",
       "      <th>Zero_km</th>\n",
       "      <th>Acessórios</th>\n",
       "      <th>Valor</th>\n",
       "    </tr>\n",
       "    <tr>\n",
       "      <th>Nome</th>\n",
       "      <th></th>\n",
       "      <th></th>\n",
       "      <th></th>\n",
       "      <th></th>\n",
       "      <th></th>\n",
       "      <th></th>\n",
       "    </tr>\n",
       "  </thead>\n",
       "  <tbody>\n",
       "    <tr>\n",
       "      <th>Jetta Variant</th>\n",
       "      <td>Motor 4.0 Turbo</td>\n",
       "      <td>2003</td>\n",
       "      <td>44410.0</td>\n",
       "      <td>False</td>\n",
       "      <td>['Rodas de liga', 'Travas elétricas', 'Piloto ...</td>\n",
       "      <td>88078.64</td>\n",
       "    </tr>\n",
       "    <tr>\n",
       "      <th>Passat</th>\n",
       "      <td>Motor Diesel</td>\n",
       "      <td>1991</td>\n",
       "      <td>5712.0</td>\n",
       "      <td>False</td>\n",
       "      <td>['Central multimídia', 'Teto panorâmico', 'Fre...</td>\n",
       "      <td>106161.94</td>\n",
       "    </tr>\n",
       "    <tr>\n",
       "      <th>Crossfox</th>\n",
       "      <td>Motor Diesel V8</td>\n",
       "      <td>1990</td>\n",
       "      <td>37123.0</td>\n",
       "      <td>False</td>\n",
       "      <td>['Piloto automático', 'Controle de estabilidad...</td>\n",
       "      <td>72832.16</td>\n",
       "    </tr>\n",
       "    <tr>\n",
       "      <th>DS5</th>\n",
       "      <td>Motor 2.4 Turbo</td>\n",
       "      <td>2019</td>\n",
       "      <td>NaN</td>\n",
       "      <td>True</td>\n",
       "      <td>['Travas elétricas', '4 X 4', 'Vidros elétrico...</td>\n",
       "      <td>124549.07</td>\n",
       "    </tr>\n",
       "    <tr>\n",
       "      <th>Aston Martin DB4</th>\n",
       "      <td>Motor 2.4 Turbo</td>\n",
       "      <td>2006</td>\n",
       "      <td>25757.0</td>\n",
       "      <td>False</td>\n",
       "      <td>['Rodas de liga', '4 X 4', 'Central multimídia...</td>\n",
       "      <td>92612.10</td>\n",
       "    </tr>\n",
       "  </tbody>\n",
       "</table>\n",
       "</div>"
      ],
      "text/plain": [
       "                            Motor   Ano  Quilometragem  Zero_km  \\\n",
       "Nome                                                              \n",
       "Jetta Variant     Motor 4.0 Turbo  2003        44410.0    False   \n",
       "Passat               Motor Diesel  1991         5712.0    False   \n",
       "Crossfox          Motor Diesel V8  1990        37123.0    False   \n",
       "DS5               Motor 2.4 Turbo  2019            NaN     True   \n",
       "Aston Martin DB4  Motor 2.4 Turbo  2006        25757.0    False   \n",
       "\n",
       "                                                         Acessórios      Valor  \n",
       "Nome                                                                            \n",
       "Jetta Variant     ['Rodas de liga', 'Travas elétricas', 'Piloto ...   88078.64  \n",
       "Passat            ['Central multimídia', 'Teto panorâmico', 'Fre...  106161.94  \n",
       "Crossfox          ['Piloto automático', 'Controle de estabilidad...   72832.16  \n",
       "DS5               ['Travas elétricas', '4 X 4', 'Vidros elétrico...  124549.07  \n",
       "Aston Martin DB4  ['Rodas de liga', '4 X 4', 'Central multimídia...   92612.10  "
      ]
     },
     "execution_count": 137,
     "metadata": {},
     "output_type": "execute_result"
    }
   ],
   "source": [
    "dataset.head()"
   ]
  },
  {
   "cell_type": "code",
   "execution_count": 138,
   "metadata": {
    "id": "R2FWgCM_D1BO"
   },
   "outputs": [
    {
     "data": {
      "text/plain": [
       "Nome\n",
       "Jetta Variant             88078.64\n",
       "Passat                   106161.94\n",
       "Crossfox                  72832.16\n",
       "DS5                      124549.07\n",
       "Aston Martin DB4          92612.10\n",
       "                           ...    \n",
       "Phantom 2013              51759.58\n",
       "Cadillac Ciel concept     51667.06\n",
       "Classe GLK                68934.03\n",
       "Aston Martin DB5         122110.90\n",
       "Macan                     90381.47\n",
       "Name: Valor, Length: 258, dtype: float64"
      ]
     },
     "execution_count": 138,
     "metadata": {},
     "output_type": "execute_result"
    }
   ],
   "source": [
    "dataset['Valor']"
   ]
  },
  {
   "cell_type": "code",
   "execution_count": 140,
   "metadata": {
    "id": "lCCumsxsD1BP",
    "scrolled": true
   },
   "outputs": [
    {
     "data": {
      "text/plain": [
       "pandas.core.series.Series"
      ]
     },
     "execution_count": 140,
     "metadata": {},
     "output_type": "execute_result"
    }
   ],
   "source": [
    "type(dataset['Valor'])"
   ]
  },
  {
   "cell_type": "code",
   "execution_count": 142,
   "metadata": {
    "id": "zxlyC3B8D1BP"
   },
   "outputs": [
    {
     "data": {
      "text/html": [
       "<div>\n",
       "<style scoped>\n",
       "    .dataframe tbody tr th:only-of-type {\n",
       "        vertical-align: middle;\n",
       "    }\n",
       "\n",
       "    .dataframe tbody tr th {\n",
       "        vertical-align: top;\n",
       "    }\n",
       "\n",
       "    .dataframe thead th {\n",
       "        text-align: right;\n",
       "    }\n",
       "</style>\n",
       "<table border=\"1\" class=\"dataframe\">\n",
       "  <thead>\n",
       "    <tr style=\"text-align: right;\">\n",
       "      <th></th>\n",
       "      <th>Valor</th>\n",
       "    </tr>\n",
       "    <tr>\n",
       "      <th>Nome</th>\n",
       "      <th></th>\n",
       "    </tr>\n",
       "  </thead>\n",
       "  <tbody>\n",
       "    <tr>\n",
       "      <th>Jetta Variant</th>\n",
       "      <td>88078.64</td>\n",
       "    </tr>\n",
       "    <tr>\n",
       "      <th>Passat</th>\n",
       "      <td>106161.94</td>\n",
       "    </tr>\n",
       "    <tr>\n",
       "      <th>Crossfox</th>\n",
       "      <td>72832.16</td>\n",
       "    </tr>\n",
       "    <tr>\n",
       "      <th>DS5</th>\n",
       "      <td>124549.07</td>\n",
       "    </tr>\n",
       "    <tr>\n",
       "      <th>Aston Martin DB4</th>\n",
       "      <td>92612.10</td>\n",
       "    </tr>\n",
       "    <tr>\n",
       "      <th>...</th>\n",
       "      <td>...</td>\n",
       "    </tr>\n",
       "    <tr>\n",
       "      <th>Phantom 2013</th>\n",
       "      <td>51759.58</td>\n",
       "    </tr>\n",
       "    <tr>\n",
       "      <th>Cadillac Ciel concept</th>\n",
       "      <td>51667.06</td>\n",
       "    </tr>\n",
       "    <tr>\n",
       "      <th>Classe GLK</th>\n",
       "      <td>68934.03</td>\n",
       "    </tr>\n",
       "    <tr>\n",
       "      <th>Aston Martin DB5</th>\n",
       "      <td>122110.90</td>\n",
       "    </tr>\n",
       "    <tr>\n",
       "      <th>Macan</th>\n",
       "      <td>90381.47</td>\n",
       "    </tr>\n",
       "  </tbody>\n",
       "</table>\n",
       "<p>258 rows × 1 columns</p>\n",
       "</div>"
      ],
      "text/plain": [
       "                           Valor\n",
       "Nome                            \n",
       "Jetta Variant           88078.64\n",
       "Passat                 106161.94\n",
       "Crossfox                72832.16\n",
       "DS5                    124549.07\n",
       "Aston Martin DB4        92612.10\n",
       "...                          ...\n",
       "Phantom 2013            51759.58\n",
       "Cadillac Ciel concept   51667.06\n",
       "Classe GLK              68934.03\n",
       "Aston Martin DB5       122110.90\n",
       "Macan                   90381.47\n",
       "\n",
       "[258 rows x 1 columns]"
      ]
     },
     "execution_count": 142,
     "metadata": {},
     "output_type": "execute_result"
    }
   ],
   "source": [
    "dataset[['Valor']]"
   ]
  },
  {
   "cell_type": "code",
   "execution_count": 143,
   "metadata": {},
   "outputs": [
    {
     "data": {
      "text/plain": [
       "pandas.core.frame.DataFrame"
      ]
     },
     "execution_count": 143,
     "metadata": {},
     "output_type": "execute_result"
    }
   ],
   "source": [
    "type(dataset[['Valor']])"
   ]
  },
  {
   "cell_type": "markdown",
   "metadata": {
    "id": "7RPXPm1XD1BQ"
   },
   "source": [
    "### Selecionando linhas - [ i : j ] \n",
    "\n",
    "<font color=red>**Observação:**</font> A indexação tem origem no zero e nos fatiamentos (*slices*) a linha com índice i é **incluída** e a linha com índice j **não é incluída** no resultado."
   ]
  },
  {
   "cell_type": "code",
   "execution_count": 146,
   "metadata": {
    "id": "PdDUwPw3D1BQ"
   },
   "outputs": [
    {
     "data": {
      "text/html": [
       "<div>\n",
       "<style scoped>\n",
       "    .dataframe tbody tr th:only-of-type {\n",
       "        vertical-align: middle;\n",
       "    }\n",
       "\n",
       "    .dataframe tbody tr th {\n",
       "        vertical-align: top;\n",
       "    }\n",
       "\n",
       "    .dataframe thead th {\n",
       "        text-align: right;\n",
       "    }\n",
       "</style>\n",
       "<table border=\"1\" class=\"dataframe\">\n",
       "  <thead>\n",
       "    <tr style=\"text-align: right;\">\n",
       "      <th></th>\n",
       "      <th>Motor</th>\n",
       "      <th>Ano</th>\n",
       "      <th>Quilometragem</th>\n",
       "      <th>Zero_km</th>\n",
       "      <th>Acessórios</th>\n",
       "      <th>Valor</th>\n",
       "    </tr>\n",
       "    <tr>\n",
       "      <th>Nome</th>\n",
       "      <th></th>\n",
       "      <th></th>\n",
       "      <th></th>\n",
       "      <th></th>\n",
       "      <th></th>\n",
       "      <th></th>\n",
       "    </tr>\n",
       "  </thead>\n",
       "  <tbody>\n",
       "    <tr>\n",
       "      <th>Jetta Variant</th>\n",
       "      <td>Motor 4.0 Turbo</td>\n",
       "      <td>2003</td>\n",
       "      <td>44410.0</td>\n",
       "      <td>False</td>\n",
       "      <td>['Rodas de liga', 'Travas elétricas', 'Piloto ...</td>\n",
       "      <td>88078.64</td>\n",
       "    </tr>\n",
       "    <tr>\n",
       "      <th>Passat</th>\n",
       "      <td>Motor Diesel</td>\n",
       "      <td>1991</td>\n",
       "      <td>5712.0</td>\n",
       "      <td>False</td>\n",
       "      <td>['Central multimídia', 'Teto panorâmico', 'Fre...</td>\n",
       "      <td>106161.94</td>\n",
       "    </tr>\n",
       "    <tr>\n",
       "      <th>Crossfox</th>\n",
       "      <td>Motor Diesel V8</td>\n",
       "      <td>1990</td>\n",
       "      <td>37123.0</td>\n",
       "      <td>False</td>\n",
       "      <td>['Piloto automático', 'Controle de estabilidad...</td>\n",
       "      <td>72832.16</td>\n",
       "    </tr>\n",
       "  </tbody>\n",
       "</table>\n",
       "</div>"
      ],
      "text/plain": [
       "                         Motor   Ano  Quilometragem  Zero_km  \\\n",
       "Nome                                                           \n",
       "Jetta Variant  Motor 4.0 Turbo  2003        44410.0    False   \n",
       "Passat            Motor Diesel  1991         5712.0    False   \n",
       "Crossfox       Motor Diesel V8  1990        37123.0    False   \n",
       "\n",
       "                                                      Acessórios      Valor  \n",
       "Nome                                                                         \n",
       "Jetta Variant  ['Rodas de liga', 'Travas elétricas', 'Piloto ...   88078.64  \n",
       "Passat         ['Central multimídia', 'Teto panorâmico', 'Fre...  106161.94  \n",
       "Crossfox       ['Piloto automático', 'Controle de estabilidad...   72832.16  "
      ]
     },
     "execution_count": 146,
     "metadata": {},
     "output_type": "execute_result"
    }
   ],
   "source": [
    "dataset[0:3]"
   ]
  },
  {
   "cell_type": "markdown",
   "metadata": {
    "id": "G3DMSk97D1BR"
   },
   "source": [
    "### Utilizando .loc para seleções\n",
    "\n",
    "<font color=red>**Observação:**</font> Seleciona um grupo de linhas e colunas segundo os rótulos ou uma matriz booleana."
   ]
  },
  {
   "cell_type": "code",
   "execution_count": 149,
   "metadata": {
    "id": "Ftg-hNOoD1BR"
   },
   "outputs": [
    {
     "data": {
      "text/html": [
       "<div>\n",
       "<style scoped>\n",
       "    .dataframe tbody tr th:only-of-type {\n",
       "        vertical-align: middle;\n",
       "    }\n",
       "\n",
       "    .dataframe tbody tr th {\n",
       "        vertical-align: top;\n",
       "    }\n",
       "\n",
       "    .dataframe thead th {\n",
       "        text-align: right;\n",
       "    }\n",
       "</style>\n",
       "<table border=\"1\" class=\"dataframe\">\n",
       "  <thead>\n",
       "    <tr style=\"text-align: right;\">\n",
       "      <th></th>\n",
       "      <th>Motor</th>\n",
       "      <th>Ano</th>\n",
       "      <th>Quilometragem</th>\n",
       "      <th>Zero_km</th>\n",
       "      <th>Acessórios</th>\n",
       "      <th>Valor</th>\n",
       "    </tr>\n",
       "    <tr>\n",
       "      <th>Nome</th>\n",
       "      <th></th>\n",
       "      <th></th>\n",
       "      <th></th>\n",
       "      <th></th>\n",
       "      <th></th>\n",
       "      <th></th>\n",
       "    </tr>\n",
       "  </thead>\n",
       "  <tbody>\n",
       "    <tr>\n",
       "      <th>Passat</th>\n",
       "      <td>Motor Diesel</td>\n",
       "      <td>1991</td>\n",
       "      <td>5712.0</td>\n",
       "      <td>False</td>\n",
       "      <td>['Central multimídia', 'Teto panorâmico', 'Fre...</td>\n",
       "      <td>106161.94</td>\n",
       "    </tr>\n",
       "    <tr>\n",
       "      <th>DS5</th>\n",
       "      <td>Motor 2.4 Turbo</td>\n",
       "      <td>2019</td>\n",
       "      <td>NaN</td>\n",
       "      <td>True</td>\n",
       "      <td>['Travas elétricas', '4 X 4', 'Vidros elétrico...</td>\n",
       "      <td>124549.07</td>\n",
       "    </tr>\n",
       "  </tbody>\n",
       "</table>\n",
       "</div>"
      ],
      "text/plain": [
       "                  Motor   Ano  Quilometragem  Zero_km  \\\n",
       "Nome                                                    \n",
       "Passat     Motor Diesel  1991         5712.0    False   \n",
       "DS5     Motor 2.4 Turbo  2019            NaN     True   \n",
       "\n",
       "                                               Acessórios      Valor  \n",
       "Nome                                                                  \n",
       "Passat  ['Central multimídia', 'Teto panorâmico', 'Fre...  106161.94  \n",
       "DS5     ['Travas elétricas', '4 X 4', 'Vidros elétrico...  124549.07  "
      ]
     },
     "execution_count": 149,
     "metadata": {},
     "output_type": "execute_result"
    }
   ],
   "source": [
    "dataset.loc[['Passat', 'DS5']]"
   ]
  },
  {
   "cell_type": "code",
   "execution_count": 150,
   "metadata": {
    "id": "xdxkDrHvD1BS"
   },
   "outputs": [
    {
     "data": {
      "text/html": [
       "<div>\n",
       "<style scoped>\n",
       "    .dataframe tbody tr th:only-of-type {\n",
       "        vertical-align: middle;\n",
       "    }\n",
       "\n",
       "    .dataframe tbody tr th {\n",
       "        vertical-align: top;\n",
       "    }\n",
       "\n",
       "    .dataframe thead th {\n",
       "        text-align: right;\n",
       "    }\n",
       "</style>\n",
       "<table border=\"1\" class=\"dataframe\">\n",
       "  <thead>\n",
       "    <tr style=\"text-align: right;\">\n",
       "      <th></th>\n",
       "      <th>Motor</th>\n",
       "      <th>Ano</th>\n",
       "    </tr>\n",
       "    <tr>\n",
       "      <th>Nome</th>\n",
       "      <th></th>\n",
       "      <th></th>\n",
       "    </tr>\n",
       "  </thead>\n",
       "  <tbody>\n",
       "    <tr>\n",
       "      <th>Passat</th>\n",
       "      <td>Motor Diesel</td>\n",
       "      <td>1991</td>\n",
       "    </tr>\n",
       "    <tr>\n",
       "      <th>DS5</th>\n",
       "      <td>Motor 2.4 Turbo</td>\n",
       "      <td>2019</td>\n",
       "    </tr>\n",
       "  </tbody>\n",
       "</table>\n",
       "</div>"
      ],
      "text/plain": [
       "                  Motor   Ano\n",
       "Nome                         \n",
       "Passat     Motor Diesel  1991\n",
       "DS5     Motor 2.4 Turbo  2019"
      ]
     },
     "execution_count": 150,
     "metadata": {},
     "output_type": "execute_result"
    }
   ],
   "source": [
    "dataset.loc[['Passat', 'DS5'], ['Motor', 'Ano']]"
   ]
  },
  {
   "cell_type": "code",
   "execution_count": 151,
   "metadata": {
    "id": "pMN3U1KjD1BS"
   },
   "outputs": [
    {
     "data": {
      "text/html": [
       "<div>\n",
       "<style scoped>\n",
       "    .dataframe tbody tr th:only-of-type {\n",
       "        vertical-align: middle;\n",
       "    }\n",
       "\n",
       "    .dataframe tbody tr th {\n",
       "        vertical-align: top;\n",
       "    }\n",
       "\n",
       "    .dataframe thead th {\n",
       "        text-align: right;\n",
       "    }\n",
       "</style>\n",
       "<table border=\"1\" class=\"dataframe\">\n",
       "  <thead>\n",
       "    <tr style=\"text-align: right;\">\n",
       "      <th></th>\n",
       "      <th>Motor</th>\n",
       "      <th>Ano</th>\n",
       "    </tr>\n",
       "    <tr>\n",
       "      <th>Nome</th>\n",
       "      <th></th>\n",
       "      <th></th>\n",
       "    </tr>\n",
       "  </thead>\n",
       "  <tbody>\n",
       "    <tr>\n",
       "      <th>Jetta Variant</th>\n",
       "      <td>Motor 4.0 Turbo</td>\n",
       "      <td>2003</td>\n",
       "    </tr>\n",
       "    <tr>\n",
       "      <th>Passat</th>\n",
       "      <td>Motor Diesel</td>\n",
       "      <td>1991</td>\n",
       "    </tr>\n",
       "    <tr>\n",
       "      <th>Crossfox</th>\n",
       "      <td>Motor Diesel V8</td>\n",
       "      <td>1990</td>\n",
       "    </tr>\n",
       "    <tr>\n",
       "      <th>DS5</th>\n",
       "      <td>Motor 2.4 Turbo</td>\n",
       "      <td>2019</td>\n",
       "    </tr>\n",
       "    <tr>\n",
       "      <th>Aston Martin DB4</th>\n",
       "      <td>Motor 2.4 Turbo</td>\n",
       "      <td>2006</td>\n",
       "    </tr>\n",
       "    <tr>\n",
       "      <th>...</th>\n",
       "      <td>...</td>\n",
       "      <td>...</td>\n",
       "    </tr>\n",
       "    <tr>\n",
       "      <th>Phantom 2013</th>\n",
       "      <td>Motor V8</td>\n",
       "      <td>2014</td>\n",
       "    </tr>\n",
       "    <tr>\n",
       "      <th>Cadillac Ciel concept</th>\n",
       "      <td>Motor V8</td>\n",
       "      <td>1991</td>\n",
       "    </tr>\n",
       "    <tr>\n",
       "      <th>Classe GLK</th>\n",
       "      <td>Motor 5.0 V8 Bi-Turbo</td>\n",
       "      <td>2002</td>\n",
       "    </tr>\n",
       "    <tr>\n",
       "      <th>Aston Martin DB5</th>\n",
       "      <td>Motor Diesel</td>\n",
       "      <td>1996</td>\n",
       "    </tr>\n",
       "    <tr>\n",
       "      <th>Macan</th>\n",
       "      <td>Motor Diesel V6</td>\n",
       "      <td>1992</td>\n",
       "    </tr>\n",
       "  </tbody>\n",
       "</table>\n",
       "<p>258 rows × 2 columns</p>\n",
       "</div>"
      ],
      "text/plain": [
       "                                       Motor   Ano\n",
       "Nome                                              \n",
       "Jetta Variant                Motor 4.0 Turbo  2003\n",
       "Passat                          Motor Diesel  1991\n",
       "Crossfox                     Motor Diesel V8  1990\n",
       "DS5                          Motor 2.4 Turbo  2019\n",
       "Aston Martin DB4             Motor 2.4 Turbo  2006\n",
       "...                                      ...   ...\n",
       "Phantom 2013                        Motor V8  2014\n",
       "Cadillac Ciel concept               Motor V8  1991\n",
       "Classe GLK             Motor 5.0 V8 Bi-Turbo  2002\n",
       "Aston Martin DB5                Motor Diesel  1996\n",
       "Macan                        Motor Diesel V6  1992\n",
       "\n",
       "[258 rows x 2 columns]"
      ]
     },
     "execution_count": 151,
     "metadata": {},
     "output_type": "execute_result"
    }
   ],
   "source": [
    "dataset.loc[:, ['Motor', 'Ano']]"
   ]
  },
  {
   "cell_type": "markdown",
   "metadata": {
    "id": "SYKEe3vCD1BT"
   },
   "source": [
    "### Utilizando .iloc para seleções\n",
    "\n",
    "<font color=red>**Observação:**</font> Seleciona com base nos índices, ou seja, se baseia na posição das informações."
   ]
  },
  {
   "cell_type": "code",
   "execution_count": 155,
   "metadata": {},
   "outputs": [
    {
     "data": {
      "text/html": [
       "<div>\n",
       "<style scoped>\n",
       "    .dataframe tbody tr th:only-of-type {\n",
       "        vertical-align: middle;\n",
       "    }\n",
       "\n",
       "    .dataframe tbody tr th {\n",
       "        vertical-align: top;\n",
       "    }\n",
       "\n",
       "    .dataframe thead th {\n",
       "        text-align: right;\n",
       "    }\n",
       "</style>\n",
       "<table border=\"1\" class=\"dataframe\">\n",
       "  <thead>\n",
       "    <tr style=\"text-align: right;\">\n",
       "      <th></th>\n",
       "      <th>Motor</th>\n",
       "      <th>Ano</th>\n",
       "      <th>Quilometragem</th>\n",
       "      <th>Zero_km</th>\n",
       "      <th>Acessórios</th>\n",
       "      <th>Valor</th>\n",
       "    </tr>\n",
       "    <tr>\n",
       "      <th>Nome</th>\n",
       "      <th></th>\n",
       "      <th></th>\n",
       "      <th></th>\n",
       "      <th></th>\n",
       "      <th></th>\n",
       "      <th></th>\n",
       "    </tr>\n",
       "  </thead>\n",
       "  <tbody>\n",
       "    <tr>\n",
       "      <th>Jetta Variant</th>\n",
       "      <td>Motor 4.0 Turbo</td>\n",
       "      <td>2003</td>\n",
       "      <td>44410.0</td>\n",
       "      <td>False</td>\n",
       "      <td>['Rodas de liga', 'Travas elétricas', 'Piloto ...</td>\n",
       "      <td>88078.64</td>\n",
       "    </tr>\n",
       "    <tr>\n",
       "      <th>Passat</th>\n",
       "      <td>Motor Diesel</td>\n",
       "      <td>1991</td>\n",
       "      <td>5712.0</td>\n",
       "      <td>False</td>\n",
       "      <td>['Central multimídia', 'Teto panorâmico', 'Fre...</td>\n",
       "      <td>106161.94</td>\n",
       "    </tr>\n",
       "    <tr>\n",
       "      <th>Crossfox</th>\n",
       "      <td>Motor Diesel V8</td>\n",
       "      <td>1990</td>\n",
       "      <td>37123.0</td>\n",
       "      <td>False</td>\n",
       "      <td>['Piloto automático', 'Controle de estabilidad...</td>\n",
       "      <td>72832.16</td>\n",
       "    </tr>\n",
       "    <tr>\n",
       "      <th>DS5</th>\n",
       "      <td>Motor 2.4 Turbo</td>\n",
       "      <td>2019</td>\n",
       "      <td>NaN</td>\n",
       "      <td>True</td>\n",
       "      <td>['Travas elétricas', '4 X 4', 'Vidros elétrico...</td>\n",
       "      <td>124549.07</td>\n",
       "    </tr>\n",
       "    <tr>\n",
       "      <th>Aston Martin DB4</th>\n",
       "      <td>Motor 2.4 Turbo</td>\n",
       "      <td>2006</td>\n",
       "      <td>25757.0</td>\n",
       "      <td>False</td>\n",
       "      <td>['Rodas de liga', '4 X 4', 'Central multimídia...</td>\n",
       "      <td>92612.10</td>\n",
       "    </tr>\n",
       "  </tbody>\n",
       "</table>\n",
       "</div>"
      ],
      "text/plain": [
       "                            Motor   Ano  Quilometragem  Zero_km  \\\n",
       "Nome                                                              \n",
       "Jetta Variant     Motor 4.0 Turbo  2003        44410.0    False   \n",
       "Passat               Motor Diesel  1991         5712.0    False   \n",
       "Crossfox          Motor Diesel V8  1990        37123.0    False   \n",
       "DS5               Motor 2.4 Turbo  2019            NaN     True   \n",
       "Aston Martin DB4  Motor 2.4 Turbo  2006        25757.0    False   \n",
       "\n",
       "                                                         Acessórios      Valor  \n",
       "Nome                                                                            \n",
       "Jetta Variant     ['Rodas de liga', 'Travas elétricas', 'Piloto ...   88078.64  \n",
       "Passat            ['Central multimídia', 'Teto panorâmico', 'Fre...  106161.94  \n",
       "Crossfox          ['Piloto automático', 'Controle de estabilidad...   72832.16  \n",
       "DS5               ['Travas elétricas', '4 X 4', 'Vidros elétrico...  124549.07  \n",
       "Aston Martin DB4  ['Rodas de liga', '4 X 4', 'Central multimídia...   92612.10  "
      ]
     },
     "execution_count": 155,
     "metadata": {},
     "output_type": "execute_result"
    }
   ],
   "source": [
    "dataset.head()"
   ]
  },
  {
   "cell_type": "code",
   "execution_count": 152,
   "metadata": {
    "id": "U4Bru90bD1BT"
   },
   "outputs": [
    {
     "data": {
      "text/plain": [
       "Motor                                                 Motor Diesel\n",
       "Ano                                                           1991\n",
       "Quilometragem                                                 5712\n",
       "Zero_km                                                      False\n",
       "Acessórios       ['Central multimídia', 'Teto panorâmico', 'Fre...\n",
       "Valor                                                       106162\n",
       "Name: Passat, dtype: object"
      ]
     },
     "execution_count": 152,
     "metadata": {},
     "output_type": "execute_result"
    }
   ],
   "source": [
    "dataset.iloc[1]"
   ]
  },
  {
   "cell_type": "code",
   "execution_count": 153,
   "metadata": {
    "id": "iLKUyrzND1BU"
   },
   "outputs": [
    {
     "data": {
      "text/html": [
       "<div>\n",
       "<style scoped>\n",
       "    .dataframe tbody tr th:only-of-type {\n",
       "        vertical-align: middle;\n",
       "    }\n",
       "\n",
       "    .dataframe tbody tr th {\n",
       "        vertical-align: top;\n",
       "    }\n",
       "\n",
       "    .dataframe thead th {\n",
       "        text-align: right;\n",
       "    }\n",
       "</style>\n",
       "<table border=\"1\" class=\"dataframe\">\n",
       "  <thead>\n",
       "    <tr style=\"text-align: right;\">\n",
       "      <th></th>\n",
       "      <th>Motor</th>\n",
       "      <th>Ano</th>\n",
       "      <th>Quilometragem</th>\n",
       "      <th>Zero_km</th>\n",
       "      <th>Acessórios</th>\n",
       "      <th>Valor</th>\n",
       "    </tr>\n",
       "    <tr>\n",
       "      <th>Nome</th>\n",
       "      <th></th>\n",
       "      <th></th>\n",
       "      <th></th>\n",
       "      <th></th>\n",
       "      <th></th>\n",
       "      <th></th>\n",
       "    </tr>\n",
       "  </thead>\n",
       "  <tbody>\n",
       "    <tr>\n",
       "      <th>Passat</th>\n",
       "      <td>Motor Diesel</td>\n",
       "      <td>1991</td>\n",
       "      <td>5712.0</td>\n",
       "      <td>False</td>\n",
       "      <td>['Central multimídia', 'Teto panorâmico', 'Fre...</td>\n",
       "      <td>106161.94</td>\n",
       "    </tr>\n",
       "  </tbody>\n",
       "</table>\n",
       "</div>"
      ],
      "text/plain": [
       "               Motor   Ano  Quilometragem  Zero_km  \\\n",
       "Nome                                                 \n",
       "Passat  Motor Diesel  1991         5712.0    False   \n",
       "\n",
       "                                               Acessórios      Valor  \n",
       "Nome                                                                  \n",
       "Passat  ['Central multimídia', 'Teto panorâmico', 'Fre...  106161.94  "
      ]
     },
     "execution_count": 153,
     "metadata": {},
     "output_type": "execute_result"
    }
   ],
   "source": [
    "dataset.iloc[[1]]"
   ]
  },
  {
   "cell_type": "code",
   "execution_count": 157,
   "metadata": {
    "id": "KGZpixYUD1BU"
   },
   "outputs": [
    {
     "data": {
      "text/html": [
       "<div>\n",
       "<style scoped>\n",
       "    .dataframe tbody tr th:only-of-type {\n",
       "        vertical-align: middle;\n",
       "    }\n",
       "\n",
       "    .dataframe tbody tr th {\n",
       "        vertical-align: top;\n",
       "    }\n",
       "\n",
       "    .dataframe thead th {\n",
       "        text-align: right;\n",
       "    }\n",
       "</style>\n",
       "<table border=\"1\" class=\"dataframe\">\n",
       "  <thead>\n",
       "    <tr style=\"text-align: right;\">\n",
       "      <th></th>\n",
       "      <th>Motor</th>\n",
       "      <th>Ano</th>\n",
       "      <th>Quilometragem</th>\n",
       "      <th>Zero_km</th>\n",
       "      <th>Acessórios</th>\n",
       "      <th>Valor</th>\n",
       "    </tr>\n",
       "    <tr>\n",
       "      <th>Nome</th>\n",
       "      <th></th>\n",
       "      <th></th>\n",
       "      <th></th>\n",
       "      <th></th>\n",
       "      <th></th>\n",
       "      <th></th>\n",
       "    </tr>\n",
       "  </thead>\n",
       "  <tbody>\n",
       "    <tr>\n",
       "      <th>Passat</th>\n",
       "      <td>Motor Diesel</td>\n",
       "      <td>1991</td>\n",
       "      <td>5712.0</td>\n",
       "      <td>False</td>\n",
       "      <td>['Central multimídia', 'Teto panorâmico', 'Fre...</td>\n",
       "      <td>106161.94</td>\n",
       "    </tr>\n",
       "    <tr>\n",
       "      <th>Crossfox</th>\n",
       "      <td>Motor Diesel V8</td>\n",
       "      <td>1990</td>\n",
       "      <td>37123.0</td>\n",
       "      <td>False</td>\n",
       "      <td>['Piloto automático', 'Controle de estabilidad...</td>\n",
       "      <td>72832.16</td>\n",
       "    </tr>\n",
       "    <tr>\n",
       "      <th>DS5</th>\n",
       "      <td>Motor 2.4 Turbo</td>\n",
       "      <td>2019</td>\n",
       "      <td>NaN</td>\n",
       "      <td>True</td>\n",
       "      <td>['Travas elétricas', '4 X 4', 'Vidros elétrico...</td>\n",
       "      <td>124549.07</td>\n",
       "    </tr>\n",
       "  </tbody>\n",
       "</table>\n",
       "</div>"
      ],
      "text/plain": [
       "                    Motor   Ano  Quilometragem  Zero_km  \\\n",
       "Nome                                                      \n",
       "Passat       Motor Diesel  1991         5712.0    False   \n",
       "Crossfox  Motor Diesel V8  1990        37123.0    False   \n",
       "DS5       Motor 2.4 Turbo  2019            NaN     True   \n",
       "\n",
       "                                                 Acessórios      Valor  \n",
       "Nome                                                                    \n",
       "Passat    ['Central multimídia', 'Teto panorâmico', 'Fre...  106161.94  \n",
       "Crossfox  ['Piloto automático', 'Controle de estabilidad...   72832.16  \n",
       "DS5       ['Travas elétricas', '4 X 4', 'Vidros elétrico...  124549.07  "
      ]
     },
     "execution_count": 157,
     "metadata": {},
     "output_type": "execute_result"
    }
   ],
   "source": [
    "dataset.iloc[1:4]"
   ]
  },
  {
   "cell_type": "code",
   "execution_count": 158,
   "metadata": {
    "id": "GxdqIz4LD1BV"
   },
   "outputs": [
    {
     "data": {
      "text/html": [
       "<div>\n",
       "<style scoped>\n",
       "    .dataframe tbody tr th:only-of-type {\n",
       "        vertical-align: middle;\n",
       "    }\n",
       "\n",
       "    .dataframe tbody tr th {\n",
       "        vertical-align: top;\n",
       "    }\n",
       "\n",
       "    .dataframe thead th {\n",
       "        text-align: right;\n",
       "    }\n",
       "</style>\n",
       "<table border=\"1\" class=\"dataframe\">\n",
       "  <thead>\n",
       "    <tr style=\"text-align: right;\">\n",
       "      <th></th>\n",
       "      <th>Motor</th>\n",
       "      <th>Valor</th>\n",
       "      <th>Quilometragem</th>\n",
       "    </tr>\n",
       "    <tr>\n",
       "      <th>Nome</th>\n",
       "      <th></th>\n",
       "      <th></th>\n",
       "      <th></th>\n",
       "    </tr>\n",
       "  </thead>\n",
       "  <tbody>\n",
       "    <tr>\n",
       "      <th>Passat</th>\n",
       "      <td>Motor Diesel</td>\n",
       "      <td>106161.94</td>\n",
       "      <td>5712.0</td>\n",
       "    </tr>\n",
       "    <tr>\n",
       "      <th>Crossfox</th>\n",
       "      <td>Motor Diesel V8</td>\n",
       "      <td>72832.16</td>\n",
       "      <td>37123.0</td>\n",
       "    </tr>\n",
       "    <tr>\n",
       "      <th>DS5</th>\n",
       "      <td>Motor 2.4 Turbo</td>\n",
       "      <td>124549.07</td>\n",
       "      <td>NaN</td>\n",
       "    </tr>\n",
       "  </tbody>\n",
       "</table>\n",
       "</div>"
      ],
      "text/plain": [
       "                    Motor      Valor  Quilometragem\n",
       "Nome                                               \n",
       "Passat       Motor Diesel  106161.94         5712.0\n",
       "Crossfox  Motor Diesel V8   72832.16        37123.0\n",
       "DS5       Motor 2.4 Turbo  124549.07            NaN"
      ]
     },
     "execution_count": 158,
     "metadata": {},
     "output_type": "execute_result"
    }
   ],
   "source": [
    "dataset.iloc[1:4, [0, 5, 2]]"
   ]
  },
  {
   "cell_type": "code",
   "execution_count": 159,
   "metadata": {
    "id": "AVIhs7uLD1BW",
    "scrolled": false
   },
   "outputs": [
    {
     "data": {
      "text/html": [
       "<div>\n",
       "<style scoped>\n",
       "    .dataframe tbody tr th:only-of-type {\n",
       "        vertical-align: middle;\n",
       "    }\n",
       "\n",
       "    .dataframe tbody tr th {\n",
       "        vertical-align: top;\n",
       "    }\n",
       "\n",
       "    .dataframe thead th {\n",
       "        text-align: right;\n",
       "    }\n",
       "</style>\n",
       "<table border=\"1\" class=\"dataframe\">\n",
       "  <thead>\n",
       "    <tr style=\"text-align: right;\">\n",
       "      <th></th>\n",
       "      <th>Motor</th>\n",
       "      <th>Valor</th>\n",
       "      <th>Quilometragem</th>\n",
       "    </tr>\n",
       "    <tr>\n",
       "      <th>Nome</th>\n",
       "      <th></th>\n",
       "      <th></th>\n",
       "      <th></th>\n",
       "    </tr>\n",
       "  </thead>\n",
       "  <tbody>\n",
       "    <tr>\n",
       "      <th>Passat</th>\n",
       "      <td>Motor Diesel</td>\n",
       "      <td>106161.94</td>\n",
       "      <td>5712.0</td>\n",
       "    </tr>\n",
       "    <tr>\n",
       "      <th>Optima</th>\n",
       "      <td>Motor 1.8 16v</td>\n",
       "      <td>86641.34</td>\n",
       "      <td>NaN</td>\n",
       "    </tr>\n",
       "    <tr>\n",
       "      <th>Lamborghini Obvious</th>\n",
       "      <td>Motor Diesel V6</td>\n",
       "      <td>133529.84</td>\n",
       "      <td>98079.0</td>\n",
       "    </tr>\n",
       "  </tbody>\n",
       "</table>\n",
       "</div>"
      ],
      "text/plain": [
       "                               Motor      Valor  Quilometragem\n",
       "Nome                                                          \n",
       "Passat                  Motor Diesel  106161.94         5712.0\n",
       "Optima                 Motor 1.8 16v   86641.34            NaN\n",
       "Lamborghini Obvious  Motor Diesel V6  133529.84        98079.0"
      ]
     },
     "execution_count": 159,
     "metadata": {},
     "output_type": "execute_result"
    }
   ],
   "source": [
    "dataset.iloc[[1,42,22], [0, 5, 2]]"
   ]
  },
  {
   "cell_type": "code",
   "execution_count": 160,
   "metadata": {
    "scrolled": true
   },
   "outputs": [
    {
     "data": {
      "text/html": [
       "<div>\n",
       "<style scoped>\n",
       "    .dataframe tbody tr th:only-of-type {\n",
       "        vertical-align: middle;\n",
       "    }\n",
       "\n",
       "    .dataframe tbody tr th {\n",
       "        vertical-align: top;\n",
       "    }\n",
       "\n",
       "    .dataframe thead th {\n",
       "        text-align: right;\n",
       "    }\n",
       "</style>\n",
       "<table border=\"1\" class=\"dataframe\">\n",
       "  <thead>\n",
       "    <tr style=\"text-align: right;\">\n",
       "      <th></th>\n",
       "      <th>Motor</th>\n",
       "      <th>Valor</th>\n",
       "      <th>Quilometragem</th>\n",
       "    </tr>\n",
       "    <tr>\n",
       "      <th>Nome</th>\n",
       "      <th></th>\n",
       "      <th></th>\n",
       "      <th></th>\n",
       "    </tr>\n",
       "  </thead>\n",
       "  <tbody>\n",
       "    <tr>\n",
       "      <th>Jetta Variant</th>\n",
       "      <td>Motor 4.0 Turbo</td>\n",
       "      <td>88078.64</td>\n",
       "      <td>44410.0</td>\n",
       "    </tr>\n",
       "    <tr>\n",
       "      <th>Passat</th>\n",
       "      <td>Motor Diesel</td>\n",
       "      <td>106161.94</td>\n",
       "      <td>5712.0</td>\n",
       "    </tr>\n",
       "    <tr>\n",
       "      <th>Crossfox</th>\n",
       "      <td>Motor Diesel V8</td>\n",
       "      <td>72832.16</td>\n",
       "      <td>37123.0</td>\n",
       "    </tr>\n",
       "    <tr>\n",
       "      <th>DS5</th>\n",
       "      <td>Motor 2.4 Turbo</td>\n",
       "      <td>124549.07</td>\n",
       "      <td>NaN</td>\n",
       "    </tr>\n",
       "    <tr>\n",
       "      <th>Aston Martin DB4</th>\n",
       "      <td>Motor 2.4 Turbo</td>\n",
       "      <td>92612.10</td>\n",
       "      <td>25757.0</td>\n",
       "    </tr>\n",
       "    <tr>\n",
       "      <th>...</th>\n",
       "      <td>...</td>\n",
       "      <td>...</td>\n",
       "      <td>...</td>\n",
       "    </tr>\n",
       "    <tr>\n",
       "      <th>Phantom 2013</th>\n",
       "      <td>Motor V8</td>\n",
       "      <td>51759.58</td>\n",
       "      <td>27505.0</td>\n",
       "    </tr>\n",
       "    <tr>\n",
       "      <th>Cadillac Ciel concept</th>\n",
       "      <td>Motor V8</td>\n",
       "      <td>51667.06</td>\n",
       "      <td>29981.0</td>\n",
       "    </tr>\n",
       "    <tr>\n",
       "      <th>Classe GLK</th>\n",
       "      <td>Motor 5.0 V8 Bi-Turbo</td>\n",
       "      <td>68934.03</td>\n",
       "      <td>52637.0</td>\n",
       "    </tr>\n",
       "    <tr>\n",
       "      <th>Aston Martin DB5</th>\n",
       "      <td>Motor Diesel</td>\n",
       "      <td>122110.90</td>\n",
       "      <td>7685.0</td>\n",
       "    </tr>\n",
       "    <tr>\n",
       "      <th>Macan</th>\n",
       "      <td>Motor Diesel V6</td>\n",
       "      <td>90381.47</td>\n",
       "      <td>50188.0</td>\n",
       "    </tr>\n",
       "  </tbody>\n",
       "</table>\n",
       "<p>258 rows × 3 columns</p>\n",
       "</div>"
      ],
      "text/plain": [
       "                                       Motor      Valor  Quilometragem\n",
       "Nome                                                                  \n",
       "Jetta Variant                Motor 4.0 Turbo   88078.64        44410.0\n",
       "Passat                          Motor Diesel  106161.94         5712.0\n",
       "Crossfox                     Motor Diesel V8   72832.16        37123.0\n",
       "DS5                          Motor 2.4 Turbo  124549.07            NaN\n",
       "Aston Martin DB4             Motor 2.4 Turbo   92612.10        25757.0\n",
       "...                                      ...        ...            ...\n",
       "Phantom 2013                        Motor V8   51759.58        27505.0\n",
       "Cadillac Ciel concept               Motor V8   51667.06        29981.0\n",
       "Classe GLK             Motor 5.0 V8 Bi-Turbo   68934.03        52637.0\n",
       "Aston Martin DB5                Motor Diesel  122110.90         7685.0\n",
       "Macan                        Motor Diesel V6   90381.47        50188.0\n",
       "\n",
       "[258 rows x 3 columns]"
      ]
     },
     "execution_count": 160,
     "metadata": {},
     "output_type": "execute_result"
    }
   ],
   "source": [
    "dataset.iloc[:, [0, 5, 2]]"
   ]
  },
  {
   "cell_type": "code",
   "execution_count": 163,
   "metadata": {},
   "outputs": [],
   "source": [
    "import pandas as pd\n",
    "\n",
    "dados = {\n",
    "    'Nome': ['Jetta', 'Passat', 'Crossfox', 'DS5', 'Fusca'], \n",
    "    'Motor': ['Motor 4.0 Turbo', 'Motor Diesel', 'Motor Diesel V8', 'Motor 2.0', 'Motor 1.6'],\n",
    "    'Ano': [2019, 2003, 1991, 2019, 1990],\n",
    "    'Quilometragem': [0.0, 5712.0, 37123.0, 0.0, 120000.0],\n",
    "    'Zero_km': [True, False, False, True, False],\n",
    "    'Valor': [88000.0, 106000.0, 72000.0, 89000.0, 32000.0]\n",
    "}\n",
    "\n",
    "dataset = pd.DataFrame(dados)"
   ]
  },
  {
   "cell_type": "code",
   "execution_count": 165,
   "metadata": {},
   "outputs": [
    {
     "data": {
      "text/html": [
       "<div>\n",
       "<style scoped>\n",
       "    .dataframe tbody tr th:only-of-type {\n",
       "        vertical-align: middle;\n",
       "    }\n",
       "\n",
       "    .dataframe tbody tr th {\n",
       "        vertical-align: top;\n",
       "    }\n",
       "\n",
       "    .dataframe thead th {\n",
       "        text-align: right;\n",
       "    }\n",
       "</style>\n",
       "<table border=\"1\" class=\"dataframe\">\n",
       "  <thead>\n",
       "    <tr style=\"text-align: right;\">\n",
       "      <th></th>\n",
       "      <th>Nome</th>\n",
       "      <th>Ano</th>\n",
       "      <th>Quilometragem</th>\n",
       "      <th>Valor</th>\n",
       "    </tr>\n",
       "  </thead>\n",
       "  <tbody>\n",
       "    <tr>\n",
       "      <th>1</th>\n",
       "      <td>Passat</td>\n",
       "      <td>2003</td>\n",
       "      <td>5712.0</td>\n",
       "      <td>106000.0</td>\n",
       "    </tr>\n",
       "    <tr>\n",
       "      <th>2</th>\n",
       "      <td>Crossfox</td>\n",
       "      <td>1991</td>\n",
       "      <td>37123.0</td>\n",
       "      <td>72000.0</td>\n",
       "    </tr>\n",
       "  </tbody>\n",
       "</table>\n",
       "</div>"
      ],
      "text/plain": [
       "       Nome   Ano  Quilometragem     Valor\n",
       "1    Passat  2003         5712.0  106000.0\n",
       "2  Crossfox  1991        37123.0   72000.0"
      ]
     },
     "execution_count": 165,
     "metadata": {},
     "output_type": "execute_result"
    }
   ],
   "source": [
    "dataset[['Nome', 'Ano', 'Quilometragem', 'Valor']][1:3]"
   ]
  },
  {
   "cell_type": "code",
   "execution_count": 166,
   "metadata": {},
   "outputs": [],
   "source": [
    "import pandas as pd\n",
    "\n",
    "dados = {\n",
    "    'Motor': ['Motor 4.0 Turbo', 'Motor Diesel', 'Motor Diesel V8', 'Motor 2.0', 'Motor 1.6'],\n",
    "    'Ano': [2019, 2003, 1991, 2019, 1990],\n",
    "    'Quilometragem': [0.0, 5712.0, 37123.0, 0.0, 120000.0],\n",
    "    'Zero_km': [True, False, False, True, False],\n",
    "    'Valor': [88000.0, 106000.0, 72000.0, 89000.0, 32000.0]\n",
    "}\n",
    "\n",
    "dataset = pd.DataFrame(dados, index = ['Jetta', 'Passat', 'Crossfox', 'DS5', 'Fusca'])"
   ]
  },
  {
   "cell_type": "code",
   "execution_count": 168,
   "metadata": {},
   "outputs": [
    {
     "data": {
      "text/html": [
       "<div>\n",
       "<style scoped>\n",
       "    .dataframe tbody tr th:only-of-type {\n",
       "        vertical-align: middle;\n",
       "    }\n",
       "\n",
       "    .dataframe tbody tr th {\n",
       "        vertical-align: top;\n",
       "    }\n",
       "\n",
       "    .dataframe thead th {\n",
       "        text-align: right;\n",
       "    }\n",
       "</style>\n",
       "<table border=\"1\" class=\"dataframe\">\n",
       "  <thead>\n",
       "    <tr style=\"text-align: right;\">\n",
       "      <th></th>\n",
       "      <th>Motor</th>\n",
       "      <th>Valor</th>\n",
       "    </tr>\n",
       "  </thead>\n",
       "  <tbody>\n",
       "    <tr>\n",
       "      <th>Passat</th>\n",
       "      <td>Motor Diesel</td>\n",
       "      <td>106000.0</td>\n",
       "    </tr>\n",
       "    <tr>\n",
       "      <th>DS5</th>\n",
       "      <td>Motor 2.0</td>\n",
       "      <td>89000.0</td>\n",
       "    </tr>\n",
       "  </tbody>\n",
       "</table>\n",
       "</div>"
      ],
      "text/plain": [
       "               Motor     Valor\n",
       "Passat  Motor Diesel  106000.0\n",
       "DS5        Motor 2.0   89000.0"
      ]
     },
     "execution_count": 168,
     "metadata": {},
     "output_type": "execute_result"
    }
   ],
   "source": [
    "dataset.loc[['Passat', 'DS5'], ['Motor', 'Valor']]"
   ]
  },
  {
   "cell_type": "code",
   "execution_count": 174,
   "metadata": {},
   "outputs": [
    {
     "data": {
      "text/html": [
       "<div>\n",
       "<style scoped>\n",
       "    .dataframe tbody tr th:only-of-type {\n",
       "        vertical-align: middle;\n",
       "    }\n",
       "\n",
       "    .dataframe tbody tr th {\n",
       "        vertical-align: top;\n",
       "    }\n",
       "\n",
       "    .dataframe thead th {\n",
       "        text-align: right;\n",
       "    }\n",
       "</style>\n",
       "<table border=\"1\" class=\"dataframe\">\n",
       "  <thead>\n",
       "    <tr style=\"text-align: right;\">\n",
       "      <th></th>\n",
       "      <th>Motor</th>\n",
       "      <th>Valor</th>\n",
       "    </tr>\n",
       "  </thead>\n",
       "  <tbody>\n",
       "    <tr>\n",
       "      <th>Passat</th>\n",
       "      <td>Motor Diesel</td>\n",
       "      <td>106000.0</td>\n",
       "    </tr>\n",
       "    <tr>\n",
       "      <th>DS5</th>\n",
       "      <td>Motor 2.0</td>\n",
       "      <td>89000.0</td>\n",
       "    </tr>\n",
       "  </tbody>\n",
       "</table>\n",
       "</div>"
      ],
      "text/plain": [
       "               Motor     Valor\n",
       "Passat  Motor Diesel  106000.0\n",
       "DS5        Motor 2.0   89000.0"
      ]
     },
     "execution_count": 174,
     "metadata": {},
     "output_type": "execute_result"
    }
   ],
   "source": [
    "dataset.iloc[[1,3], [0,-1]]"
   ]
  },
  {
   "cell_type": "markdown",
   "metadata": {
    "id": "eAbwq1oLD1BW"
   },
   "source": [
    "# 5.3 Queries com DataFrames"
   ]
  },
  {
   "cell_type": "code",
   "execution_count": 177,
   "metadata": {},
   "outputs": [
    {
     "data": {
      "text/html": [
       "<div>\n",
       "<style scoped>\n",
       "    .dataframe tbody tr th:only-of-type {\n",
       "        vertical-align: middle;\n",
       "    }\n",
       "\n",
       "    .dataframe tbody tr th {\n",
       "        vertical-align: top;\n",
       "    }\n",
       "\n",
       "    .dataframe thead th {\n",
       "        text-align: right;\n",
       "    }\n",
       "</style>\n",
       "<table border=\"1\" class=\"dataframe\">\n",
       "  <thead>\n",
       "    <tr style=\"text-align: right;\">\n",
       "      <th></th>\n",
       "      <th>Motor</th>\n",
       "      <th>Ano</th>\n",
       "      <th>Quilometragem</th>\n",
       "      <th>Zero_km</th>\n",
       "      <th>Acessórios</th>\n",
       "      <th>Valor</th>\n",
       "    </tr>\n",
       "    <tr>\n",
       "      <th>Nome</th>\n",
       "      <th></th>\n",
       "      <th></th>\n",
       "      <th></th>\n",
       "      <th></th>\n",
       "      <th></th>\n",
       "      <th></th>\n",
       "    </tr>\n",
       "  </thead>\n",
       "  <tbody>\n",
       "    <tr>\n",
       "      <th>Jetta Variant</th>\n",
       "      <td>Motor 4.0 Turbo</td>\n",
       "      <td>2003</td>\n",
       "      <td>44410.0</td>\n",
       "      <td>False</td>\n",
       "      <td>['Rodas de liga', 'Travas elétricas', 'Piloto ...</td>\n",
       "      <td>88078.64</td>\n",
       "    </tr>\n",
       "    <tr>\n",
       "      <th>Passat</th>\n",
       "      <td>Motor Diesel</td>\n",
       "      <td>1991</td>\n",
       "      <td>5712.0</td>\n",
       "      <td>False</td>\n",
       "      <td>['Central multimídia', 'Teto panorâmico', 'Fre...</td>\n",
       "      <td>106161.94</td>\n",
       "    </tr>\n",
       "    <tr>\n",
       "      <th>Crossfox</th>\n",
       "      <td>Motor Diesel V8</td>\n",
       "      <td>1990</td>\n",
       "      <td>37123.0</td>\n",
       "      <td>False</td>\n",
       "      <td>['Piloto automático', 'Controle de estabilidad...</td>\n",
       "      <td>72832.16</td>\n",
       "    </tr>\n",
       "    <tr>\n",
       "      <th>DS5</th>\n",
       "      <td>Motor 2.4 Turbo</td>\n",
       "      <td>2019</td>\n",
       "      <td>NaN</td>\n",
       "      <td>True</td>\n",
       "      <td>['Travas elétricas', '4 X 4', 'Vidros elétrico...</td>\n",
       "      <td>124549.07</td>\n",
       "    </tr>\n",
       "    <tr>\n",
       "      <th>Aston Martin DB4</th>\n",
       "      <td>Motor 2.4 Turbo</td>\n",
       "      <td>2006</td>\n",
       "      <td>25757.0</td>\n",
       "      <td>False</td>\n",
       "      <td>['Rodas de liga', '4 X 4', 'Central multimídia...</td>\n",
       "      <td>92612.10</td>\n",
       "    </tr>\n",
       "  </tbody>\n",
       "</table>\n",
       "</div>"
      ],
      "text/plain": [
       "                            Motor   Ano  Quilometragem  Zero_km  \\\n",
       "Nome                                                              \n",
       "Jetta Variant     Motor 4.0 Turbo  2003        44410.0    False   \n",
       "Passat               Motor Diesel  1991         5712.0    False   \n",
       "Crossfox          Motor Diesel V8  1990        37123.0    False   \n",
       "DS5               Motor 2.4 Turbo  2019            NaN     True   \n",
       "Aston Martin DB4  Motor 2.4 Turbo  2006        25757.0    False   \n",
       "\n",
       "                                                         Acessórios      Valor  \n",
       "Nome                                                                            \n",
       "Jetta Variant     ['Rodas de liga', 'Travas elétricas', 'Piloto ...   88078.64  \n",
       "Passat            ['Central multimídia', 'Teto panorâmico', 'Fre...  106161.94  \n",
       "Crossfox          ['Piloto automático', 'Controle de estabilidad...   72832.16  \n",
       "DS5               ['Travas elétricas', '4 X 4', 'Vidros elétrico...  124549.07  \n",
       "Aston Martin DB4  ['Rodas de liga', '4 X 4', 'Central multimídia...   92612.10  "
      ]
     },
     "execution_count": 177,
     "metadata": {},
     "output_type": "execute_result"
    }
   ],
   "source": [
    "dataset.head()"
   ]
  },
  {
   "cell_type": "code",
   "execution_count": 178,
   "metadata": {
    "id": "AOZTWzehD1BW",
    "scrolled": true
   },
   "outputs": [
    {
     "data": {
      "text/plain": [
       "Nome\n",
       "Jetta Variant                  Motor 4.0 Turbo\n",
       "Passat                            Motor Diesel\n",
       "Crossfox                       Motor Diesel V8\n",
       "DS5                            Motor 2.4 Turbo\n",
       "Aston Martin DB4               Motor 2.4 Turbo\n",
       "                                 ...          \n",
       "Phantom 2013                          Motor V8\n",
       "Cadillac Ciel concept                 Motor V8\n",
       "Classe GLK               Motor 5.0 V8 Bi-Turbo\n",
       "Aston Martin DB5                  Motor Diesel\n",
       "Macan                          Motor Diesel V6\n",
       "Name: Motor, Length: 258, dtype: object"
      ]
     },
     "execution_count": 178,
     "metadata": {},
     "output_type": "execute_result"
    }
   ],
   "source": [
    "dataset.Motor"
   ]
  },
  {
   "cell_type": "code",
   "execution_count": 180,
   "metadata": {
    "id": "rO5T4h94D1BX",
    "scrolled": true
   },
   "outputs": [],
   "source": [
    "select = dataset.Motor == 'Motor Diesel'"
   ]
  },
  {
   "cell_type": "code",
   "execution_count": 181,
   "metadata": {
    "id": "STZ-l8oaD1BX"
   },
   "outputs": [
    {
     "data": {
      "text/plain": [
       "pandas.core.series.Series"
      ]
     },
     "execution_count": 181,
     "metadata": {},
     "output_type": "execute_result"
    }
   ],
   "source": [
    "type(select)"
   ]
  },
  {
   "cell_type": "code",
   "execution_count": 182,
   "metadata": {
    "id": "OZC8NAn6D1BX"
   },
   "outputs": [
    {
     "data": {
      "text/html": [
       "<div>\n",
       "<style scoped>\n",
       "    .dataframe tbody tr th:only-of-type {\n",
       "        vertical-align: middle;\n",
       "    }\n",
       "\n",
       "    .dataframe tbody tr th {\n",
       "        vertical-align: top;\n",
       "    }\n",
       "\n",
       "    .dataframe thead th {\n",
       "        text-align: right;\n",
       "    }\n",
       "</style>\n",
       "<table border=\"1\" class=\"dataframe\">\n",
       "  <thead>\n",
       "    <tr style=\"text-align: right;\">\n",
       "      <th></th>\n",
       "      <th>Motor</th>\n",
       "      <th>Ano</th>\n",
       "      <th>Quilometragem</th>\n",
       "      <th>Zero_km</th>\n",
       "      <th>Acessórios</th>\n",
       "      <th>Valor</th>\n",
       "    </tr>\n",
       "    <tr>\n",
       "      <th>Nome</th>\n",
       "      <th></th>\n",
       "      <th></th>\n",
       "      <th></th>\n",
       "      <th></th>\n",
       "      <th></th>\n",
       "      <th></th>\n",
       "    </tr>\n",
       "  </thead>\n",
       "  <tbody>\n",
       "    <tr>\n",
       "      <th>Passat</th>\n",
       "      <td>Motor Diesel</td>\n",
       "      <td>1991</td>\n",
       "      <td>5712.0</td>\n",
       "      <td>False</td>\n",
       "      <td>['Central multimídia', 'Teto panorâmico', 'Fre...</td>\n",
       "      <td>106161.94</td>\n",
       "    </tr>\n",
       "    <tr>\n",
       "      <th>Effa Hafei Picape Baú</th>\n",
       "      <td>Motor Diesel</td>\n",
       "      <td>1991</td>\n",
       "      <td>102959.0</td>\n",
       "      <td>False</td>\n",
       "      <td>['Controle de estabilidade', 'Painel digital',...</td>\n",
       "      <td>125684.65</td>\n",
       "    </tr>\n",
       "    <tr>\n",
       "      <th>Sorento</th>\n",
       "      <td>Motor Diesel</td>\n",
       "      <td>2019</td>\n",
       "      <td>NaN</td>\n",
       "      <td>True</td>\n",
       "      <td>['Sensor de chuva', 'Câmera de estacionamento'...</td>\n",
       "      <td>81399.35</td>\n",
       "    </tr>\n",
       "    <tr>\n",
       "      <th>New Fiesta Hatch</th>\n",
       "      <td>Motor Diesel</td>\n",
       "      <td>2017</td>\n",
       "      <td>118895.0</td>\n",
       "      <td>False</td>\n",
       "      <td>['Sensor de estacionamento', 'Travas elétricas...</td>\n",
       "      <td>66007.16</td>\n",
       "    </tr>\n",
       "    <tr>\n",
       "      <th>Kangoo Express</th>\n",
       "      <td>Motor Diesel</td>\n",
       "      <td>2007</td>\n",
       "      <td>29132.0</td>\n",
       "      <td>False</td>\n",
       "      <td>['Bancos de couro', 'Câmbio automático', 'Pilo...</td>\n",
       "      <td>146716.91</td>\n",
       "    </tr>\n",
       "    <tr>\n",
       "      <th>...</th>\n",
       "      <td>...</td>\n",
       "      <td>...</td>\n",
       "      <td>...</td>\n",
       "      <td>...</td>\n",
       "      <td>...</td>\n",
       "      <td>...</td>\n",
       "    </tr>\n",
       "    <tr>\n",
       "      <th>Dodge Dakota</th>\n",
       "      <td>Motor Diesel</td>\n",
       "      <td>1993</td>\n",
       "      <td>71544.0</td>\n",
       "      <td>False</td>\n",
       "      <td>['Controle de tração', 'Sensor de estacionamen...</td>\n",
       "      <td>141083.35</td>\n",
       "    </tr>\n",
       "    <tr>\n",
       "      <th>i30 CW</th>\n",
       "      <td>Motor Diesel</td>\n",
       "      <td>2015</td>\n",
       "      <td>8497.0</td>\n",
       "      <td>False</td>\n",
       "      <td>['Sensor de chuva', 'Vidros elétricos', 'Contr...</td>\n",
       "      <td>73311.75</td>\n",
       "    </tr>\n",
       "    <tr>\n",
       "      <th>Série 7 Sedã</th>\n",
       "      <td>Motor Diesel</td>\n",
       "      <td>2019</td>\n",
       "      <td>NaN</td>\n",
       "      <td>True</td>\n",
       "      <td>['Vidros elétricos', 'Travas elétricas', 'Roda...</td>\n",
       "      <td>67539.79</td>\n",
       "    </tr>\n",
       "    <tr>\n",
       "      <th>V60</th>\n",
       "      <td>Motor Diesel</td>\n",
       "      <td>2004</td>\n",
       "      <td>91840.0</td>\n",
       "      <td>False</td>\n",
       "      <td>['Rodas de liga', 'Sensor crepuscular', 'Ar co...</td>\n",
       "      <td>114728.74</td>\n",
       "    </tr>\n",
       "    <tr>\n",
       "      <th>Aston Martin DB5</th>\n",
       "      <td>Motor Diesel</td>\n",
       "      <td>1996</td>\n",
       "      <td>7685.0</td>\n",
       "      <td>False</td>\n",
       "      <td>['Ar condicionado', '4 X 4', 'Câmbio automátic...</td>\n",
       "      <td>122110.90</td>\n",
       "    </tr>\n",
       "  </tbody>\n",
       "</table>\n",
       "<p>26 rows × 6 columns</p>\n",
       "</div>"
      ],
      "text/plain": [
       "                              Motor   Ano  Quilometragem  Zero_km  \\\n",
       "Nome                                                                \n",
       "Passat                 Motor Diesel  1991         5712.0    False   \n",
       "Effa Hafei Picape Baú  Motor Diesel  1991       102959.0    False   \n",
       "Sorento                Motor Diesel  2019            NaN     True   \n",
       "New Fiesta Hatch       Motor Diesel  2017       118895.0    False   \n",
       "Kangoo Express         Motor Diesel  2007        29132.0    False   \n",
       "...                             ...   ...            ...      ...   \n",
       "Dodge Dakota           Motor Diesel  1993        71544.0    False   \n",
       "i30 CW                 Motor Diesel  2015         8497.0    False   \n",
       "Série 7 Sedã           Motor Diesel  2019            NaN     True   \n",
       "V60                    Motor Diesel  2004        91840.0    False   \n",
       "Aston Martin DB5       Motor Diesel  1996         7685.0    False   \n",
       "\n",
       "                                                              Acessórios  \\\n",
       "Nome                                                                       \n",
       "Passat                 ['Central multimídia', 'Teto panorâmico', 'Fre...   \n",
       "Effa Hafei Picape Baú  ['Controle de estabilidade', 'Painel digital',...   \n",
       "Sorento                ['Sensor de chuva', 'Câmera de estacionamento'...   \n",
       "New Fiesta Hatch       ['Sensor de estacionamento', 'Travas elétricas...   \n",
       "Kangoo Express         ['Bancos de couro', 'Câmbio automático', 'Pilo...   \n",
       "...                                                                  ...   \n",
       "Dodge Dakota           ['Controle de tração', 'Sensor de estacionamen...   \n",
       "i30 CW                 ['Sensor de chuva', 'Vidros elétricos', 'Contr...   \n",
       "Série 7 Sedã           ['Vidros elétricos', 'Travas elétricas', 'Roda...   \n",
       "V60                    ['Rodas de liga', 'Sensor crepuscular', 'Ar co...   \n",
       "Aston Martin DB5       ['Ar condicionado', '4 X 4', 'Câmbio automátic...   \n",
       "\n",
       "                           Valor  \n",
       "Nome                              \n",
       "Passat                 106161.94  \n",
       "Effa Hafei Picape Baú  125684.65  \n",
       "Sorento                 81399.35  \n",
       "New Fiesta Hatch        66007.16  \n",
       "Kangoo Express         146716.91  \n",
       "...                          ...  \n",
       "Dodge Dakota           141083.35  \n",
       "i30 CW                  73311.75  \n",
       "Série 7 Sedã            67539.79  \n",
       "V60                    114728.74  \n",
       "Aston Martin DB5       122110.90  \n",
       "\n",
       "[26 rows x 6 columns]"
      ]
     },
     "execution_count": 182,
     "metadata": {},
     "output_type": "execute_result"
    }
   ],
   "source": [
    "dataset[select]"
   ]
  },
  {
   "cell_type": "code",
   "execution_count": 185,
   "metadata": {
    "id": "OzXC2M40D1BY",
    "scrolled": true
   },
   "outputs": [
    {
     "data": {
      "text/html": [
       "<div>\n",
       "<style scoped>\n",
       "    .dataframe tbody tr th:only-of-type {\n",
       "        vertical-align: middle;\n",
       "    }\n",
       "\n",
       "    .dataframe tbody tr th {\n",
       "        vertical-align: top;\n",
       "    }\n",
       "\n",
       "    .dataframe thead th {\n",
       "        text-align: right;\n",
       "    }\n",
       "</style>\n",
       "<table border=\"1\" class=\"dataframe\">\n",
       "  <thead>\n",
       "    <tr style=\"text-align: right;\">\n",
       "      <th></th>\n",
       "      <th>Motor</th>\n",
       "      <th>Ano</th>\n",
       "      <th>Quilometragem</th>\n",
       "      <th>Zero_km</th>\n",
       "      <th>Acessórios</th>\n",
       "      <th>Valor</th>\n",
       "    </tr>\n",
       "    <tr>\n",
       "      <th>Nome</th>\n",
       "      <th></th>\n",
       "      <th></th>\n",
       "      <th></th>\n",
       "      <th></th>\n",
       "      <th></th>\n",
       "      <th></th>\n",
       "    </tr>\n",
       "  </thead>\n",
       "  <tbody>\n",
       "    <tr>\n",
       "      <th>Sorento</th>\n",
       "      <td>Motor Diesel</td>\n",
       "      <td>2019</td>\n",
       "      <td>NaN</td>\n",
       "      <td>True</td>\n",
       "      <td>['Sensor de chuva', 'Câmera de estacionamento'...</td>\n",
       "      <td>81399.35</td>\n",
       "    </tr>\n",
       "    <tr>\n",
       "      <th>Cielo Hatch</th>\n",
       "      <td>Motor Diesel</td>\n",
       "      <td>2019</td>\n",
       "      <td>NaN</td>\n",
       "      <td>True</td>\n",
       "      <td>['Painel digital', 'Central multimídia', 'Câme...</td>\n",
       "      <td>145197.70</td>\n",
       "    </tr>\n",
       "    <tr>\n",
       "      <th>Camry</th>\n",
       "      <td>Motor Diesel</td>\n",
       "      <td>2019</td>\n",
       "      <td>NaN</td>\n",
       "      <td>True</td>\n",
       "      <td>['Travas elétricas', 'Rodas de liga', 'Sensor ...</td>\n",
       "      <td>138597.27</td>\n",
       "    </tr>\n",
       "    <tr>\n",
       "      <th>Aston Martin Virage</th>\n",
       "      <td>Motor Diesel</td>\n",
       "      <td>2019</td>\n",
       "      <td>NaN</td>\n",
       "      <td>True</td>\n",
       "      <td>['Travas elétricas', 'Controle de tração', 'Câ...</td>\n",
       "      <td>97290.18</td>\n",
       "    </tr>\n",
       "    <tr>\n",
       "      <th>Série 7 Sedã</th>\n",
       "      <td>Motor Diesel</td>\n",
       "      <td>2019</td>\n",
       "      <td>NaN</td>\n",
       "      <td>True</td>\n",
       "      <td>['Vidros elétricos', 'Travas elétricas', 'Roda...</td>\n",
       "      <td>67539.79</td>\n",
       "    </tr>\n",
       "  </tbody>\n",
       "</table>\n",
       "</div>"
      ],
      "text/plain": [
       "                            Motor   Ano  Quilometragem  Zero_km  \\\n",
       "Nome                                                              \n",
       "Sorento              Motor Diesel  2019            NaN     True   \n",
       "Cielo Hatch          Motor Diesel  2019            NaN     True   \n",
       "Camry                Motor Diesel  2019            NaN     True   \n",
       "Aston Martin Virage  Motor Diesel  2019            NaN     True   \n",
       "Série 7 Sedã         Motor Diesel  2019            NaN     True   \n",
       "\n",
       "                                                            Acessórios  \\\n",
       "Nome                                                                     \n",
       "Sorento              ['Sensor de chuva', 'Câmera de estacionamento'...   \n",
       "Cielo Hatch          ['Painel digital', 'Central multimídia', 'Câme...   \n",
       "Camry                ['Travas elétricas', 'Rodas de liga', 'Sensor ...   \n",
       "Aston Martin Virage  ['Travas elétricas', 'Controle de tração', 'Câ...   \n",
       "Série 7 Sedã         ['Vidros elétricos', 'Travas elétricas', 'Roda...   \n",
       "\n",
       "                         Valor  \n",
       "Nome                            \n",
       "Sorento               81399.35  \n",
       "Cielo Hatch          145197.70  \n",
       "Camry                138597.27  \n",
       "Aston Martin Virage   97290.18  \n",
       "Série 7 Sedã          67539.79  "
      ]
     },
     "execution_count": 185,
     "metadata": {},
     "output_type": "execute_result"
    }
   ],
   "source": [
    "dataset[(select) & (dataset.Zero_km == True)]"
   ]
  },
  {
   "cell_type": "code",
   "execution_count": 186,
   "metadata": {},
   "outputs": [
    {
     "data": {
      "text/plain": [
       "Nome\n",
       "Jetta Variant            False\n",
       "Passat                   False\n",
       "Crossfox                 False\n",
       "DS5                      False\n",
       "Aston Martin DB4         False\n",
       "                         ...  \n",
       "Phantom 2013             False\n",
       "Cadillac Ciel concept    False\n",
       "Classe GLK               False\n",
       "Aston Martin DB5         False\n",
       "Macan                    False\n",
       "Length: 258, dtype: bool"
      ]
     },
     "execution_count": 186,
     "metadata": {},
     "output_type": "execute_result"
    }
   ],
   "source": [
    "(select) & (dataset.Zero_km == True)"
   ]
  },
  {
   "cell_type": "markdown",
   "metadata": {
    "id": "_XKXcWO-D1BY"
   },
   "source": [
    "### Utilizando o método query"
   ]
  },
  {
   "cell_type": "code",
   "execution_count": 187,
   "metadata": {
    "id": "AB9JirSoD1BY"
   },
   "outputs": [
    {
     "data": {
      "text/html": [
       "<div>\n",
       "<style scoped>\n",
       "    .dataframe tbody tr th:only-of-type {\n",
       "        vertical-align: middle;\n",
       "    }\n",
       "\n",
       "    .dataframe tbody tr th {\n",
       "        vertical-align: top;\n",
       "    }\n",
       "\n",
       "    .dataframe thead th {\n",
       "        text-align: right;\n",
       "    }\n",
       "</style>\n",
       "<table border=\"1\" class=\"dataframe\">\n",
       "  <thead>\n",
       "    <tr style=\"text-align: right;\">\n",
       "      <th></th>\n",
       "      <th>Motor</th>\n",
       "      <th>Ano</th>\n",
       "      <th>Quilometragem</th>\n",
       "      <th>Zero_km</th>\n",
       "      <th>Acessórios</th>\n",
       "      <th>Valor</th>\n",
       "    </tr>\n",
       "    <tr>\n",
       "      <th>Nome</th>\n",
       "      <th></th>\n",
       "      <th></th>\n",
       "      <th></th>\n",
       "      <th></th>\n",
       "      <th></th>\n",
       "      <th></th>\n",
       "    </tr>\n",
       "  </thead>\n",
       "  <tbody>\n",
       "    <tr>\n",
       "      <th>Sorento</th>\n",
       "      <td>Motor Diesel</td>\n",
       "      <td>2019</td>\n",
       "      <td>NaN</td>\n",
       "      <td>True</td>\n",
       "      <td>['Sensor de chuva', 'Câmera de estacionamento'...</td>\n",
       "      <td>81399.35</td>\n",
       "    </tr>\n",
       "    <tr>\n",
       "      <th>Cielo Hatch</th>\n",
       "      <td>Motor Diesel</td>\n",
       "      <td>2019</td>\n",
       "      <td>NaN</td>\n",
       "      <td>True</td>\n",
       "      <td>['Painel digital', 'Central multimídia', 'Câme...</td>\n",
       "      <td>145197.70</td>\n",
       "    </tr>\n",
       "    <tr>\n",
       "      <th>Camry</th>\n",
       "      <td>Motor Diesel</td>\n",
       "      <td>2019</td>\n",
       "      <td>NaN</td>\n",
       "      <td>True</td>\n",
       "      <td>['Travas elétricas', 'Rodas de liga', 'Sensor ...</td>\n",
       "      <td>138597.27</td>\n",
       "    </tr>\n",
       "    <tr>\n",
       "      <th>Aston Martin Virage</th>\n",
       "      <td>Motor Diesel</td>\n",
       "      <td>2019</td>\n",
       "      <td>NaN</td>\n",
       "      <td>True</td>\n",
       "      <td>['Travas elétricas', 'Controle de tração', 'Câ...</td>\n",
       "      <td>97290.18</td>\n",
       "    </tr>\n",
       "    <tr>\n",
       "      <th>Série 7 Sedã</th>\n",
       "      <td>Motor Diesel</td>\n",
       "      <td>2019</td>\n",
       "      <td>NaN</td>\n",
       "      <td>True</td>\n",
       "      <td>['Vidros elétricos', 'Travas elétricas', 'Roda...</td>\n",
       "      <td>67539.79</td>\n",
       "    </tr>\n",
       "  </tbody>\n",
       "</table>\n",
       "</div>"
      ],
      "text/plain": [
       "                            Motor   Ano  Quilometragem  Zero_km  \\\n",
       "Nome                                                              \n",
       "Sorento              Motor Diesel  2019            NaN     True   \n",
       "Cielo Hatch          Motor Diesel  2019            NaN     True   \n",
       "Camry                Motor Diesel  2019            NaN     True   \n",
       "Aston Martin Virage  Motor Diesel  2019            NaN     True   \n",
       "Série 7 Sedã         Motor Diesel  2019            NaN     True   \n",
       "\n",
       "                                                            Acessórios  \\\n",
       "Nome                                                                     \n",
       "Sorento              ['Sensor de chuva', 'Câmera de estacionamento'...   \n",
       "Cielo Hatch          ['Painel digital', 'Central multimídia', 'Câme...   \n",
       "Camry                ['Travas elétricas', 'Rodas de liga', 'Sensor ...   \n",
       "Aston Martin Virage  ['Travas elétricas', 'Controle de tração', 'Câ...   \n",
       "Série 7 Sedã         ['Vidros elétricos', 'Travas elétricas', 'Roda...   \n",
       "\n",
       "                         Valor  \n",
       "Nome                            \n",
       "Sorento               81399.35  \n",
       "Cielo Hatch          145197.70  \n",
       "Camry                138597.27  \n",
       "Aston Martin Virage   97290.18  \n",
       "Série 7 Sedã          67539.79  "
      ]
     },
     "execution_count": 187,
     "metadata": {},
     "output_type": "execute_result"
    }
   ],
   "source": [
    "dataset.query('Motor == \"Motor Diesel\" and Zero_km == True')"
   ]
  },
  {
   "cell_type": "code",
   "execution_count": 188,
   "metadata": {},
   "outputs": [],
   "source": [
    "import pandas as pd\n",
    "\n",
    "dados = {\n",
    "    'Motor': ['Motor 4.0 Turbo', 'Motor Diesel', 'Motor Diesel V8', 'Motor Diesel', 'Motor 1.6'],\n",
    "    'Ano': [2019, 2003, 1991, 2019, 1990],\n",
    "    'Quilometragem': [0.0, 5712.0, 37123.0, 0.0, 120000.0],\n",
    "    'Zero_km': [True, False, False, True, False],\n",
    "    'Valor': [88000.0, 106000.0, 72000.0, 89000.0, 32000.0]\n",
    "}\n",
    "\n",
    "dataset = pd.DataFrame(dados, index = ['Jetta', 'Passat', 'Crossfox', 'DS5', 'Fusca'])"
   ]
  },
  {
   "cell_type": "code",
   "execution_count": 189,
   "metadata": {},
   "outputs": [
    {
     "data": {
      "text/html": [
       "<div>\n",
       "<style scoped>\n",
       "    .dataframe tbody tr th:only-of-type {\n",
       "        vertical-align: middle;\n",
       "    }\n",
       "\n",
       "    .dataframe tbody tr th {\n",
       "        vertical-align: top;\n",
       "    }\n",
       "\n",
       "    .dataframe thead th {\n",
       "        text-align: right;\n",
       "    }\n",
       "</style>\n",
       "<table border=\"1\" class=\"dataframe\">\n",
       "  <thead>\n",
       "    <tr style=\"text-align: right;\">\n",
       "      <th></th>\n",
       "      <th>Motor</th>\n",
       "      <th>Ano</th>\n",
       "      <th>Quilometragem</th>\n",
       "      <th>Zero_km</th>\n",
       "      <th>Valor</th>\n",
       "    </tr>\n",
       "  </thead>\n",
       "  <tbody>\n",
       "    <tr>\n",
       "      <th>Jetta</th>\n",
       "      <td>Motor 4.0 Turbo</td>\n",
       "      <td>2019</td>\n",
       "      <td>0.0</td>\n",
       "      <td>True</td>\n",
       "      <td>88000.0</td>\n",
       "    </tr>\n",
       "    <tr>\n",
       "      <th>Passat</th>\n",
       "      <td>Motor Diesel</td>\n",
       "      <td>2003</td>\n",
       "      <td>5712.0</td>\n",
       "      <td>False</td>\n",
       "      <td>106000.0</td>\n",
       "    </tr>\n",
       "    <tr>\n",
       "      <th>DS5</th>\n",
       "      <td>Motor Diesel</td>\n",
       "      <td>2019</td>\n",
       "      <td>0.0</td>\n",
       "      <td>True</td>\n",
       "      <td>89000.0</td>\n",
       "    </tr>\n",
       "  </tbody>\n",
       "</table>\n",
       "</div>"
      ],
      "text/plain": [
       "                  Motor   Ano  Quilometragem  Zero_km     Valor\n",
       "Jetta   Motor 4.0 Turbo  2019            0.0     True   88000.0\n",
       "Passat     Motor Diesel  2003         5712.0    False  106000.0\n",
       "DS5        Motor Diesel  2019            0.0     True   89000.0"
      ]
     },
     "execution_count": 189,
     "metadata": {},
     "output_type": "execute_result"
    }
   ],
   "source": [
    "dataset.query('Motor == \"Motor Diesel\" or Zero_km == True')"
   ]
  },
  {
   "cell_type": "code",
   "execution_count": 190,
   "metadata": {},
   "outputs": [
    {
     "data": {
      "text/html": [
       "<div>\n",
       "<style scoped>\n",
       "    .dataframe tbody tr th:only-of-type {\n",
       "        vertical-align: middle;\n",
       "    }\n",
       "\n",
       "    .dataframe tbody tr th {\n",
       "        vertical-align: top;\n",
       "    }\n",
       "\n",
       "    .dataframe thead th {\n",
       "        text-align: right;\n",
       "    }\n",
       "</style>\n",
       "<table border=\"1\" class=\"dataframe\">\n",
       "  <thead>\n",
       "    <tr style=\"text-align: right;\">\n",
       "      <th></th>\n",
       "      <th>Motor</th>\n",
       "      <th>Ano</th>\n",
       "      <th>Quilometragem</th>\n",
       "      <th>Zero_km</th>\n",
       "      <th>Valor</th>\n",
       "    </tr>\n",
       "  </thead>\n",
       "  <tbody>\n",
       "    <tr>\n",
       "      <th>Jetta</th>\n",
       "      <td>Motor 4.0 Turbo</td>\n",
       "      <td>2019</td>\n",
       "      <td>0.0</td>\n",
       "      <td>True</td>\n",
       "      <td>88000.0</td>\n",
       "    </tr>\n",
       "    <tr>\n",
       "      <th>Passat</th>\n",
       "      <td>Motor Diesel</td>\n",
       "      <td>2003</td>\n",
       "      <td>5712.0</td>\n",
       "      <td>False</td>\n",
       "      <td>106000.0</td>\n",
       "    </tr>\n",
       "    <tr>\n",
       "      <th>DS5</th>\n",
       "      <td>Motor Diesel</td>\n",
       "      <td>2019</td>\n",
       "      <td>0.0</td>\n",
       "      <td>True</td>\n",
       "      <td>89000.0</td>\n",
       "    </tr>\n",
       "  </tbody>\n",
       "</table>\n",
       "</div>"
      ],
      "text/plain": [
       "                  Motor   Ano  Quilometragem  Zero_km     Valor\n",
       "Jetta   Motor 4.0 Turbo  2019            0.0     True   88000.0\n",
       "Passat     Motor Diesel  2003         5712.0    False  106000.0\n",
       "DS5        Motor Diesel  2019            0.0     True   89000.0"
      ]
     },
     "execution_count": 190,
     "metadata": {},
     "output_type": "execute_result"
    }
   ],
   "source": [
    "dataset.query('Motor == \"Motor Diesel\" | Zero_km == True')"
   ]
  },
  {
   "cell_type": "markdown",
   "metadata": {
    "id": "ciJ4dw_FD1BZ"
   },
   "source": [
    "# 5.4 Iterando com DataFrames"
   ]
  },
  {
   "cell_type": "code",
   "execution_count": 200,
   "metadata": {
    "id": "TKAB-g5KD1BZ"
   },
   "outputs": [
    {
     "data": {
      "text/html": [
       "<div>\n",
       "<style scoped>\n",
       "    .dataframe tbody tr th:only-of-type {\n",
       "        vertical-align: middle;\n",
       "    }\n",
       "\n",
       "    .dataframe tbody tr th {\n",
       "        vertical-align: top;\n",
       "    }\n",
       "\n",
       "    .dataframe thead th {\n",
       "        text-align: right;\n",
       "    }\n",
       "</style>\n",
       "<table border=\"1\" class=\"dataframe\">\n",
       "  <thead>\n",
       "    <tr style=\"text-align: right;\">\n",
       "      <th></th>\n",
       "      <th>Motor</th>\n",
       "      <th>Ano</th>\n",
       "      <th>Quilometragem</th>\n",
       "      <th>Zero_km</th>\n",
       "      <th>Acessórios</th>\n",
       "      <th>Valor</th>\n",
       "    </tr>\n",
       "    <tr>\n",
       "      <th>Nome</th>\n",
       "      <th></th>\n",
       "      <th></th>\n",
       "      <th></th>\n",
       "      <th></th>\n",
       "      <th></th>\n",
       "      <th></th>\n",
       "    </tr>\n",
       "  </thead>\n",
       "  <tbody>\n",
       "    <tr>\n",
       "      <th>Jetta Variant</th>\n",
       "      <td>Motor 4.0 Turbo</td>\n",
       "      <td>2003</td>\n",
       "      <td>44410.0</td>\n",
       "      <td>False</td>\n",
       "      <td>['Rodas de liga', 'Travas elétricas', 'Piloto ...</td>\n",
       "      <td>88078.64</td>\n",
       "    </tr>\n",
       "    <tr>\n",
       "      <th>Passat</th>\n",
       "      <td>Motor Diesel</td>\n",
       "      <td>1991</td>\n",
       "      <td>5712.0</td>\n",
       "      <td>False</td>\n",
       "      <td>['Central multimídia', 'Teto panorâmico', 'Fre...</td>\n",
       "      <td>106161.94</td>\n",
       "    </tr>\n",
       "    <tr>\n",
       "      <th>Crossfox</th>\n",
       "      <td>Motor Diesel V8</td>\n",
       "      <td>1990</td>\n",
       "      <td>37123.0</td>\n",
       "      <td>False</td>\n",
       "      <td>['Piloto automático', 'Controle de estabilidad...</td>\n",
       "      <td>72832.16</td>\n",
       "    </tr>\n",
       "    <tr>\n",
       "      <th>DS5</th>\n",
       "      <td>Motor 2.4 Turbo</td>\n",
       "      <td>2019</td>\n",
       "      <td>NaN</td>\n",
       "      <td>True</td>\n",
       "      <td>['Travas elétricas', '4 X 4', 'Vidros elétrico...</td>\n",
       "      <td>124549.07</td>\n",
       "    </tr>\n",
       "    <tr>\n",
       "      <th>Aston Martin DB4</th>\n",
       "      <td>Motor 2.4 Turbo</td>\n",
       "      <td>2006</td>\n",
       "      <td>25757.0</td>\n",
       "      <td>False</td>\n",
       "      <td>['Rodas de liga', '4 X 4', 'Central multimídia...</td>\n",
       "      <td>92612.10</td>\n",
       "    </tr>\n",
       "  </tbody>\n",
       "</table>\n",
       "</div>"
      ],
      "text/plain": [
       "                            Motor   Ano  Quilometragem  Zero_km  \\\n",
       "Nome                                                              \n",
       "Jetta Variant     Motor 4.0 Turbo  2003        44410.0    False   \n",
       "Passat               Motor Diesel  1991         5712.0    False   \n",
       "Crossfox          Motor Diesel V8  1990        37123.0    False   \n",
       "DS5               Motor 2.4 Turbo  2019            NaN     True   \n",
       "Aston Martin DB4  Motor 2.4 Turbo  2006        25757.0    False   \n",
       "\n",
       "                                                         Acessórios      Valor  \n",
       "Nome                                                                            \n",
       "Jetta Variant     ['Rodas de liga', 'Travas elétricas', 'Piloto ...   88078.64  \n",
       "Passat            ['Central multimídia', 'Teto panorâmico', 'Fre...  106161.94  \n",
       "Crossfox          ['Piloto automático', 'Controle de estabilidad...   72832.16  \n",
       "DS5               ['Travas elétricas', '4 X 4', 'Vidros elétrico...  124549.07  \n",
       "Aston Martin DB4  ['Rodas de liga', '4 X 4', 'Central multimídia...   92612.10  "
      ]
     },
     "execution_count": 200,
     "metadata": {},
     "output_type": "execute_result"
    }
   ],
   "source": [
    "dataset.head()"
   ]
  },
  {
   "cell_type": "code",
   "execution_count": 201,
   "metadata": {
    "id": "eFTNtPRWD1Ba"
   },
   "outputs": [
    {
     "data": {
      "text/html": [
       "<div>\n",
       "<style scoped>\n",
       "    .dataframe tbody tr th:only-of-type {\n",
       "        vertical-align: middle;\n",
       "    }\n",
       "\n",
       "    .dataframe tbody tr th {\n",
       "        vertical-align: top;\n",
       "    }\n",
       "\n",
       "    .dataframe thead th {\n",
       "        text-align: right;\n",
       "    }\n",
       "</style>\n",
       "<table border=\"1\" class=\"dataframe\">\n",
       "  <thead>\n",
       "    <tr style=\"text-align: right;\">\n",
       "      <th></th>\n",
       "      <th>Motor</th>\n",
       "      <th>Ano</th>\n",
       "      <th>Quilometragem</th>\n",
       "      <th>Zero_km</th>\n",
       "      <th>Acessórios</th>\n",
       "      <th>Valor</th>\n",
       "      <th>km_media</th>\n",
       "    </tr>\n",
       "    <tr>\n",
       "      <th>Nome</th>\n",
       "      <th></th>\n",
       "      <th></th>\n",
       "      <th></th>\n",
       "      <th></th>\n",
       "      <th></th>\n",
       "      <th></th>\n",
       "      <th></th>\n",
       "    </tr>\n",
       "  </thead>\n",
       "  <tbody>\n",
       "    <tr>\n",
       "      <th>Jetta Variant</th>\n",
       "      <td>Motor 4.0 Turbo</td>\n",
       "      <td>2003</td>\n",
       "      <td>44410.0</td>\n",
       "      <td>False</td>\n",
       "      <td>['Rodas de liga', 'Travas elétricas', 'Piloto ...</td>\n",
       "      <td>88078.64</td>\n",
       "      <td>-1981.003962</td>\n",
       "    </tr>\n",
       "    <tr>\n",
       "      <th>Passat</th>\n",
       "      <td>Motor Diesel</td>\n",
       "      <td>1991</td>\n",
       "      <td>5712.0</td>\n",
       "      <td>False</td>\n",
       "      <td>['Central multimídia', 'Teto panorâmico', 'Fre...</td>\n",
       "      <td>106161.94</td>\n",
       "      <td>-1988.170877</td>\n",
       "    </tr>\n",
       "    <tr>\n",
       "      <th>Crossfox</th>\n",
       "      <td>Motor Diesel V8</td>\n",
       "      <td>1990</td>\n",
       "      <td>37123.0</td>\n",
       "      <td>False</td>\n",
       "      <td>['Piloto automático', 'Controle de estabilidad...</td>\n",
       "      <td>72832.16</td>\n",
       "      <td>-1971.613175</td>\n",
       "    </tr>\n",
       "    <tr>\n",
       "      <th>DS5</th>\n",
       "      <td>Motor 2.4 Turbo</td>\n",
       "      <td>2019</td>\n",
       "      <td>NaN</td>\n",
       "      <td>True</td>\n",
       "      <td>['Travas elétricas', '4 X 4', 'Vidros elétrico...</td>\n",
       "      <td>124549.07</td>\n",
       "      <td>0.000000</td>\n",
       "    </tr>\n",
       "    <tr>\n",
       "      <th>Aston Martin DB4</th>\n",
       "      <td>Motor 2.4 Turbo</td>\n",
       "      <td>2006</td>\n",
       "      <td>25757.0</td>\n",
       "      <td>False</td>\n",
       "      <td>['Rodas de liga', '4 X 4', 'Central multimídia...</td>\n",
       "      <td>92612.10</td>\n",
       "      <td>-1993.242694</td>\n",
       "    </tr>\n",
       "    <tr>\n",
       "      <th>...</th>\n",
       "      <td>...</td>\n",
       "      <td>...</td>\n",
       "      <td>...</td>\n",
       "      <td>...</td>\n",
       "      <td>...</td>\n",
       "      <td>...</td>\n",
       "      <td>...</td>\n",
       "    </tr>\n",
       "    <tr>\n",
       "      <th>Phantom 2013</th>\n",
       "      <td>Motor V8</td>\n",
       "      <td>2014</td>\n",
       "      <td>27505.0</td>\n",
       "      <td>False</td>\n",
       "      <td>['Controle de estabilidade', 'Piloto automátic...</td>\n",
       "      <td>51759.58</td>\n",
       "      <td>-2000.376919</td>\n",
       "    </tr>\n",
       "    <tr>\n",
       "      <th>Cadillac Ciel concept</th>\n",
       "      <td>Motor V8</td>\n",
       "      <td>1991</td>\n",
       "      <td>29981.0</td>\n",
       "      <td>False</td>\n",
       "      <td>['Bancos de couro', 'Painel digital', 'Sensor ...</td>\n",
       "      <td>51667.06</td>\n",
       "      <td>-1976.150570</td>\n",
       "    </tr>\n",
       "    <tr>\n",
       "      <th>Classe GLK</th>\n",
       "      <td>Motor 5.0 V8 Bi-Turbo</td>\n",
       "      <td>2002</td>\n",
       "      <td>52637.0</td>\n",
       "      <td>False</td>\n",
       "      <td>['Rodas de liga', 'Controle de tração', 'Câmbi...</td>\n",
       "      <td>68934.03</td>\n",
       "      <td>-1975.929173</td>\n",
       "    </tr>\n",
       "    <tr>\n",
       "      <th>Aston Martin DB5</th>\n",
       "      <td>Motor Diesel</td>\n",
       "      <td>1996</td>\n",
       "      <td>7685.0</td>\n",
       "      <td>False</td>\n",
       "      <td>['Ar condicionado', '4 X 4', 'Câmbio automátic...</td>\n",
       "      <td>122110.90</td>\n",
       "      <td>-1992.193660</td>\n",
       "    </tr>\n",
       "    <tr>\n",
       "      <th>Macan</th>\n",
       "      <td>Motor Diesel V6</td>\n",
       "      <td>1992</td>\n",
       "      <td>50188.0</td>\n",
       "      <td>False</td>\n",
       "      <td>['Central multimídia', 'Teto panorâmico', 'Vid...</td>\n",
       "      <td>90381.47</td>\n",
       "      <td>-1967.142150</td>\n",
       "    </tr>\n",
       "  </tbody>\n",
       "</table>\n",
       "<p>258 rows × 7 columns</p>\n",
       "</div>"
      ],
      "text/plain": [
       "                                       Motor   Ano  Quilometragem  Zero_km  \\\n",
       "Nome                                                                         \n",
       "Jetta Variant                Motor 4.0 Turbo  2003        44410.0    False   \n",
       "Passat                          Motor Diesel  1991         5712.0    False   \n",
       "Crossfox                     Motor Diesel V8  1990        37123.0    False   \n",
       "DS5                          Motor 2.4 Turbo  2019            NaN     True   \n",
       "Aston Martin DB4             Motor 2.4 Turbo  2006        25757.0    False   \n",
       "...                                      ...   ...            ...      ...   \n",
       "Phantom 2013                        Motor V8  2014        27505.0    False   \n",
       "Cadillac Ciel concept               Motor V8  1991        29981.0    False   \n",
       "Classe GLK             Motor 5.0 V8 Bi-Turbo  2002        52637.0    False   \n",
       "Aston Martin DB5                Motor Diesel  1996         7685.0    False   \n",
       "Macan                        Motor Diesel V6  1992        50188.0    False   \n",
       "\n",
       "                                                              Acessórios  \\\n",
       "Nome                                                                       \n",
       "Jetta Variant          ['Rodas de liga', 'Travas elétricas', 'Piloto ...   \n",
       "Passat                 ['Central multimídia', 'Teto panorâmico', 'Fre...   \n",
       "Crossfox               ['Piloto automático', 'Controle de estabilidad...   \n",
       "DS5                    ['Travas elétricas', '4 X 4', 'Vidros elétrico...   \n",
       "Aston Martin DB4       ['Rodas de liga', '4 X 4', 'Central multimídia...   \n",
       "...                                                                  ...   \n",
       "Phantom 2013           ['Controle de estabilidade', 'Piloto automátic...   \n",
       "Cadillac Ciel concept  ['Bancos de couro', 'Painel digital', 'Sensor ...   \n",
       "Classe GLK             ['Rodas de liga', 'Controle de tração', 'Câmbi...   \n",
       "Aston Martin DB5       ['Ar condicionado', '4 X 4', 'Câmbio automátic...   \n",
       "Macan                  ['Central multimídia', 'Teto panorâmico', 'Vid...   \n",
       "\n",
       "                           Valor     km_media  \n",
       "Nome                                           \n",
       "Jetta Variant           88078.64 -1981.003962  \n",
       "Passat                 106161.94 -1988.170877  \n",
       "Crossfox                72832.16 -1971.613175  \n",
       "DS5                    124549.07     0.000000  \n",
       "Aston Martin DB4        92612.10 -1993.242694  \n",
       "...                          ...          ...  \n",
       "Phantom 2013            51759.58 -2000.376919  \n",
       "Cadillac Ciel concept   51667.06 -1976.150570  \n",
       "Classe GLK              68934.03 -1975.929173  \n",
       "Aston Martin DB5       122110.90 -1992.193660  \n",
       "Macan                   90381.47 -1967.142150  \n",
       "\n",
       "[258 rows x 7 columns]"
      ]
     },
     "execution_count": 201,
     "metadata": {},
     "output_type": "execute_result"
    }
   ],
   "source": [
    "for index, row in dataset.iterrows():\n",
    "    if (2019 - row['Ano'] != 0):\n",
    "        dataset.loc[index, \"km_media\"] = row['Quilometragem'] / 2019 - row['Ano']\n",
    "    else:\n",
    "        dataset.loc[index, \"km_media\"] = 0\n",
    "dataset"
   ]
  },
  {
   "cell_type": "markdown",
   "metadata": {
    "id": "HnUzHFQPD1Ba"
   },
   "source": [
    "# 5.5 Tratamento de dados"
   ]
  },
  {
   "cell_type": "code",
   "execution_count": 202,
   "metadata": {
    "id": "FRxBWoBGD1Ba"
   },
   "outputs": [
    {
     "data": {
      "text/html": [
       "<div>\n",
       "<style scoped>\n",
       "    .dataframe tbody tr th:only-of-type {\n",
       "        vertical-align: middle;\n",
       "    }\n",
       "\n",
       "    .dataframe tbody tr th {\n",
       "        vertical-align: top;\n",
       "    }\n",
       "\n",
       "    .dataframe thead th {\n",
       "        text-align: right;\n",
       "    }\n",
       "</style>\n",
       "<table border=\"1\" class=\"dataframe\">\n",
       "  <thead>\n",
       "    <tr style=\"text-align: right;\">\n",
       "      <th></th>\n",
       "      <th>Motor</th>\n",
       "      <th>Ano</th>\n",
       "      <th>Quilometragem</th>\n",
       "      <th>Zero_km</th>\n",
       "      <th>Acessórios</th>\n",
       "      <th>Valor</th>\n",
       "      <th>km_media</th>\n",
       "    </tr>\n",
       "    <tr>\n",
       "      <th>Nome</th>\n",
       "      <th></th>\n",
       "      <th></th>\n",
       "      <th></th>\n",
       "      <th></th>\n",
       "      <th></th>\n",
       "      <th></th>\n",
       "      <th></th>\n",
       "    </tr>\n",
       "  </thead>\n",
       "  <tbody>\n",
       "    <tr>\n",
       "      <th>Jetta Variant</th>\n",
       "      <td>Motor 4.0 Turbo</td>\n",
       "      <td>2003</td>\n",
       "      <td>44410.0</td>\n",
       "      <td>False</td>\n",
       "      <td>['Rodas de liga', 'Travas elétricas', 'Piloto ...</td>\n",
       "      <td>88078.64</td>\n",
       "      <td>-1981.003962</td>\n",
       "    </tr>\n",
       "    <tr>\n",
       "      <th>Passat</th>\n",
       "      <td>Motor Diesel</td>\n",
       "      <td>1991</td>\n",
       "      <td>5712.0</td>\n",
       "      <td>False</td>\n",
       "      <td>['Central multimídia', 'Teto panorâmico', 'Fre...</td>\n",
       "      <td>106161.94</td>\n",
       "      <td>-1988.170877</td>\n",
       "    </tr>\n",
       "    <tr>\n",
       "      <th>Crossfox</th>\n",
       "      <td>Motor Diesel V8</td>\n",
       "      <td>1990</td>\n",
       "      <td>37123.0</td>\n",
       "      <td>False</td>\n",
       "      <td>['Piloto automático', 'Controle de estabilidad...</td>\n",
       "      <td>72832.16</td>\n",
       "      <td>-1971.613175</td>\n",
       "    </tr>\n",
       "    <tr>\n",
       "      <th>DS5</th>\n",
       "      <td>Motor 2.4 Turbo</td>\n",
       "      <td>2019</td>\n",
       "      <td>NaN</td>\n",
       "      <td>True</td>\n",
       "      <td>['Travas elétricas', '4 X 4', 'Vidros elétrico...</td>\n",
       "      <td>124549.07</td>\n",
       "      <td>0.000000</td>\n",
       "    </tr>\n",
       "    <tr>\n",
       "      <th>Aston Martin DB4</th>\n",
       "      <td>Motor 2.4 Turbo</td>\n",
       "      <td>2006</td>\n",
       "      <td>25757.0</td>\n",
       "      <td>False</td>\n",
       "      <td>['Rodas de liga', '4 X 4', 'Central multimídia...</td>\n",
       "      <td>92612.10</td>\n",
       "      <td>-1993.242694</td>\n",
       "    </tr>\n",
       "  </tbody>\n",
       "</table>\n",
       "</div>"
      ],
      "text/plain": [
       "                            Motor   Ano  Quilometragem  Zero_km  \\\n",
       "Nome                                                              \n",
       "Jetta Variant     Motor 4.0 Turbo  2003        44410.0    False   \n",
       "Passat               Motor Diesel  1991         5712.0    False   \n",
       "Crossfox          Motor Diesel V8  1990        37123.0    False   \n",
       "DS5               Motor 2.4 Turbo  2019            NaN     True   \n",
       "Aston Martin DB4  Motor 2.4 Turbo  2006        25757.0    False   \n",
       "\n",
       "                                                         Acessórios  \\\n",
       "Nome                                                                  \n",
       "Jetta Variant     ['Rodas de liga', 'Travas elétricas', 'Piloto ...   \n",
       "Passat            ['Central multimídia', 'Teto panorâmico', 'Fre...   \n",
       "Crossfox          ['Piloto automático', 'Controle de estabilidad...   \n",
       "DS5               ['Travas elétricas', '4 X 4', 'Vidros elétrico...   \n",
       "Aston Martin DB4  ['Rodas de liga', '4 X 4', 'Central multimídia...   \n",
       "\n",
       "                      Valor     km_media  \n",
       "Nome                                      \n",
       "Jetta Variant      88078.64 -1981.003962  \n",
       "Passat            106161.94 -1988.170877  \n",
       "Crossfox           72832.16 -1971.613175  \n",
       "DS5               124549.07     0.000000  \n",
       "Aston Martin DB4   92612.10 -1993.242694  "
      ]
     },
     "execution_count": 202,
     "metadata": {},
     "output_type": "execute_result"
    }
   ],
   "source": [
    "dataset.head()"
   ]
  },
  {
   "cell_type": "code",
   "execution_count": 203,
   "metadata": {
    "id": "HHSwH0ZaD1Bc"
   },
   "outputs": [
    {
     "name": "stdout",
     "output_type": "stream",
     "text": [
      "<class 'pandas.core.frame.DataFrame'>\n",
      "Index: 258 entries, Jetta Variant to Macan\n",
      "Data columns (total 7 columns):\n",
      " #   Column         Non-Null Count  Dtype  \n",
      "---  ------         --------------  -----  \n",
      " 0   Motor          258 non-null    object \n",
      " 1   Ano            258 non-null    int64  \n",
      " 2   Quilometragem  197 non-null    float64\n",
      " 3   Zero_km        258 non-null    bool   \n",
      " 4   Acessórios     258 non-null    object \n",
      " 5   Valor          258 non-null    float64\n",
      " 6   km_media       258 non-null    float64\n",
      "dtypes: bool(1), float64(3), int64(1), object(2)\n",
      "memory usage: 24.4+ KB\n"
     ]
    }
   ],
   "source": [
    "dataset.info()"
   ]
  },
  {
   "cell_type": "code",
   "execution_count": 204,
   "metadata": {
    "id": "G27pxgZ5D1Bd",
    "scrolled": true
   },
   "outputs": [
    {
     "data": {
      "text/plain": [
       "Nome\n",
       "Jetta Variant            False\n",
       "Passat                   False\n",
       "Crossfox                 False\n",
       "DS5                       True\n",
       "Aston Martin DB4         False\n",
       "                         ...  \n",
       "Phantom 2013             False\n",
       "Cadillac Ciel concept    False\n",
       "Classe GLK               False\n",
       "Aston Martin DB5         False\n",
       "Macan                    False\n",
       "Name: Quilometragem, Length: 258, dtype: bool"
      ]
     },
     "execution_count": 204,
     "metadata": {},
     "output_type": "execute_result"
    }
   ],
   "source": [
    "dataset.Quilometragem.isna()"
   ]
  },
  {
   "cell_type": "code",
   "execution_count": 205,
   "metadata": {
    "id": "DhlRbxy2D1Bd",
    "scrolled": true
   },
   "outputs": [
    {
     "data": {
      "text/html": [
       "<div>\n",
       "<style scoped>\n",
       "    .dataframe tbody tr th:only-of-type {\n",
       "        vertical-align: middle;\n",
       "    }\n",
       "\n",
       "    .dataframe tbody tr th {\n",
       "        vertical-align: top;\n",
       "    }\n",
       "\n",
       "    .dataframe thead th {\n",
       "        text-align: right;\n",
       "    }\n",
       "</style>\n",
       "<table border=\"1\" class=\"dataframe\">\n",
       "  <thead>\n",
       "    <tr style=\"text-align: right;\">\n",
       "      <th></th>\n",
       "      <th>Motor</th>\n",
       "      <th>Ano</th>\n",
       "      <th>Quilometragem</th>\n",
       "      <th>Zero_km</th>\n",
       "      <th>Acessórios</th>\n",
       "      <th>Valor</th>\n",
       "      <th>km_media</th>\n",
       "    </tr>\n",
       "    <tr>\n",
       "      <th>Nome</th>\n",
       "      <th></th>\n",
       "      <th></th>\n",
       "      <th></th>\n",
       "      <th></th>\n",
       "      <th></th>\n",
       "      <th></th>\n",
       "      <th></th>\n",
       "    </tr>\n",
       "  </thead>\n",
       "  <tbody>\n",
       "    <tr>\n",
       "      <th>DS5</th>\n",
       "      <td>Motor 2.4 Turbo</td>\n",
       "      <td>2019</td>\n",
       "      <td>NaN</td>\n",
       "      <td>True</td>\n",
       "      <td>['Travas elétricas', '4 X 4', 'Vidros elétrico...</td>\n",
       "      <td>124549.07</td>\n",
       "      <td>0.0</td>\n",
       "    </tr>\n",
       "    <tr>\n",
       "      <th>A5</th>\n",
       "      <td>Motor 4.0 Turbo</td>\n",
       "      <td>2019</td>\n",
       "      <td>NaN</td>\n",
       "      <td>True</td>\n",
       "      <td>['Câmbio automático', 'Câmera de estacionament...</td>\n",
       "      <td>56445.20</td>\n",
       "      <td>0.0</td>\n",
       "    </tr>\n",
       "    <tr>\n",
       "      <th>J5</th>\n",
       "      <td>Motor V6</td>\n",
       "      <td>2019</td>\n",
       "      <td>NaN</td>\n",
       "      <td>True</td>\n",
       "      <td>['Sensor crepuscular', 'Painel digital', 'Roda...</td>\n",
       "      <td>53183.38</td>\n",
       "      <td>0.0</td>\n",
       "    </tr>\n",
       "    <tr>\n",
       "      <th>A3</th>\n",
       "      <td>Motor 1.0 8v</td>\n",
       "      <td>2019</td>\n",
       "      <td>NaN</td>\n",
       "      <td>True</td>\n",
       "      <td>['4 X 4', 'Piloto automático', 'Central multim...</td>\n",
       "      <td>88552.39</td>\n",
       "      <td>0.0</td>\n",
       "    </tr>\n",
       "    <tr>\n",
       "      <th>Série 1 M</th>\n",
       "      <td>Motor V8</td>\n",
       "      <td>2019</td>\n",
       "      <td>NaN</td>\n",
       "      <td>True</td>\n",
       "      <td>['Controle de estabilidade', 'Central multimíd...</td>\n",
       "      <td>94564.40</td>\n",
       "      <td>0.0</td>\n",
       "    </tr>\n",
       "    <tr>\n",
       "      <th>...</th>\n",
       "      <td>...</td>\n",
       "      <td>...</td>\n",
       "      <td>...</td>\n",
       "      <td>...</td>\n",
       "      <td>...</td>\n",
       "      <td>...</td>\n",
       "      <td>...</td>\n",
       "    </tr>\n",
       "    <tr>\n",
       "      <th>Lamborghini Reventón</th>\n",
       "      <td>Motor 4.0 Turbo</td>\n",
       "      <td>2019</td>\n",
       "      <td>NaN</td>\n",
       "      <td>True</td>\n",
       "      <td>['Controle de tração', 'Ar condicionado', 'Cen...</td>\n",
       "      <td>67664.86</td>\n",
       "      <td>0.0</td>\n",
       "    </tr>\n",
       "    <tr>\n",
       "      <th>Benni Mini</th>\n",
       "      <td>Motor V8</td>\n",
       "      <td>2019</td>\n",
       "      <td>NaN</td>\n",
       "      <td>True</td>\n",
       "      <td>['Sensor crepuscular', 'Câmbio automático', 'C...</td>\n",
       "      <td>126247.84</td>\n",
       "      <td>0.0</td>\n",
       "    </tr>\n",
       "    <tr>\n",
       "      <th>Uno</th>\n",
       "      <td>Motor Diesel V6</td>\n",
       "      <td>2019</td>\n",
       "      <td>NaN</td>\n",
       "      <td>True</td>\n",
       "      <td>['Central multimídia', 'Sensor crepuscular', '...</td>\n",
       "      <td>128852.21</td>\n",
       "      <td>0.0</td>\n",
       "    </tr>\n",
       "    <tr>\n",
       "      <th>Santa Fe</th>\n",
       "      <td>Motor 3.0 32v</td>\n",
       "      <td>2019</td>\n",
       "      <td>NaN</td>\n",
       "      <td>True</td>\n",
       "      <td>['Travas elétricas', 'Ar condicionado', '4 X 4...</td>\n",
       "      <td>129415.33</td>\n",
       "      <td>0.0</td>\n",
       "    </tr>\n",
       "    <tr>\n",
       "      <th>XC60</th>\n",
       "      <td>Motor 4.0 Turbo</td>\n",
       "      <td>2019</td>\n",
       "      <td>NaN</td>\n",
       "      <td>True</td>\n",
       "      <td>['Painel digital', 'Piloto automático', 'Centr...</td>\n",
       "      <td>77675.79</td>\n",
       "      <td>0.0</td>\n",
       "    </tr>\n",
       "  </tbody>\n",
       "</table>\n",
       "<p>61 rows × 7 columns</p>\n",
       "</div>"
      ],
      "text/plain": [
       "                                Motor   Ano  Quilometragem  Zero_km  \\\n",
       "Nome                                                                  \n",
       "DS5                   Motor 2.4 Turbo  2019            NaN     True   \n",
       "A5                    Motor 4.0 Turbo  2019            NaN     True   \n",
       "J5                           Motor V6  2019            NaN     True   \n",
       "A3                       Motor 1.0 8v  2019            NaN     True   \n",
       "Série 1 M                    Motor V8  2019            NaN     True   \n",
       "...                               ...   ...            ...      ...   \n",
       "Lamborghini Reventón  Motor 4.0 Turbo  2019            NaN     True   \n",
       "Benni Mini                   Motor V8  2019            NaN     True   \n",
       "Uno                   Motor Diesel V6  2019            NaN     True   \n",
       "Santa Fe                Motor 3.0 32v  2019            NaN     True   \n",
       "XC60                  Motor 4.0 Turbo  2019            NaN     True   \n",
       "\n",
       "                                                             Acessórios  \\\n",
       "Nome                                                                      \n",
       "DS5                   ['Travas elétricas', '4 X 4', 'Vidros elétrico...   \n",
       "A5                    ['Câmbio automático', 'Câmera de estacionament...   \n",
       "J5                    ['Sensor crepuscular', 'Painel digital', 'Roda...   \n",
       "A3                    ['4 X 4', 'Piloto automático', 'Central multim...   \n",
       "Série 1 M             ['Controle de estabilidade', 'Central multimíd...   \n",
       "...                                                                 ...   \n",
       "Lamborghini Reventón  ['Controle de tração', 'Ar condicionado', 'Cen...   \n",
       "Benni Mini            ['Sensor crepuscular', 'Câmbio automático', 'C...   \n",
       "Uno                   ['Central multimídia', 'Sensor crepuscular', '...   \n",
       "Santa Fe              ['Travas elétricas', 'Ar condicionado', '4 X 4...   \n",
       "XC60                  ['Painel digital', 'Piloto automático', 'Centr...   \n",
       "\n",
       "                          Valor  km_media  \n",
       "Nome                                       \n",
       "DS5                   124549.07       0.0  \n",
       "A5                     56445.20       0.0  \n",
       "J5                     53183.38       0.0  \n",
       "A3                     88552.39       0.0  \n",
       "Série 1 M              94564.40       0.0  \n",
       "...                         ...       ...  \n",
       "Lamborghini Reventón   67664.86       0.0  \n",
       "Benni Mini            126247.84       0.0  \n",
       "Uno                   128852.21       0.0  \n",
       "Santa Fe              129415.33       0.0  \n",
       "XC60                   77675.79       0.0  \n",
       "\n",
       "[61 rows x 7 columns]"
      ]
     },
     "execution_count": 205,
     "metadata": {},
     "output_type": "execute_result"
    }
   ],
   "source": [
    "dataset[dataset.Quilometragem.isna()]"
   ]
  },
  {
   "cell_type": "code",
   "execution_count": 206,
   "metadata": {
    "id": "OL04QU5RD1Be"
   },
   "outputs": [
    {
     "data": {
      "text/html": [
       "<div>\n",
       "<style scoped>\n",
       "    .dataframe tbody tr th:only-of-type {\n",
       "        vertical-align: middle;\n",
       "    }\n",
       "\n",
       "    .dataframe tbody tr th {\n",
       "        vertical-align: top;\n",
       "    }\n",
       "\n",
       "    .dataframe thead th {\n",
       "        text-align: right;\n",
       "    }\n",
       "</style>\n",
       "<table border=\"1\" class=\"dataframe\">\n",
       "  <thead>\n",
       "    <tr style=\"text-align: right;\">\n",
       "      <th></th>\n",
       "      <th>Motor</th>\n",
       "      <th>Ano</th>\n",
       "      <th>Quilometragem</th>\n",
       "      <th>Zero_km</th>\n",
       "      <th>Acessórios</th>\n",
       "      <th>Valor</th>\n",
       "      <th>km_media</th>\n",
       "    </tr>\n",
       "    <tr>\n",
       "      <th>Nome</th>\n",
       "      <th></th>\n",
       "      <th></th>\n",
       "      <th></th>\n",
       "      <th></th>\n",
       "      <th></th>\n",
       "      <th></th>\n",
       "      <th></th>\n",
       "    </tr>\n",
       "  </thead>\n",
       "  <tbody>\n",
       "    <tr>\n",
       "      <th>Jetta Variant</th>\n",
       "      <td>Motor 4.0 Turbo</td>\n",
       "      <td>2003</td>\n",
       "      <td>44410.0</td>\n",
       "      <td>False</td>\n",
       "      <td>['Rodas de liga', 'Travas elétricas', 'Piloto ...</td>\n",
       "      <td>88078.64</td>\n",
       "      <td>-1981.003962</td>\n",
       "    </tr>\n",
       "    <tr>\n",
       "      <th>Passat</th>\n",
       "      <td>Motor Diesel</td>\n",
       "      <td>1991</td>\n",
       "      <td>5712.0</td>\n",
       "      <td>False</td>\n",
       "      <td>['Central multimídia', 'Teto panorâmico', 'Fre...</td>\n",
       "      <td>106161.94</td>\n",
       "      <td>-1988.170877</td>\n",
       "    </tr>\n",
       "    <tr>\n",
       "      <th>Crossfox</th>\n",
       "      <td>Motor Diesel V8</td>\n",
       "      <td>1990</td>\n",
       "      <td>37123.0</td>\n",
       "      <td>False</td>\n",
       "      <td>['Piloto automático', 'Controle de estabilidad...</td>\n",
       "      <td>72832.16</td>\n",
       "      <td>-1971.613175</td>\n",
       "    </tr>\n",
       "    <tr>\n",
       "      <th>DS5</th>\n",
       "      <td>Motor 2.4 Turbo</td>\n",
       "      <td>2019</td>\n",
       "      <td>0.0</td>\n",
       "      <td>True</td>\n",
       "      <td>['Travas elétricas', '4 X 4', 'Vidros elétrico...</td>\n",
       "      <td>124549.07</td>\n",
       "      <td>0.000000</td>\n",
       "    </tr>\n",
       "    <tr>\n",
       "      <th>Aston Martin DB4</th>\n",
       "      <td>Motor 2.4 Turbo</td>\n",
       "      <td>2006</td>\n",
       "      <td>25757.0</td>\n",
       "      <td>False</td>\n",
       "      <td>['Rodas de liga', '4 X 4', 'Central multimídia...</td>\n",
       "      <td>92612.10</td>\n",
       "      <td>-1993.242694</td>\n",
       "    </tr>\n",
       "    <tr>\n",
       "      <th>...</th>\n",
       "      <td>...</td>\n",
       "      <td>...</td>\n",
       "      <td>...</td>\n",
       "      <td>...</td>\n",
       "      <td>...</td>\n",
       "      <td>...</td>\n",
       "      <td>...</td>\n",
       "    </tr>\n",
       "    <tr>\n",
       "      <th>Phantom 2013</th>\n",
       "      <td>Motor V8</td>\n",
       "      <td>2014</td>\n",
       "      <td>27505.0</td>\n",
       "      <td>False</td>\n",
       "      <td>['Controle de estabilidade', 'Piloto automátic...</td>\n",
       "      <td>51759.58</td>\n",
       "      <td>-2000.376919</td>\n",
       "    </tr>\n",
       "    <tr>\n",
       "      <th>Cadillac Ciel concept</th>\n",
       "      <td>Motor V8</td>\n",
       "      <td>1991</td>\n",
       "      <td>29981.0</td>\n",
       "      <td>False</td>\n",
       "      <td>['Bancos de couro', 'Painel digital', 'Sensor ...</td>\n",
       "      <td>51667.06</td>\n",
       "      <td>-1976.150570</td>\n",
       "    </tr>\n",
       "    <tr>\n",
       "      <th>Classe GLK</th>\n",
       "      <td>Motor 5.0 V8 Bi-Turbo</td>\n",
       "      <td>2002</td>\n",
       "      <td>52637.0</td>\n",
       "      <td>False</td>\n",
       "      <td>['Rodas de liga', 'Controle de tração', 'Câmbi...</td>\n",
       "      <td>68934.03</td>\n",
       "      <td>-1975.929173</td>\n",
       "    </tr>\n",
       "    <tr>\n",
       "      <th>Aston Martin DB5</th>\n",
       "      <td>Motor Diesel</td>\n",
       "      <td>1996</td>\n",
       "      <td>7685.0</td>\n",
       "      <td>False</td>\n",
       "      <td>['Ar condicionado', '4 X 4', 'Câmbio automátic...</td>\n",
       "      <td>122110.90</td>\n",
       "      <td>-1992.193660</td>\n",
       "    </tr>\n",
       "    <tr>\n",
       "      <th>Macan</th>\n",
       "      <td>Motor Diesel V6</td>\n",
       "      <td>1992</td>\n",
       "      <td>50188.0</td>\n",
       "      <td>False</td>\n",
       "      <td>['Central multimídia', 'Teto panorâmico', 'Vid...</td>\n",
       "      <td>90381.47</td>\n",
       "      <td>-1967.142150</td>\n",
       "    </tr>\n",
       "  </tbody>\n",
       "</table>\n",
       "<p>258 rows × 7 columns</p>\n",
       "</div>"
      ],
      "text/plain": [
       "                                       Motor   Ano  Quilometragem  Zero_km  \\\n",
       "Nome                                                                         \n",
       "Jetta Variant                Motor 4.0 Turbo  2003        44410.0    False   \n",
       "Passat                          Motor Diesel  1991         5712.0    False   \n",
       "Crossfox                     Motor Diesel V8  1990        37123.0    False   \n",
       "DS5                          Motor 2.4 Turbo  2019            0.0     True   \n",
       "Aston Martin DB4             Motor 2.4 Turbo  2006        25757.0    False   \n",
       "...                                      ...   ...            ...      ...   \n",
       "Phantom 2013                        Motor V8  2014        27505.0    False   \n",
       "Cadillac Ciel concept               Motor V8  1991        29981.0    False   \n",
       "Classe GLK             Motor 5.0 V8 Bi-Turbo  2002        52637.0    False   \n",
       "Aston Martin DB5                Motor Diesel  1996         7685.0    False   \n",
       "Macan                        Motor Diesel V6  1992        50188.0    False   \n",
       "\n",
       "                                                              Acessórios  \\\n",
       "Nome                                                                       \n",
       "Jetta Variant          ['Rodas de liga', 'Travas elétricas', 'Piloto ...   \n",
       "Passat                 ['Central multimídia', 'Teto panorâmico', 'Fre...   \n",
       "Crossfox               ['Piloto automático', 'Controle de estabilidad...   \n",
       "DS5                    ['Travas elétricas', '4 X 4', 'Vidros elétrico...   \n",
       "Aston Martin DB4       ['Rodas de liga', '4 X 4', 'Central multimídia...   \n",
       "...                                                                  ...   \n",
       "Phantom 2013           ['Controle de estabilidade', 'Piloto automátic...   \n",
       "Cadillac Ciel concept  ['Bancos de couro', 'Painel digital', 'Sensor ...   \n",
       "Classe GLK             ['Rodas de liga', 'Controle de tração', 'Câmbi...   \n",
       "Aston Martin DB5       ['Ar condicionado', '4 X 4', 'Câmbio automátic...   \n",
       "Macan                  ['Central multimídia', 'Teto panorâmico', 'Vid...   \n",
       "\n",
       "                           Valor     km_media  \n",
       "Nome                                           \n",
       "Jetta Variant           88078.64 -1981.003962  \n",
       "Passat                 106161.94 -1988.170877  \n",
       "Crossfox                72832.16 -1971.613175  \n",
       "DS5                    124549.07     0.000000  \n",
       "Aston Martin DB4        92612.10 -1993.242694  \n",
       "...                          ...          ...  \n",
       "Phantom 2013            51759.58 -2000.376919  \n",
       "Cadillac Ciel concept   51667.06 -1976.150570  \n",
       "Classe GLK              68934.03 -1975.929173  \n",
       "Aston Martin DB5       122110.90 -1992.193660  \n",
       "Macan                   90381.47 -1967.142150  \n",
       "\n",
       "[258 rows x 7 columns]"
      ]
     },
     "execution_count": 206,
     "metadata": {},
     "output_type": "execute_result"
    }
   ],
   "source": [
    "dataset.fillna(0, inplace = True)\n",
    "dataset"
   ]
  },
  {
   "cell_type": "code",
   "execution_count": 207,
   "metadata": {
    "id": "fTH2JkGDD1Bf",
    "scrolled": true
   },
   "outputs": [
    {
     "data": {
      "text/html": [
       "<div>\n",
       "<style scoped>\n",
       "    .dataframe tbody tr th:only-of-type {\n",
       "        vertical-align: middle;\n",
       "    }\n",
       "\n",
       "    .dataframe tbody tr th {\n",
       "        vertical-align: top;\n",
       "    }\n",
       "\n",
       "    .dataframe thead th {\n",
       "        text-align: right;\n",
       "    }\n",
       "</style>\n",
       "<table border=\"1\" class=\"dataframe\">\n",
       "  <thead>\n",
       "    <tr style=\"text-align: right;\">\n",
       "      <th></th>\n",
       "      <th>Motor</th>\n",
       "      <th>Ano</th>\n",
       "      <th>Quilometragem</th>\n",
       "      <th>Zero_km</th>\n",
       "      <th>Acessórios</th>\n",
       "      <th>Valor</th>\n",
       "      <th>km_media</th>\n",
       "    </tr>\n",
       "    <tr>\n",
       "      <th>Nome</th>\n",
       "      <th></th>\n",
       "      <th></th>\n",
       "      <th></th>\n",
       "      <th></th>\n",
       "      <th></th>\n",
       "      <th></th>\n",
       "      <th></th>\n",
       "    </tr>\n",
       "  </thead>\n",
       "  <tbody>\n",
       "    <tr>\n",
       "      <th>DS5</th>\n",
       "      <td>Motor 2.4 Turbo</td>\n",
       "      <td>2019</td>\n",
       "      <td>0.0</td>\n",
       "      <td>True</td>\n",
       "      <td>['Travas elétricas', '4 X 4', 'Vidros elétrico...</td>\n",
       "      <td>124549.07</td>\n",
       "      <td>0.0</td>\n",
       "    </tr>\n",
       "    <tr>\n",
       "      <th>A5</th>\n",
       "      <td>Motor 4.0 Turbo</td>\n",
       "      <td>2019</td>\n",
       "      <td>0.0</td>\n",
       "      <td>True</td>\n",
       "      <td>['Câmbio automático', 'Câmera de estacionament...</td>\n",
       "      <td>56445.20</td>\n",
       "      <td>0.0</td>\n",
       "    </tr>\n",
       "    <tr>\n",
       "      <th>J5</th>\n",
       "      <td>Motor V6</td>\n",
       "      <td>2019</td>\n",
       "      <td>0.0</td>\n",
       "      <td>True</td>\n",
       "      <td>['Sensor crepuscular', 'Painel digital', 'Roda...</td>\n",
       "      <td>53183.38</td>\n",
       "      <td>0.0</td>\n",
       "    </tr>\n",
       "    <tr>\n",
       "      <th>A3</th>\n",
       "      <td>Motor 1.0 8v</td>\n",
       "      <td>2019</td>\n",
       "      <td>0.0</td>\n",
       "      <td>True</td>\n",
       "      <td>['4 X 4', 'Piloto automático', 'Central multim...</td>\n",
       "      <td>88552.39</td>\n",
       "      <td>0.0</td>\n",
       "    </tr>\n",
       "    <tr>\n",
       "      <th>Série 1 M</th>\n",
       "      <td>Motor V8</td>\n",
       "      <td>2019</td>\n",
       "      <td>0.0</td>\n",
       "      <td>True</td>\n",
       "      <td>['Controle de estabilidade', 'Central multimíd...</td>\n",
       "      <td>94564.40</td>\n",
       "      <td>0.0</td>\n",
       "    </tr>\n",
       "    <tr>\n",
       "      <th>...</th>\n",
       "      <td>...</td>\n",
       "      <td>...</td>\n",
       "      <td>...</td>\n",
       "      <td>...</td>\n",
       "      <td>...</td>\n",
       "      <td>...</td>\n",
       "      <td>...</td>\n",
       "    </tr>\n",
       "    <tr>\n",
       "      <th>Lamborghini Reventón</th>\n",
       "      <td>Motor 4.0 Turbo</td>\n",
       "      <td>2019</td>\n",
       "      <td>0.0</td>\n",
       "      <td>True</td>\n",
       "      <td>['Controle de tração', 'Ar condicionado', 'Cen...</td>\n",
       "      <td>67664.86</td>\n",
       "      <td>0.0</td>\n",
       "    </tr>\n",
       "    <tr>\n",
       "      <th>Benni Mini</th>\n",
       "      <td>Motor V8</td>\n",
       "      <td>2019</td>\n",
       "      <td>0.0</td>\n",
       "      <td>True</td>\n",
       "      <td>['Sensor crepuscular', 'Câmbio automático', 'C...</td>\n",
       "      <td>126247.84</td>\n",
       "      <td>0.0</td>\n",
       "    </tr>\n",
       "    <tr>\n",
       "      <th>Uno</th>\n",
       "      <td>Motor Diesel V6</td>\n",
       "      <td>2019</td>\n",
       "      <td>0.0</td>\n",
       "      <td>True</td>\n",
       "      <td>['Central multimídia', 'Sensor crepuscular', '...</td>\n",
       "      <td>128852.21</td>\n",
       "      <td>0.0</td>\n",
       "    </tr>\n",
       "    <tr>\n",
       "      <th>Santa Fe</th>\n",
       "      <td>Motor 3.0 32v</td>\n",
       "      <td>2019</td>\n",
       "      <td>0.0</td>\n",
       "      <td>True</td>\n",
       "      <td>['Travas elétricas', 'Ar condicionado', '4 X 4...</td>\n",
       "      <td>129415.33</td>\n",
       "      <td>0.0</td>\n",
       "    </tr>\n",
       "    <tr>\n",
       "      <th>XC60</th>\n",
       "      <td>Motor 4.0 Turbo</td>\n",
       "      <td>2019</td>\n",
       "      <td>0.0</td>\n",
       "      <td>True</td>\n",
       "      <td>['Painel digital', 'Piloto automático', 'Centr...</td>\n",
       "      <td>77675.79</td>\n",
       "      <td>0.0</td>\n",
       "    </tr>\n",
       "  </tbody>\n",
       "</table>\n",
       "<p>61 rows × 7 columns</p>\n",
       "</div>"
      ],
      "text/plain": [
       "                                Motor   Ano  Quilometragem  Zero_km  \\\n",
       "Nome                                                                  \n",
       "DS5                   Motor 2.4 Turbo  2019            0.0     True   \n",
       "A5                    Motor 4.0 Turbo  2019            0.0     True   \n",
       "J5                           Motor V6  2019            0.0     True   \n",
       "A3                       Motor 1.0 8v  2019            0.0     True   \n",
       "Série 1 M                    Motor V8  2019            0.0     True   \n",
       "...                               ...   ...            ...      ...   \n",
       "Lamborghini Reventón  Motor 4.0 Turbo  2019            0.0     True   \n",
       "Benni Mini                   Motor V8  2019            0.0     True   \n",
       "Uno                   Motor Diesel V6  2019            0.0     True   \n",
       "Santa Fe                Motor 3.0 32v  2019            0.0     True   \n",
       "XC60                  Motor 4.0 Turbo  2019            0.0     True   \n",
       "\n",
       "                                                             Acessórios  \\\n",
       "Nome                                                                      \n",
       "DS5                   ['Travas elétricas', '4 X 4', 'Vidros elétrico...   \n",
       "A5                    ['Câmbio automático', 'Câmera de estacionament...   \n",
       "J5                    ['Sensor crepuscular', 'Painel digital', 'Roda...   \n",
       "A3                    ['4 X 4', 'Piloto automático', 'Central multim...   \n",
       "Série 1 M             ['Controle de estabilidade', 'Central multimíd...   \n",
       "...                                                                 ...   \n",
       "Lamborghini Reventón  ['Controle de tração', 'Ar condicionado', 'Cen...   \n",
       "Benni Mini            ['Sensor crepuscular', 'Câmbio automático', 'C...   \n",
       "Uno                   ['Central multimídia', 'Sensor crepuscular', '...   \n",
       "Santa Fe              ['Travas elétricas', 'Ar condicionado', '4 X 4...   \n",
       "XC60                  ['Painel digital', 'Piloto automático', 'Centr...   \n",
       "\n",
       "                          Valor  km_media  \n",
       "Nome                                       \n",
       "DS5                   124549.07       0.0  \n",
       "A5                     56445.20       0.0  \n",
       "J5                     53183.38       0.0  \n",
       "A3                     88552.39       0.0  \n",
       "Série 1 M              94564.40       0.0  \n",
       "...                         ...       ...  \n",
       "Lamborghini Reventón   67664.86       0.0  \n",
       "Benni Mini            126247.84       0.0  \n",
       "Uno                   128852.21       0.0  \n",
       "Santa Fe              129415.33       0.0  \n",
       "XC60                   77675.79       0.0  \n",
       "\n",
       "[61 rows x 7 columns]"
      ]
     },
     "execution_count": 207,
     "metadata": {},
     "output_type": "execute_result"
    }
   ],
   "source": [
    "dataset.query('Zero_km == True')"
   ]
  },
  {
   "cell_type": "code",
   "execution_count": 213,
   "metadata": {
    "id": "lure2GvpD1Bg"
   },
   "outputs": [],
   "source": [
    "dataset = pd.read_csv('db.csv', sep=';')\n",
    "dataset.dropna(subset = ['Quilometragem'], inplace = True)"
   ]
  },
  {
   "cell_type": "code",
   "execution_count": 214,
   "metadata": {
    "id": "4-ZvhXjvD1Bj"
   },
   "outputs": [
    {
     "data": {
      "text/html": [
       "<div>\n",
       "<style scoped>\n",
       "    .dataframe tbody tr th:only-of-type {\n",
       "        vertical-align: middle;\n",
       "    }\n",
       "\n",
       "    .dataframe tbody tr th {\n",
       "        vertical-align: top;\n",
       "    }\n",
       "\n",
       "    .dataframe thead th {\n",
       "        text-align: right;\n",
       "    }\n",
       "</style>\n",
       "<table border=\"1\" class=\"dataframe\">\n",
       "  <thead>\n",
       "    <tr style=\"text-align: right;\">\n",
       "      <th></th>\n",
       "      <th>Nome</th>\n",
       "      <th>Motor</th>\n",
       "      <th>Ano</th>\n",
       "      <th>Quilometragem</th>\n",
       "      <th>Zero_km</th>\n",
       "      <th>Acessórios</th>\n",
       "      <th>Valor</th>\n",
       "    </tr>\n",
       "  </thead>\n",
       "  <tbody>\n",
       "    <tr>\n",
       "      <th>0</th>\n",
       "      <td>Jetta Variant</td>\n",
       "      <td>Motor 4.0 Turbo</td>\n",
       "      <td>2003</td>\n",
       "      <td>44410.0</td>\n",
       "      <td>False</td>\n",
       "      <td>['Rodas de liga', 'Travas elétricas', 'Piloto ...</td>\n",
       "      <td>88078.64</td>\n",
       "    </tr>\n",
       "    <tr>\n",
       "      <th>1</th>\n",
       "      <td>Passat</td>\n",
       "      <td>Motor Diesel</td>\n",
       "      <td>1991</td>\n",
       "      <td>5712.0</td>\n",
       "      <td>False</td>\n",
       "      <td>['Central multimídia', 'Teto panorâmico', 'Fre...</td>\n",
       "      <td>106161.94</td>\n",
       "    </tr>\n",
       "    <tr>\n",
       "      <th>2</th>\n",
       "      <td>Crossfox</td>\n",
       "      <td>Motor Diesel V8</td>\n",
       "      <td>1990</td>\n",
       "      <td>37123.0</td>\n",
       "      <td>False</td>\n",
       "      <td>['Piloto automático', 'Controle de estabilidad...</td>\n",
       "      <td>72832.16</td>\n",
       "    </tr>\n",
       "    <tr>\n",
       "      <th>4</th>\n",
       "      <td>Aston Martin DB4</td>\n",
       "      <td>Motor 2.4 Turbo</td>\n",
       "      <td>2006</td>\n",
       "      <td>25757.0</td>\n",
       "      <td>False</td>\n",
       "      <td>['Rodas de liga', '4 X 4', 'Central multimídia...</td>\n",
       "      <td>92612.10</td>\n",
       "    </tr>\n",
       "    <tr>\n",
       "      <th>5</th>\n",
       "      <td>Palio Weekend</td>\n",
       "      <td>Motor 1.8 16v</td>\n",
       "      <td>2012</td>\n",
       "      <td>10728.0</td>\n",
       "      <td>False</td>\n",
       "      <td>['Sensor de estacionamento', 'Teto panorâmico'...</td>\n",
       "      <td>97497.73</td>\n",
       "    </tr>\n",
       "    <tr>\n",
       "      <th>...</th>\n",
       "      <td>...</td>\n",
       "      <td>...</td>\n",
       "      <td>...</td>\n",
       "      <td>...</td>\n",
       "      <td>...</td>\n",
       "      <td>...</td>\n",
       "      <td>...</td>\n",
       "    </tr>\n",
       "    <tr>\n",
       "      <th>253</th>\n",
       "      <td>Phantom 2013</td>\n",
       "      <td>Motor V8</td>\n",
       "      <td>2014</td>\n",
       "      <td>27505.0</td>\n",
       "      <td>False</td>\n",
       "      <td>['Controle de estabilidade', 'Piloto automátic...</td>\n",
       "      <td>51759.58</td>\n",
       "    </tr>\n",
       "    <tr>\n",
       "      <th>254</th>\n",
       "      <td>Cadillac Ciel concept</td>\n",
       "      <td>Motor V8</td>\n",
       "      <td>1991</td>\n",
       "      <td>29981.0</td>\n",
       "      <td>False</td>\n",
       "      <td>['Bancos de couro', 'Painel digital', 'Sensor ...</td>\n",
       "      <td>51667.06</td>\n",
       "    </tr>\n",
       "    <tr>\n",
       "      <th>255</th>\n",
       "      <td>Classe GLK</td>\n",
       "      <td>Motor 5.0 V8 Bi-Turbo</td>\n",
       "      <td>2002</td>\n",
       "      <td>52637.0</td>\n",
       "      <td>False</td>\n",
       "      <td>['Rodas de liga', 'Controle de tração', 'Câmbi...</td>\n",
       "      <td>68934.03</td>\n",
       "    </tr>\n",
       "    <tr>\n",
       "      <th>256</th>\n",
       "      <td>Aston Martin DB5</td>\n",
       "      <td>Motor Diesel</td>\n",
       "      <td>1996</td>\n",
       "      <td>7685.0</td>\n",
       "      <td>False</td>\n",
       "      <td>['Ar condicionado', '4 X 4', 'Câmbio automátic...</td>\n",
       "      <td>122110.90</td>\n",
       "    </tr>\n",
       "    <tr>\n",
       "      <th>257</th>\n",
       "      <td>Macan</td>\n",
       "      <td>Motor Diesel V6</td>\n",
       "      <td>1992</td>\n",
       "      <td>50188.0</td>\n",
       "      <td>False</td>\n",
       "      <td>['Central multimídia', 'Teto panorâmico', 'Vid...</td>\n",
       "      <td>90381.47</td>\n",
       "    </tr>\n",
       "  </tbody>\n",
       "</table>\n",
       "<p>197 rows × 7 columns</p>\n",
       "</div>"
      ],
      "text/plain": [
       "                      Nome                  Motor   Ano  Quilometragem  \\\n",
       "0            Jetta Variant        Motor 4.0 Turbo  2003        44410.0   \n",
       "1                   Passat           Motor Diesel  1991         5712.0   \n",
       "2                 Crossfox        Motor Diesel V8  1990        37123.0   \n",
       "4         Aston Martin DB4        Motor 2.4 Turbo  2006        25757.0   \n",
       "5            Palio Weekend          Motor 1.8 16v  2012        10728.0   \n",
       "..                     ...                    ...   ...            ...   \n",
       "253           Phantom 2013               Motor V8  2014        27505.0   \n",
       "254  Cadillac Ciel concept               Motor V8  1991        29981.0   \n",
       "255             Classe GLK  Motor 5.0 V8 Bi-Turbo  2002        52637.0   \n",
       "256       Aston Martin DB5           Motor Diesel  1996         7685.0   \n",
       "257                  Macan        Motor Diesel V6  1992        50188.0   \n",
       "\n",
       "     Zero_km                                         Acessórios      Valor  \n",
       "0      False  ['Rodas de liga', 'Travas elétricas', 'Piloto ...   88078.64  \n",
       "1      False  ['Central multimídia', 'Teto panorâmico', 'Fre...  106161.94  \n",
       "2      False  ['Piloto automático', 'Controle de estabilidad...   72832.16  \n",
       "4      False  ['Rodas de liga', '4 X 4', 'Central multimídia...   92612.10  \n",
       "5      False  ['Sensor de estacionamento', 'Teto panorâmico'...   97497.73  \n",
       "..       ...                                                ...        ...  \n",
       "253    False  ['Controle de estabilidade', 'Piloto automátic...   51759.58  \n",
       "254    False  ['Bancos de couro', 'Painel digital', 'Sensor ...   51667.06  \n",
       "255    False  ['Rodas de liga', 'Controle de tração', 'Câmbi...   68934.03  \n",
       "256    False  ['Ar condicionado', '4 X 4', 'Câmbio automátic...  122110.90  \n",
       "257    False  ['Central multimídia', 'Teto panorâmico', 'Vid...   90381.47  \n",
       "\n",
       "[197 rows x 7 columns]"
      ]
     },
     "execution_count": 214,
     "metadata": {},
     "output_type": "execute_result"
    }
   ],
   "source": [
    "dataset"
   ]
  },
  {
   "cell_type": "code",
   "execution_count": null,
   "metadata": {
    "id": "MQUw7i1OD1Bk",
    "scrolled": true
   },
   "outputs": [],
   "source": []
  },
  {
   "cell_type": "code",
   "execution_count": null,
   "metadata": {
    "id": "U4Cse7miD1Bl"
   },
   "outputs": [],
   "source": []
  },
  {
   "cell_type": "code",
   "execution_count": null,
   "metadata": {
    "id": "8L4wum05D1Bl",
    "scrolled": true
   },
   "outputs": [],
   "source": []
  },
  {
   "cell_type": "code",
   "execution_count": null,
   "metadata": {
    "id": "8iLOc-U3D1Bm"
   },
   "outputs": [],
   "source": []
  }
 ],
 "metadata": {
  "colab": {
   "name": "Python_para_Data_Science_Pandas.ipynb",
   "provenance": [],
   "toc_visible": true
  },
  "kernelspec": {
   "display_name": "Python 3",
   "language": "python",
   "name": "python3"
  },
  "language_info": {
   "codemirror_mode": {
    "name": "ipython",
    "version": 3
   },
   "file_extension": ".py",
   "mimetype": "text/x-python",
   "name": "python",
   "nbconvert_exporter": "python",
   "pygments_lexer": "ipython3",
   "version": "3.6.13"
  }
 },
 "nbformat": 4,
 "nbformat_minor": 1
}
