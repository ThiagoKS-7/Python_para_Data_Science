{
 "cells": [
  {
   "cell_type": "code",
   "execution_count": 3,
   "id": "fa41930e",
   "metadata": {},
   "outputs": [
    {
     "data": {
      "text/html": [
       "<div>\n",
       "<style scoped>\n",
       "    .dataframe tbody tr th:only-of-type {\n",
       "        vertical-align: middle;\n",
       "    }\n",
       "\n",
       "    .dataframe tbody tr th {\n",
       "        vertical-align: top;\n",
       "    }\n",
       "\n",
       "    .dataframe thead th {\n",
       "        text-align: right;\n",
       "    }\n",
       "</style>\n",
       "<table border=\"1\" class=\"dataframe\">\n",
       "  <thead>\n",
       "    <tr style=\"text-align: right;\">\n",
       "      <th></th>\n",
       "      <th>home</th>\n",
       "      <th>how_it_works</th>\n",
       "      <th>contact</th>\n",
       "      <th>bought</th>\n",
       "    </tr>\n",
       "  </thead>\n",
       "  <tbody>\n",
       "    <tr>\n",
       "      <th>0</th>\n",
       "      <td>1</td>\n",
       "      <td>1</td>\n",
       "      <td>0</td>\n",
       "      <td>0</td>\n",
       "    </tr>\n",
       "    <tr>\n",
       "      <th>1</th>\n",
       "      <td>1</td>\n",
       "      <td>1</td>\n",
       "      <td>0</td>\n",
       "      <td>0</td>\n",
       "    </tr>\n",
       "    <tr>\n",
       "      <th>2</th>\n",
       "      <td>1</td>\n",
       "      <td>1</td>\n",
       "      <td>0</td>\n",
       "      <td>0</td>\n",
       "    </tr>\n",
       "    <tr>\n",
       "      <th>3</th>\n",
       "      <td>1</td>\n",
       "      <td>1</td>\n",
       "      <td>0</td>\n",
       "      <td>0</td>\n",
       "    </tr>\n",
       "    <tr>\n",
       "      <th>4</th>\n",
       "      <td>1</td>\n",
       "      <td>1</td>\n",
       "      <td>0</td>\n",
       "      <td>0</td>\n",
       "    </tr>\n",
       "  </tbody>\n",
       "</table>\n",
       "</div>"
      ],
      "text/plain": [
       "   home  how_it_works  contact  bought\n",
       "0     1             1        0       0\n",
       "1     1             1        0       0\n",
       "2     1             1        0       0\n",
       "3     1             1        0       0\n",
       "4     1             1        0       0"
      ]
     },
     "execution_count": 3,
     "metadata": {},
     "output_type": "execute_result"
    }
   ],
   "source": [
    "import pandas as pd\n",
    "\n",
    "uri  = 'https://gist.githubusercontent.com/guilhermesilveira/2d2efa37d66b6c84a722ea627a897ced/raw/10968b997d885cbded1c92938c7a9912ba41c615/tracking.csv'\n",
    "dataset = pd.read_csv(uri)\n",
    "dataset.head()\n"
   ]
  },
  {
   "cell_type": "code",
   "execution_count": 4,
   "id": "6b7ffe69",
   "metadata": {},
   "outputs": [
    {
     "name": "stdout",
     "output_type": "stream",
     "text": [
      "<class 'pandas.core.frame.DataFrame'>\n",
      "RangeIndex: 99 entries, 0 to 98\n",
      "Data columns (total 4 columns):\n",
      " #   Column        Non-Null Count  Dtype\n",
      "---  ------        --------------  -----\n",
      " 0   home          99 non-null     int64\n",
      " 1   how_it_works  99 non-null     int64\n",
      " 2   contact       99 non-null     int64\n",
      " 3   bought        99 non-null     int64\n",
      "dtypes: int64(4)\n",
      "memory usage: 3.2 KB\n"
     ]
    }
   ],
   "source": [
    "dataset.info()"
   ]
  },
  {
   "cell_type": "code",
   "execution_count": 5,
   "id": "92ef8baa",
   "metadata": {},
   "outputs": [],
   "source": [
    "mapa = {\n",
    "    \"home\" : \"principal\",\n",
    "    \"how_it_works\" : \"como_funciona\",\n",
    "    \"contact\" : \"contato\",\n",
    "    \"bought\": \"comprado\"\n",
    "}\n",
    "dataset.rename(columns = mapa, inplace = True)"
   ]
  },
  {
   "cell_type": "markdown",
   "id": "4ef960fc",
   "metadata": {},
   "source": [
    "### Conforme o curso, é necessário separar as 3 colunas para criar o train_x"
   ]
  },
  {
   "cell_type": "code",
   "execution_count": 6,
   "id": "52b80799",
   "metadata": {},
   "outputs": [],
   "source": [
    "x = dataset[['principal', 'como_funciona', 'contato']] # LEMBRA: 2 COLCHETE = DATAFRAME\n",
    "y = dataset['comprado'] # PRECISA SER SERIES PRA NÃO BUGAR O FIT "
   ]
  },
  {
   "cell_type": "code",
   "execution_count": 8,
   "id": "85b8ae82",
   "metadata": {},
   "outputs": [
    {
     "name": "stdout",
     "output_type": "stream",
     "text": [
      "<class 'pandas.core.frame.DataFrame'>\n"
     ]
    }
   ],
   "source": [
    "x.head()\n",
    "print(type(x))"
   ]
  },
  {
   "cell_type": "code",
   "execution_count": 77,
   "id": "d8d7c3bc",
   "metadata": {},
   "outputs": [
    {
     "data": {
      "text/plain": [
       "0    0\n",
       "1    0\n",
       "2    0\n",
       "3    0\n",
       "4    0\n",
       "Name: comprado, dtype: int64"
      ]
     },
     "execution_count": 77,
     "metadata": {},
     "output_type": "execute_result"
    }
   ],
   "source": [
    "y.head()"
   ]
  },
  {
   "cell_type": "code",
   "execution_count": 78,
   "id": "509f9e41",
   "metadata": {},
   "outputs": [
    {
     "data": {
      "text/plain": [
       "(99, 4)"
      ]
     },
     "execution_count": 78,
     "metadata": {},
     "output_type": "execute_result"
    }
   ],
   "source": [
    "dataset.shape"
   ]
  },
  {
   "cell_type": "code",
   "execution_count": 151,
   "id": "4ee01b83",
   "metadata": {},
   "outputs": [
    {
     "name": "stdout",
     "output_type": "stream",
     "text": [
      "Número de elementos: train_X - 75, train_Y - 75  test_X - 24, test_Y - 24\n"
     ]
    }
   ],
   "source": [
    "from sklearn.model_selection import train_test_split\n",
    "train_x, test_x, train_y, test_y = train_test_split(x , y, test_size = 0.24)\n",
    "print(f'Número de elementos: train_X - {len(train_x)}, train_Y - {len(train_y)}  test_X - {len(test_x)}, test_Y - {len(test_y)}')"
   ]
  },
  {
   "cell_type": "code",
   "execution_count": 152,
   "id": "6f6ed60e",
   "metadata": {
    "scrolled": true
   },
   "outputs": [
    {
     "data": {
      "text/plain": [
       "LinearSVC()"
      ]
     },
     "execution_count": 152,
     "metadata": {},
     "output_type": "execute_result"
    }
   ],
   "source": [
    "from sklearn.svm import LinearSVC\n",
    "model = LinearSVC()\n",
    "model.fit(train_x, train_y)"
   ]
  },
  {
   "cell_type": "code",
   "execution_count": 153,
   "id": "6df5752f",
   "metadata": {},
   "outputs": [
    {
     "name": "stdout",
     "output_type": "stream",
     "text": [
      "O resultado dos testes foi: ['Não comprou', 'Não comprou', 'Não comprou', 'Comprou', 'Não comprou', 'Não comprou', 'Não comprou', 'Comprou', 'Comprou', 'Não comprou', 'Não comprou', 'Não comprou', 'Não comprou', 'Comprou', 'Não comprou', 'Comprou', 'Comprou', 'Não comprou', 'Não comprou', 'Comprou', 'Não comprou', 'Não comprou', 'Não comprou', 'Comprou']\n"
     ]
    }
   ],
   "source": [
    "predict = model.predict(test_x)\n",
    "results = []\n",
    "bought = (predict == 1).sum()\n",
    "percent = (bought/ len(predict)) * 100\n",
    "for item in predict:\n",
    "    if (item == 1):\n",
    "        results.append('Comprou')\n",
    "    else:\n",
    "        results.append('Não comprou')\n",
    "print(f'O resultado dos testes foi: {results}')"
   ]
  },
  {
   "cell_type": "code",
   "execution_count": 154,
   "id": "69e6fac4",
   "metadata": {},
   "outputs": [
    {
     "name": "stdout",
     "output_type": "stream",
     "text": [
      "A precisão foi de 95.83%\n"
     ]
    }
   ],
   "source": [
    "from sklearn.metrics import accuracy_score\n",
    "acc = accuracy_score(test_y,predict) * 100\n",
    "print(f'A precisão foi de {round(acc,2)}%')"
   ]
  },
  {
   "cell_type": "code",
   "execution_count": 155,
   "id": "2e34641e",
   "metadata": {},
   "outputs": [
    {
     "name": "stdout",
     "output_type": "stream",
     "text": [
      "Conclusão: 8 das 24 pessoas compraram, o que vale a 33.33% dos clientes\n"
     ]
    },
    {
     "data": {
      "text/html": [
       "<div>\n",
       "<style scoped>\n",
       "    .dataframe tbody tr th:only-of-type {\n",
       "        vertical-align: middle;\n",
       "    }\n",
       "\n",
       "    .dataframe tbody tr th {\n",
       "        vertical-align: top;\n",
       "    }\n",
       "\n",
       "    .dataframe thead th {\n",
       "        text-align: right;\n",
       "    }\n",
       "</style>\n",
       "<table border=\"1\" class=\"dataframe\">\n",
       "  <thead>\n",
       "    <tr style=\"text-align: right;\">\n",
       "      <th></th>\n",
       "      <th>Aquisições de cada cliente</th>\n",
       "    </tr>\n",
       "  </thead>\n",
       "  <tbody>\n",
       "    <tr>\n",
       "      <th>0</th>\n",
       "      <td>Não comprou</td>\n",
       "    </tr>\n",
       "    <tr>\n",
       "      <th>1</th>\n",
       "      <td>Não comprou</td>\n",
       "    </tr>\n",
       "    <tr>\n",
       "      <th>2</th>\n",
       "      <td>Não comprou</td>\n",
       "    </tr>\n",
       "    <tr>\n",
       "      <th>3</th>\n",
       "      <td>Comprou</td>\n",
       "    </tr>\n",
       "    <tr>\n",
       "      <th>4</th>\n",
       "      <td>Não comprou</td>\n",
       "    </tr>\n",
       "    <tr>\n",
       "      <th>5</th>\n",
       "      <td>Não comprou</td>\n",
       "    </tr>\n",
       "    <tr>\n",
       "      <th>6</th>\n",
       "      <td>Não comprou</td>\n",
       "    </tr>\n",
       "    <tr>\n",
       "      <th>7</th>\n",
       "      <td>Comprou</td>\n",
       "    </tr>\n",
       "    <tr>\n",
       "      <th>8</th>\n",
       "      <td>Comprou</td>\n",
       "    </tr>\n",
       "    <tr>\n",
       "      <th>9</th>\n",
       "      <td>Não comprou</td>\n",
       "    </tr>\n",
       "    <tr>\n",
       "      <th>10</th>\n",
       "      <td>Não comprou</td>\n",
       "    </tr>\n",
       "    <tr>\n",
       "      <th>11</th>\n",
       "      <td>Não comprou</td>\n",
       "    </tr>\n",
       "    <tr>\n",
       "      <th>12</th>\n",
       "      <td>Não comprou</td>\n",
       "    </tr>\n",
       "    <tr>\n",
       "      <th>13</th>\n",
       "      <td>Comprou</td>\n",
       "    </tr>\n",
       "    <tr>\n",
       "      <th>14</th>\n",
       "      <td>Não comprou</td>\n",
       "    </tr>\n",
       "    <tr>\n",
       "      <th>15</th>\n",
       "      <td>Comprou</td>\n",
       "    </tr>\n",
       "    <tr>\n",
       "      <th>16</th>\n",
       "      <td>Comprou</td>\n",
       "    </tr>\n",
       "    <tr>\n",
       "      <th>17</th>\n",
       "      <td>Não comprou</td>\n",
       "    </tr>\n",
       "    <tr>\n",
       "      <th>18</th>\n",
       "      <td>Não comprou</td>\n",
       "    </tr>\n",
       "    <tr>\n",
       "      <th>19</th>\n",
       "      <td>Comprou</td>\n",
       "    </tr>\n",
       "    <tr>\n",
       "      <th>20</th>\n",
       "      <td>Não comprou</td>\n",
       "    </tr>\n",
       "    <tr>\n",
       "      <th>21</th>\n",
       "      <td>Não comprou</td>\n",
       "    </tr>\n",
       "    <tr>\n",
       "      <th>22</th>\n",
       "      <td>Não comprou</td>\n",
       "    </tr>\n",
       "    <tr>\n",
       "      <th>23</th>\n",
       "      <td>Comprou</td>\n",
       "    </tr>\n",
       "  </tbody>\n",
       "</table>\n",
       "</div>"
      ],
      "text/plain": [
       "   Aquisições de cada cliente\n",
       "0                 Não comprou\n",
       "1                 Não comprou\n",
       "2                 Não comprou\n",
       "3                     Comprou\n",
       "4                 Não comprou\n",
       "5                 Não comprou\n",
       "6                 Não comprou\n",
       "7                     Comprou\n",
       "8                     Comprou\n",
       "9                 Não comprou\n",
       "10                Não comprou\n",
       "11                Não comprou\n",
       "12                Não comprou\n",
       "13                    Comprou\n",
       "14                Não comprou\n",
       "15                    Comprou\n",
       "16                    Comprou\n",
       "17                Não comprou\n",
       "18                Não comprou\n",
       "19                    Comprou\n",
       "20                Não comprou\n",
       "21                Não comprou\n",
       "22                Não comprou\n",
       "23                    Comprou"
      ]
     },
     "execution_count": 155,
     "metadata": {},
     "output_type": "execute_result"
    }
   ],
   "source": [
    "print(f'Conclusão: {bought} das {len(predict)} pessoas compraram, o que vale a {round(percent,2)}% dos clientes')\n",
    "results = {\n",
    "    \"Aquisições de cada cliente\" : results\n",
    "}\n",
    "table = pd.DataFrame(results)\n",
    "\n",
    "table"
   ]
  },
  {
   "cell_type": "markdown",
   "id": "69f8039a",
   "metadata": {},
   "source": [
    "# Usando Train_test_split"
   ]
  },
  {
   "cell_type": "code",
   "execution_count": 182,
   "id": "3fa53319",
   "metadata": {},
   "outputs": [
    {
     "name": "stdout",
     "output_type": "stream",
     "text": [
      "Número de elementos: train_X - 75, train_Y - 75  test_X - 24, test_Y - 24\n",
      "\n",
      "O resultado dos testes foi: ['Não comprou', 'Comprou', 'Comprou', 'Não comprou', 'Não comprou', 'Não comprou', 'Comprou', 'Não comprou', 'Não comprou', 'Comprou', 'Não comprou', 'Não comprou', 'Não comprou', 'Não comprou', 'Não comprou', 'Não comprou', 'Não comprou', 'Não comprou', 'Comprou', 'Não comprou', 'Não comprou', 'Comprou', 'Não comprou', 'Comprou']\n",
      "\n",
      "A precisão foi de 95.83%\n",
      "Conclusão: 7 das 24 pessoas compraram, o que vale a 29.17% dos clientes\n"
     ]
    },
    {
     "data": {
      "text/html": [
       "<div>\n",
       "<style scoped>\n",
       "    .dataframe tbody tr th:only-of-type {\n",
       "        vertical-align: middle;\n",
       "    }\n",
       "\n",
       "    .dataframe tbody tr th {\n",
       "        vertical-align: top;\n",
       "    }\n",
       "\n",
       "    .dataframe thead th {\n",
       "        text-align: right;\n",
       "    }\n",
       "</style>\n",
       "<table border=\"1\" class=\"dataframe\">\n",
       "  <thead>\n",
       "    <tr style=\"text-align: right;\">\n",
       "      <th></th>\n",
       "      <th>Aquisições de cada cliente</th>\n",
       "    </tr>\n",
       "  </thead>\n",
       "  <tbody>\n",
       "    <tr>\n",
       "      <th>0</th>\n",
       "      <td>Não comprou</td>\n",
       "    </tr>\n",
       "    <tr>\n",
       "      <th>1</th>\n",
       "      <td>Comprou</td>\n",
       "    </tr>\n",
       "    <tr>\n",
       "      <th>2</th>\n",
       "      <td>Comprou</td>\n",
       "    </tr>\n",
       "    <tr>\n",
       "      <th>3</th>\n",
       "      <td>Não comprou</td>\n",
       "    </tr>\n",
       "    <tr>\n",
       "      <th>4</th>\n",
       "      <td>Não comprou</td>\n",
       "    </tr>\n",
       "    <tr>\n",
       "      <th>5</th>\n",
       "      <td>Não comprou</td>\n",
       "    </tr>\n",
       "    <tr>\n",
       "      <th>6</th>\n",
       "      <td>Comprou</td>\n",
       "    </tr>\n",
       "    <tr>\n",
       "      <th>7</th>\n",
       "      <td>Não comprou</td>\n",
       "    </tr>\n",
       "    <tr>\n",
       "      <th>8</th>\n",
       "      <td>Não comprou</td>\n",
       "    </tr>\n",
       "    <tr>\n",
       "      <th>9</th>\n",
       "      <td>Comprou</td>\n",
       "    </tr>\n",
       "    <tr>\n",
       "      <th>10</th>\n",
       "      <td>Não comprou</td>\n",
       "    </tr>\n",
       "    <tr>\n",
       "      <th>11</th>\n",
       "      <td>Não comprou</td>\n",
       "    </tr>\n",
       "    <tr>\n",
       "      <th>12</th>\n",
       "      <td>Não comprou</td>\n",
       "    </tr>\n",
       "    <tr>\n",
       "      <th>13</th>\n",
       "      <td>Não comprou</td>\n",
       "    </tr>\n",
       "    <tr>\n",
       "      <th>14</th>\n",
       "      <td>Não comprou</td>\n",
       "    </tr>\n",
       "    <tr>\n",
       "      <th>15</th>\n",
       "      <td>Não comprou</td>\n",
       "    </tr>\n",
       "    <tr>\n",
       "      <th>16</th>\n",
       "      <td>Não comprou</td>\n",
       "    </tr>\n",
       "    <tr>\n",
       "      <th>17</th>\n",
       "      <td>Não comprou</td>\n",
       "    </tr>\n",
       "    <tr>\n",
       "      <th>18</th>\n",
       "      <td>Comprou</td>\n",
       "    </tr>\n",
       "    <tr>\n",
       "      <th>19</th>\n",
       "      <td>Não comprou</td>\n",
       "    </tr>\n",
       "    <tr>\n",
       "      <th>20</th>\n",
       "      <td>Não comprou</td>\n",
       "    </tr>\n",
       "    <tr>\n",
       "      <th>21</th>\n",
       "      <td>Comprou</td>\n",
       "    </tr>\n",
       "    <tr>\n",
       "      <th>22</th>\n",
       "      <td>Não comprou</td>\n",
       "    </tr>\n",
       "    <tr>\n",
       "      <th>23</th>\n",
       "      <td>Comprou</td>\n",
       "    </tr>\n",
       "  </tbody>\n",
       "</table>\n",
       "</div>"
      ],
      "text/plain": [
       "   Aquisições de cada cliente\n",
       "0                 Não comprou\n",
       "1                     Comprou\n",
       "2                     Comprou\n",
       "3                 Não comprou\n",
       "4                 Não comprou\n",
       "5                 Não comprou\n",
       "6                     Comprou\n",
       "7                 Não comprou\n",
       "8                 Não comprou\n",
       "9                     Comprou\n",
       "10                Não comprou\n",
       "11                Não comprou\n",
       "12                Não comprou\n",
       "13                Não comprou\n",
       "14                Não comprou\n",
       "15                Não comprou\n",
       "16                Não comprou\n",
       "17                Não comprou\n",
       "18                    Comprou\n",
       "19                Não comprou\n",
       "20                Não comprou\n",
       "21                    Comprou\n",
       "22                Não comprou\n",
       "23                    Comprou"
      ]
     },
     "execution_count": 182,
     "metadata": {},
     "output_type": "execute_result"
    }
   ],
   "source": [
    "from sklearn.model_selection import train_test_split\n",
    "from sklearn.svm import LinearSVC\n",
    "from sklearn.metrics import accuracy_score\n",
    "\n",
    "SEED = 20\n",
    "\n",
    "train_x, test_x, train_y, test_y = train_test_split(x , y, random_state = SEED, test_size = 0.24, stratify = y)\n",
    "\n",
    "print(f'Número de elementos: train_X - {len(train_x)}, train_Y - {len(train_y)}  test_X - {len(test_x)}, test_Y - {len(test_y)}')\n",
    "print()\n",
    "model = LinearSVC()\n",
    "model.fit(train_x, train_y)\n",
    "\n",
    "predict = model.predict(test_x)\n",
    "results = []\n",
    "bought = (predict == 1).sum()\n",
    "percent = (bought/ len(predict)) * 100\n",
    "for item in predict:\n",
    "    if (item == 1):\n",
    "        results.append('Comprou')\n",
    "    else:\n",
    "        results.append('Não comprou')\n",
    "print(f'O resultado dos testes foi: {results}')\n",
    "print()\n",
    "\n",
    "acc = accuracy_score(test_y,predict) * 100\n",
    "print(f'A precisão foi de {round(acc,2)}%')\n",
    "\n",
    "print(f'Conclusão: {bought} das {len(predict)} pessoas compraram, o que vale a {round(percent,2)}% dos clientes')\n",
    "results = {\n",
    "    \"Aquisições de cada cliente\" : results\n",
    "}\n",
    "table = pd.DataFrame(results)\n",
    "\n",
    "table"
   ]
  },
  {
   "cell_type": "code",
   "execution_count": null,
   "id": "a343a5fd",
   "metadata": {},
   "outputs": [],
   "source": []
  },
  {
   "cell_type": "code",
   "execution_count": null,
   "id": "1d27f831",
   "metadata": {},
   "outputs": [],
   "source": []
  }
 ],
 "metadata": {
  "kernelspec": {
   "display_name": "Python 3",
   "language": "python",
   "name": "python3"
  },
  "language_info": {
   "codemirror_mode": {
    "name": "ipython",
    "version": 3
   },
   "file_extension": ".py",
   "mimetype": "text/x-python",
   "name": "python",
   "nbconvert_exporter": "python",
   "pygments_lexer": "ipython3",
   "version": "3.6.13"
  }
 },
 "nbformat": 4,
 "nbformat_minor": 5
}
